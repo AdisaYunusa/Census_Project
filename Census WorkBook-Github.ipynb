{
 "cells": [
  {
   "cell_type": "code",
   "execution_count": 1,
   "id": "c468ad9a",
   "metadata": {},
   "outputs": [],
   "source": [
    "#Importing all necessary libraries.\n",
    "\n",
    "import csv\n",
    "import pandas as pd\n",
    "import seaborn as sns\n",
    "import matplotlib.pyplot as plt\n",
    "import numpy as np\n",
    "%matplotlib inline"
   ]
  },
  {
   "cell_type": "code",
   "execution_count": 2,
   "id": "6f52b5ba",
   "metadata": {},
   "outputs": [],
   "source": [
    "#Reading data from the census csv file.\n",
    "\n",
    "census_df = pd.read_csv(\"census20.csv\")"
   ]
  },
  {
   "cell_type": "code",
   "execution_count": 3,
   "id": "9a6995d0",
   "metadata": {},
   "outputs": [
    {
     "name": "stdout",
     "output_type": "stream",
     "text": [
      "<class 'pandas.core.frame.DataFrame'>\n",
      "RangeIndex: 8577 entries, 0 to 8576\n",
      "Data columns (total 11 columns):\n",
      " #   Column                         Non-Null Count  Dtype  \n",
      "---  ------                         --------------  -----  \n",
      " 0   House Number                   8577 non-null   int64  \n",
      " 1   Street                         8577 non-null   object \n",
      " 2   First Name                     8577 non-null   object \n",
      " 3   Surname                        8577 non-null   object \n",
      " 4   Age                            8577 non-null   float64\n",
      " 5   Relationship to Head of House  8577 non-null   object \n",
      " 6   Marital Status                 6492 non-null   object \n",
      " 7   Gender                         8577 non-null   object \n",
      " 8   Occupation                     8577 non-null   object \n",
      " 9   Infirmity                      8577 non-null   object \n",
      " 10  Religion                       6445 non-null   object \n",
      "dtypes: float64(1), int64(1), object(9)\n",
      "memory usage: 737.2+ KB\n"
     ]
    }
   ],
   "source": [
    "#Getting an overview information of the dataset.\n",
    "\n",
    "census_df.info()"
   ]
  },
  {
   "cell_type": "markdown",
   "id": "291acec7",
   "metadata": {},
   "source": [
    "From the output above it can be found that there are 8577 entries with 11 columns that was read from the csv file. Two colums namely the Marital Status and Religion contains some missing values. Except from the Age column, every other columns are in the correct data type. Later in the review of each columns, the data type of the Age column would be changed from float to int."
   ]
  },
  {
   "cell_type": "code",
   "execution_count": 4,
   "id": "05db6e86",
   "metadata": {},
   "outputs": [
    {
     "data": {
      "text/plain": [
       "House Number                        0\n",
       "Street                              0\n",
       "First Name                          0\n",
       "Surname                             0\n",
       "Age                                 0\n",
       "Relationship to Head of House       0\n",
       "Marital Status                   2085\n",
       "Gender                              0\n",
       "Occupation                          0\n",
       "Infirmity                           0\n",
       "Religion                         2132\n",
       "dtype: int64"
      ]
     },
     "execution_count": 4,
     "metadata": {},
     "output_type": "execute_result"
    }
   ],
   "source": [
    "#Retrieving information about non-null in the dataset.\n",
    "\n",
    "census_df.isna().sum()"
   ]
  },
  {
   "cell_type": "markdown",
   "id": "520383ed",
   "metadata": {},
   "source": [
    "The Marital Status and Religion columns have 2085 and 2132 null values respectively."
   ]
  },
  {
   "cell_type": "code",
   "execution_count": 5,
   "id": "0a173932",
   "metadata": {},
   "outputs": [
    {
     "data": {
      "text/plain": [
       "0"
      ]
     },
     "execution_count": 5,
     "metadata": {},
     "output_type": "execute_result"
    }
   ],
   "source": [
    "#Retrieving information about duplicate records in the dataset.\n",
    "\n",
    "census_df.duplicated().sum()"
   ]
  },
  {
   "cell_type": "markdown",
   "id": "827b0f63",
   "metadata": {},
   "source": [
    "There are no duplicate records in the dataset."
   ]
  },
  {
   "cell_type": "code",
   "execution_count": 6,
   "id": "2af44d90",
   "metadata": {
    "scrolled": true
   },
   "outputs": [
    {
     "data": {
      "text/html": [
       "<div>\n",
       "<style scoped>\n",
       "    .dataframe tbody tr th:only-of-type {\n",
       "        vertical-align: middle;\n",
       "    }\n",
       "\n",
       "    .dataframe tbody tr th {\n",
       "        vertical-align: top;\n",
       "    }\n",
       "\n",
       "    .dataframe thead th {\n",
       "        text-align: right;\n",
       "    }\n",
       "</style>\n",
       "<table border=\"1\" class=\"dataframe\">\n",
       "  <thead>\n",
       "    <tr style=\"text-align: right;\">\n",
       "      <th></th>\n",
       "      <th>House Number</th>\n",
       "      <th>Street</th>\n",
       "      <th>First Name</th>\n",
       "      <th>Surname</th>\n",
       "      <th>Age</th>\n",
       "      <th>Relationship to Head of House</th>\n",
       "      <th>Marital Status</th>\n",
       "      <th>Gender</th>\n",
       "      <th>Occupation</th>\n",
       "      <th>Infirmity</th>\n",
       "      <th>Religion</th>\n",
       "    </tr>\n",
       "  </thead>\n",
       "  <tbody>\n",
       "    <tr>\n",
       "      <th>0</th>\n",
       "      <td>1</td>\n",
       "      <td>Turkey Gardens</td>\n",
       "      <td>Alexander</td>\n",
       "      <td>Macdonald</td>\n",
       "      <td>21.0</td>\n",
       "      <td>Head</td>\n",
       "      <td>Married</td>\n",
       "      <td>Male</td>\n",
       "      <td>Sports development officer</td>\n",
       "      <td>None</td>\n",
       "      <td>None</td>\n",
       "    </tr>\n",
       "    <tr>\n",
       "      <th>1</th>\n",
       "      <td>1</td>\n",
       "      <td>Turkey Gardens</td>\n",
       "      <td>Yvonne</td>\n",
       "      <td>Macdonald</td>\n",
       "      <td>19.0</td>\n",
       "      <td>Wife</td>\n",
       "      <td>Married</td>\n",
       "      <td>Female</td>\n",
       "      <td>University Student</td>\n",
       "      <td>None</td>\n",
       "      <td>None</td>\n",
       "    </tr>\n",
       "    <tr>\n",
       "      <th>2</th>\n",
       "      <td>2</td>\n",
       "      <td>Turkey Gardens</td>\n",
       "      <td>Louise</td>\n",
       "      <td>Taylor</td>\n",
       "      <td>38.0</td>\n",
       "      <td>Head</td>\n",
       "      <td>Divorced</td>\n",
       "      <td>Female</td>\n",
       "      <td>Mining engineer</td>\n",
       "      <td>None</td>\n",
       "      <td>Christian</td>\n",
       "    </tr>\n",
       "    <tr>\n",
       "      <th>3</th>\n",
       "      <td>2</td>\n",
       "      <td>Turkey Gardens</td>\n",
       "      <td>Philip</td>\n",
       "      <td>Harding</td>\n",
       "      <td>55.0</td>\n",
       "      <td>Visitor</td>\n",
       "      <td>Single</td>\n",
       "      <td>Male</td>\n",
       "      <td>Quarry manager</td>\n",
       "      <td>None</td>\n",
       "      <td>Christian</td>\n",
       "    </tr>\n",
       "    <tr>\n",
       "      <th>4</th>\n",
       "      <td>3</td>\n",
       "      <td>Turkey Gardens</td>\n",
       "      <td>Rachael</td>\n",
       "      <td>Evans</td>\n",
       "      <td>78.0</td>\n",
       "      <td>Head</td>\n",
       "      <td>Widowed</td>\n",
       "      <td>Female</td>\n",
       "      <td>Retired Freight forwarder</td>\n",
       "      <td>None</td>\n",
       "      <td>Christian</td>\n",
       "    </tr>\n",
       "    <tr>\n",
       "      <th>5</th>\n",
       "      <td>3</td>\n",
       "      <td>Turkey Gardens</td>\n",
       "      <td>Hugh</td>\n",
       "      <td>Evans</td>\n",
       "      <td>39.0</td>\n",
       "      <td>Son</td>\n",
       "      <td>Single</td>\n",
       "      <td>Male</td>\n",
       "      <td>Pilot, airline</td>\n",
       "      <td>None</td>\n",
       "      <td>Christian</td>\n",
       "    </tr>\n",
       "    <tr>\n",
       "      <th>6</th>\n",
       "      <td>3</td>\n",
       "      <td>Turkey Gardens</td>\n",
       "      <td>Graham</td>\n",
       "      <td>Evans</td>\n",
       "      <td>38.0</td>\n",
       "      <td>Son</td>\n",
       "      <td>Divorced</td>\n",
       "      <td>Male</td>\n",
       "      <td>Scientist, research (medical)</td>\n",
       "      <td>None</td>\n",
       "      <td>Christian</td>\n",
       "    </tr>\n",
       "    <tr>\n",
       "      <th>7</th>\n",
       "      <td>3</td>\n",
       "      <td>Turkey Gardens</td>\n",
       "      <td>Alexandra</td>\n",
       "      <td>Evans</td>\n",
       "      <td>38.0</td>\n",
       "      <td>Daughter</td>\n",
       "      <td>Single</td>\n",
       "      <td>Female</td>\n",
       "      <td>Administrator</td>\n",
       "      <td>None</td>\n",
       "      <td>None</td>\n",
       "    </tr>\n",
       "    <tr>\n",
       "      <th>8</th>\n",
       "      <td>3</td>\n",
       "      <td>Turkey Gardens</td>\n",
       "      <td>Holly</td>\n",
       "      <td>Evans</td>\n",
       "      <td>36.0</td>\n",
       "      <td>Daughter</td>\n",
       "      <td>Single</td>\n",
       "      <td>Female</td>\n",
       "      <td>Psychiatric nurse</td>\n",
       "      <td>None</td>\n",
       "      <td>Christian</td>\n",
       "    </tr>\n",
       "    <tr>\n",
       "      <th>9</th>\n",
       "      <td>4</td>\n",
       "      <td>Turkey Gardens</td>\n",
       "      <td>Martyn</td>\n",
       "      <td>Nicholson</td>\n",
       "      <td>34.0</td>\n",
       "      <td>Head</td>\n",
       "      <td>Single</td>\n",
       "      <td>Male</td>\n",
       "      <td>Hospital doctor</td>\n",
       "      <td>None</td>\n",
       "      <td>None</td>\n",
       "    </tr>\n",
       "  </tbody>\n",
       "</table>\n",
       "</div>"
      ],
      "text/plain": [
       "   House Number          Street First Name    Surname   Age  \\\n",
       "0             1  Turkey Gardens  Alexander  Macdonald  21.0   \n",
       "1             1  Turkey Gardens     Yvonne  Macdonald  19.0   \n",
       "2             2  Turkey Gardens     Louise     Taylor  38.0   \n",
       "3             2  Turkey Gardens     Philip    Harding  55.0   \n",
       "4             3  Turkey Gardens    Rachael      Evans  78.0   \n",
       "5             3  Turkey Gardens       Hugh      Evans  39.0   \n",
       "6             3  Turkey Gardens     Graham      Evans  38.0   \n",
       "7             3  Turkey Gardens  Alexandra      Evans  38.0   \n",
       "8             3  Turkey Gardens      Holly      Evans  36.0   \n",
       "9             4  Turkey Gardens     Martyn  Nicholson  34.0   \n",
       "\n",
       "  Relationship to Head of House Marital Status  Gender  \\\n",
       "0                          Head        Married    Male   \n",
       "1                          Wife        Married  Female   \n",
       "2                          Head       Divorced  Female   \n",
       "3                       Visitor         Single    Male   \n",
       "4                          Head        Widowed  Female   \n",
       "5                           Son         Single    Male   \n",
       "6                           Son       Divorced    Male   \n",
       "7                      Daughter         Single  Female   \n",
       "8                      Daughter         Single  Female   \n",
       "9                          Head         Single    Male   \n",
       "\n",
       "                      Occupation Infirmity   Religion  \n",
       "0     Sports development officer      None       None  \n",
       "1             University Student      None       None  \n",
       "2                Mining engineer      None  Christian  \n",
       "3                 Quarry manager      None  Christian  \n",
       "4      Retired Freight forwarder      None  Christian  \n",
       "5                 Pilot, airline      None  Christian  \n",
       "6  Scientist, research (medical)      None  Christian  \n",
       "7                  Administrator      None       None  \n",
       "8              Psychiatric nurse      None  Christian  \n",
       "9                Hospital doctor      None       None  "
      ]
     },
     "execution_count": 6,
     "metadata": {},
     "output_type": "execute_result"
    }
   ],
   "source": [
    "#Viewing the first 10 rows of the dataframe.\n",
    "\n",
    "census_df.head(10)"
   ]
  },
  {
   "cell_type": "markdown",
   "id": "343ad671",
   "metadata": {},
   "source": [
    "# Analyzing and rectifying each columns."
   ]
  },
  {
   "cell_type": "markdown",
   "id": "70e7d9b6",
   "metadata": {},
   "source": [
    "## House Number Column"
   ]
  },
  {
   "cell_type": "code",
   "execution_count": 7,
   "id": "3b0f1807",
   "metadata": {},
   "outputs": [
    {
     "data": {
      "text/plain": [
       "array([  1,   2,   3,   4,   5,   6,   7,   8,   9,  10,  11,  12,  13,\n",
       "        14,  15,  16,  17,  18,  19,  20,  21,  22,  23,  24,  25,  26,\n",
       "        27,  28,  29,  30,  31,  32,  33,  34,  35,  36,  37,  38,  39,\n",
       "        40,  41,  42,  43,  44,  45,  46,  47,  48,  49,  50,  51,  52,\n",
       "        53,  54,  55,  56,  57,  58,  59,  60,  61,  62,  63,  64,  65,\n",
       "        66,  67,  68,  69,  70,  71,  72,  73,  74,  75,  76,  77,  78,\n",
       "        79,  80,  81,  82,  83,  84,  85,  86,  87,  88,  89,  90,  91,\n",
       "        92,  93,  94,  95,  96,  97,  98,  99, 100, 101, 102, 103, 104,\n",
       "       105, 106, 107, 108, 109, 110, 111, 112, 113, 114, 115, 116, 117,\n",
       "       118, 119, 120, 121, 122, 123, 124, 125, 126, 127, 128, 129, 130,\n",
       "       131, 132, 133, 134, 135, 136, 137, 138, 139, 140, 141, 142, 143,\n",
       "       144, 145, 146, 147, 148, 149, 150, 151, 152, 153, 154, 155, 156,\n",
       "       157, 158, 159, 160, 161, 162, 163, 164, 165, 166, 167, 168, 169,\n",
       "       170, 171, 172, 173, 174, 175, 176, 177, 178, 179, 180, 181, 182,\n",
       "       183, 184, 185, 186, 187, 188, 189, 190, 191, 192, 193, 194, 195,\n",
       "       196, 197, 198, 199, 200, 201, 202, 203, 204, 205, 206, 207, 208,\n",
       "       209, 210, 211, 212, 213, 214, 215, 216, 217, 218, 219, 220],\n",
       "      dtype=int64)"
      ]
     },
     "execution_count": 7,
     "metadata": {},
     "output_type": "execute_result"
    }
   ],
   "source": [
    "#Checking the unique values of the House Number column.\n",
    "\n",
    "census_df[\"House Number\"].unique()"
   ]
  },
  {
   "cell_type": "code",
   "execution_count": 8,
   "id": "8d3d0648",
   "metadata": {},
   "outputs": [
    {
     "data": {
      "text/html": [
       "<div>\n",
       "<style scoped>\n",
       "    .dataframe tbody tr th:only-of-type {\n",
       "        vertical-align: middle;\n",
       "    }\n",
       "\n",
       "    .dataframe tbody tr th {\n",
       "        vertical-align: top;\n",
       "    }\n",
       "\n",
       "    .dataframe thead th {\n",
       "        text-align: right;\n",
       "    }\n",
       "</style>\n",
       "<table border=\"1\" class=\"dataframe\">\n",
       "  <thead>\n",
       "    <tr style=\"text-align: right;\">\n",
       "      <th></th>\n",
       "      <th>House Number</th>\n",
       "      <th>Street</th>\n",
       "      <th>First Name</th>\n",
       "      <th>Surname</th>\n",
       "      <th>Age</th>\n",
       "      <th>Relationship to Head of House</th>\n",
       "      <th>Marital Status</th>\n",
       "      <th>Gender</th>\n",
       "      <th>Occupation</th>\n",
       "      <th>Infirmity</th>\n",
       "      <th>Religion</th>\n",
       "    </tr>\n",
       "  </thead>\n",
       "  <tbody>\n",
       "  </tbody>\n",
       "</table>\n",
       "</div>"
      ],
      "text/plain": [
       "Empty DataFrame\n",
       "Columns: [House Number, Street, First Name, Surname, Age, Relationship to Head of House, Marital Status, Gender, Occupation, Infirmity, Religion]\n",
       "Index: []"
      ]
     },
     "execution_count": 8,
     "metadata": {},
     "output_type": "execute_result"
    }
   ],
   "source": [
    "#Checking for missing value in the House Number column.\n",
    "\n",
    "census_df[census_df[\"House Number\"] == \" \"]"
   ]
  },
  {
   "cell_type": "markdown",
   "id": "60324894",
   "metadata": {},
   "source": [
    "There are empty missing values in the House Number column."
   ]
  },
  {
   "cell_type": "markdown",
   "id": "1845a951",
   "metadata": {},
   "source": [
    "## Street Column"
   ]
  },
  {
   "cell_type": "code",
   "execution_count": 9,
   "id": "58a438df",
   "metadata": {},
   "outputs": [
    {
     "data": {
      "text/plain": [
       "array(['Turkey Gardens', 'Howarth Drive', 'Knight Greens', 'Ahmed Haven',\n",
       "       'Summer Crescent', 'Dunn Spur', 'Barlow Pike', 'Charlton Avenue',\n",
       "       'Steele Falls', 'Marsh Road', 'Aberdeen Knolls', 'Column Avenue',\n",
       "       'Singh Forge', 'Polaris Crescent', 'Chemist Port', 'Webster Drive',\n",
       "       'Wilson Forge', 'Haymarketbond Road', 'Chapman Trace',\n",
       "       'Rosetap Road', 'Knight Corner', 'Silverpush Crescent',\n",
       "       'Wilson Views', 'Faith Street', 'Clearwater Road', 'Allen Drive',\n",
       "       'Parrot Crescent', 'Unitedpack Lane', 'Obelisk Orchard',\n",
       "       'George Drive', 'Harvey Dale', 'Francis Field', 'Hughes Road',\n",
       "       'Wales Crescent', 'Corporation Road', 'Edwards Points',\n",
       "       'Stoke Harbors', 'Dundee Pass', 'Stationloom Street',\n",
       "       'Coconut Keys', 'James Rapid', 'Goldfinch Avenue',\n",
       "       'Aethelstan Pass', 'Penny Square', 'May Road', 'Ryan Greens',\n",
       "       'Smith Divide', 'Wright Road', 'Unity Avenue',\n",
       "       'Westminstertun Crescent', 'Cannon Groves', 'Snapdragon Drive',\n",
       "       'Davies Rapids', 'Roberts Drives', 'Read Wells', 'Smith Vista',\n",
       "       'Repton Drive', 'Summerrow Road', 'Lightning Causeway',\n",
       "       'Charity Road', 'Knight River', 'Whitehall Road', 'Iron Point',\n",
       "       'Salisbury Manor', 'Pugh Drive', 'Gill Hill', 'December Road',\n",
       "       'Young Drive', 'Bishop Lane', 'Moore Forges', 'Morgan Mill',\n",
       "       'Bennett Squares', 'Egbert Trafficway', 'Lambert Circle',\n",
       "       'Salford Curve', 'Marigold Street', 'Minster Road',\n",
       "       'Lancelot Summit', 'Windy Skyway', 'Hussain Street',\n",
       "       'Pantherchain Lane', 'Moss Drive', 'Waterloo Park',\n",
       "       'Bishop Tunnel', 'Lees Drive', 'Potts Valley', 'Kennedy Freeway',\n",
       "       'Williams Plains', 'Albans Crescent', 'Baker Warehouse',\n",
       "       'Coates Mansion', 'Jenkins Warehouse', 'Humphreys Farmhouse',\n",
       "       'Iris Castle', 'Peterborough Bastion', 'West Fortress',\n",
       "       'Riley Lighthouse', 'William Farmhouse', 'Edwards Delve',\n",
       "       'Yates Windmill', 'Reindeer Folly', 'Norwich Bastion',\n",
       "       'Simmons Delve', 'Lomond Manor'], dtype=object)"
      ]
     },
     "execution_count": 9,
     "metadata": {},
     "output_type": "execute_result"
    }
   ],
   "source": [
    "#Checking the unique values of the Street column.\n",
    "\n",
    "census_df[\"Street\"].unique()"
   ]
  },
  {
   "cell_type": "markdown",
   "id": "06dc030b",
   "metadata": {},
   "source": [
    "There are empty missing values in the House Number column."
   ]
  },
  {
   "cell_type": "markdown",
   "id": "621e3fcf",
   "metadata": {},
   "source": [
    "## First Name Column"
   ]
  },
  {
   "cell_type": "code",
   "execution_count": 10,
   "id": "b52289c8",
   "metadata": {},
   "outputs": [
    {
     "data": {
      "text/plain": [
       "array(['Alexander', 'Yvonne', 'Louise', 'Philip', 'Rachael', 'Hugh',\n",
       "       'Graham', 'Alexandra', 'Holly', 'Martyn', 'Katie', 'Maureen',\n",
       "       'Lucy', 'Sean', 'Christian', 'Georgina', 'Ben', 'Jill', 'Julia',\n",
       "       'Gerard', 'Hilary', 'Bryan', 'Bethan', 'Rebecca', 'Jordan',\n",
       "       'Naomi', 'Louis', 'Zoe', 'Joanna', 'Damien', 'Dominic', 'Cameron',\n",
       "       'Henry', 'Kerry', 'James', 'Joe', 'Katy', 'Anna', 'Vanessa',\n",
       "       'Pamela', 'Martin', 'Victor', 'Terry', 'Danny', 'Neil', 'Barry',\n",
       "       'Kathryn', 'Julian', 'Lesley', 'Kate', 'Dean', 'Graeme',\n",
       "       'Mitchell', 'Denise', 'Geoffrey', 'Mark', 'Emily', 'Thomas',\n",
       "       'Steven', 'Harriet', 'Derek', 'Kelly', 'Robin', 'Maria', 'Craig',\n",
       "       'Adam', 'Suzanne', 'Judith', 'Charlie', 'Josephine', 'Justin',\n",
       "       'Kimberley', 'Georgia', 'Nathan', 'Jacqueline', 'Callum',\n",
       "       'Patrick', 'Sian', 'Jodie', 'Jayne', 'Amelia', 'Lee', 'Jean',\n",
       "       'Sylvia', 'Vincent', 'Stanley', 'Frank', 'Richard', 'Carol',\n",
       "       'Geraldine', 'Douglas', 'Jasmine', 'Diana', 'Samuel', 'Susan',\n",
       "       'Francis', 'Daniel', 'Molly', 'Aimee', 'Mohammed', 'Lindsey',\n",
       "       'Dorothy', 'Sam', 'Wendy', 'Gail', 'Lydia', 'Claire', 'Marie',\n",
       "       'Ryan', 'Jane', 'Mary', 'Harry', 'Brenda', 'Debra', 'Colin',\n",
       "       'Gemma', 'Elaine', 'Charles', 'Kathleen', 'Iain', 'Frances',\n",
       "       'Brian', 'Barbara', 'Elliott', 'Deborah', 'Dylan', 'Helen',\n",
       "       'Mohamed', 'Rita', 'Danielle', 'Angela', 'Alex', 'Kevin',\n",
       "       'Abigail', 'Sally', 'Gavin', 'Amanda', 'Mathew', 'Rosie', 'Hannah',\n",
       "       'Howard', 'Ann', 'John', 'Irene', 'Leon', 'Kayleigh', 'Bernard',\n",
       "       'Kyle', 'Toby', 'Alice', 'Charlotte', 'Timothy', 'Carole', 'Jason',\n",
       "       'Marian', 'Andrea', 'Terence', 'Russell', 'Annette', 'Gareth',\n",
       "       'Ronald', 'Rosemary', 'Leigh', 'Malcolm', 'Trevor', 'Marion',\n",
       "       'Lisa', 'Jonathan', 'Jennifer', 'Chelsea', 'Luke', 'Adrian',\n",
       "       'Lewis', 'Eleanor', 'Elizabeth', 'Paige', 'Karen', 'Chloe',\n",
       "       'Joshua', 'Sara', 'Catherine', 'Joel', 'Kenneth', 'Roy', 'Owen',\n",
       "       'Josh', 'Francesca', 'Heather', 'Jack', 'George', 'Fiona', 'Allan',\n",
       "       'Mandy', 'Katherine', 'Frederick', 'Glen', 'Tom', 'Elliot',\n",
       "       'Raymond', 'Keith', 'Carolyn', 'Conor', 'Janet', 'Beth', 'Amber',\n",
       "       'Jacob', 'Lynda', 'Roger', 'Eileen', 'Glenn', 'Natasha', 'Simon',\n",
       "       'Damian', 'Shirley', 'Tracey', 'Amy', 'Linda', 'Liam', 'Marcus',\n",
       "       'Samantha', 'Max', 'Peter', 'Jemma', 'Alison', 'Darren', 'Declan',\n",
       "       'Marc', 'Jenna', 'Ruth', 'Julie', 'Matthew', 'Sarah', 'Leanne',\n",
       "       'Gerald', 'Hayley', 'Caroline', 'Carly', 'Ashley', 'Teresa',\n",
       "       'Brandon', 'Valerie', 'Gordon', 'Ellie', 'Tracy', 'Clare', 'Hazel',\n",
       "       'Lorraine', 'Olivia', 'Sharon', 'Leonard', 'Anne', 'Lawrence',\n",
       "       'Ross', 'Donna', 'David', 'Jake', 'Shannon', 'Michael', 'Melanie',\n",
       "       'Donald', 'Natalie', 'Tina', 'Nicola', 'Stewart', 'Nicholas',\n",
       "       'Dawn', 'Emma', 'Guy', 'Albert', 'Robert', 'Maurice', 'Dennis',\n",
       "       'Joseph', 'Stuart', 'Paul', 'Cheryl', 'Megan', 'Garry', 'Sandra',\n",
       "       'Connor', 'Sophie', 'Nigel', 'Rhys', 'Gillian', 'Jay', 'Ricky',\n",
       "       'Marilyn', 'Scott', 'Jessica', 'Billy', 'Nicole', 'Oliver',\n",
       "       'Phillip', 'Shane', 'Stephen', 'Christine', 'Stephanie', 'Reece',\n",
       "       'Joan', 'Christopher', 'Clifford', 'Gregory', 'Antony', 'Sheila',\n",
       "       'Kirsty', 'Kieran', 'Alan', 'Rachel', 'Paula', 'Ian', 'Pauline',\n",
       "       'Denis', 'Grace', 'Stacey', 'Lauren', 'Patricia', 'Eric', 'Jamie',\n",
       "       'Jade', 'Diane', 'Joyce', 'Tony', 'Charlene', 'June', 'Edward',\n",
       "       'Dale', 'Duncan', 'Joanne', 'Bethany', 'Bruce', 'Brett', 'Carl',\n",
       "       'Mohammad', 'Anthony', 'Lynn', 'Victoria', 'Ashleigh', 'Leah',\n",
       "       'Clive', 'Karl', 'Laura', 'Abbie', 'Michelle', 'Lynne', 'Jeremy',\n",
       "       'Jeffrey', 'Abdul', 'Beverley', 'Wayne', 'Melissa', 'William',\n",
       "       'Arthur', 'Hollie', 'Norman', 'Gary', 'Janice', 'Andrew', 'Leslie',\n",
       "       'Kim', 'Aaron', 'Benjamin', 'Shaun', 'Margaret', 'Bradley'],\n",
       "      dtype=object)"
      ]
     },
     "execution_count": 10,
     "metadata": {},
     "output_type": "execute_result"
    }
   ],
   "source": [
    "#Checking the unique values of the First Name column.\n",
    "\n",
    "census_df[\"First Name\"].unique()"
   ]
  },
  {
   "cell_type": "code",
   "execution_count": 11,
   "id": "a8af518b",
   "metadata": {
    "scrolled": true
   },
   "outputs": [
    {
     "data": {
      "text/html": [
       "<div>\n",
       "<style scoped>\n",
       "    .dataframe tbody tr th:only-of-type {\n",
       "        vertical-align: middle;\n",
       "    }\n",
       "\n",
       "    .dataframe tbody tr th {\n",
       "        vertical-align: top;\n",
       "    }\n",
       "\n",
       "    .dataframe thead th {\n",
       "        text-align: right;\n",
       "    }\n",
       "</style>\n",
       "<table border=\"1\" class=\"dataframe\">\n",
       "  <thead>\n",
       "    <tr style=\"text-align: right;\">\n",
       "      <th></th>\n",
       "      <th>House Number</th>\n",
       "      <th>Street</th>\n",
       "      <th>First Name</th>\n",
       "      <th>Surname</th>\n",
       "      <th>Age</th>\n",
       "      <th>Relationship to Head of House</th>\n",
       "      <th>Marital Status</th>\n",
       "      <th>Gender</th>\n",
       "      <th>Occupation</th>\n",
       "      <th>Infirmity</th>\n",
       "      <th>Religion</th>\n",
       "    </tr>\n",
       "  </thead>\n",
       "  <tbody>\n",
       "  </tbody>\n",
       "</table>\n",
       "</div>"
      ],
      "text/plain": [
       "Empty DataFrame\n",
       "Columns: [House Number, Street, First Name, Surname, Age, Relationship to Head of House, Marital Status, Gender, Occupation, Infirmity, Religion]\n",
       "Index: []"
      ]
     },
     "execution_count": 11,
     "metadata": {},
     "output_type": "execute_result"
    }
   ],
   "source": [
    "#Checking if there is any missing value in the House Number column.\n",
    "\n",
    "census_df[census_df[\"First Name\"] == \" \"]"
   ]
  },
  {
   "cell_type": "markdown",
   "id": "044eebf0",
   "metadata": {},
   "source": [
    "There are empty missing values in the House Number column."
   ]
  },
  {
   "cell_type": "markdown",
   "id": "826b2a20",
   "metadata": {},
   "source": [
    "## Surname Column"
   ]
  },
  {
   "cell_type": "code",
   "execution_count": 12,
   "id": "60b4dc5b",
   "metadata": {},
   "outputs": [
    {
     "data": {
      "text/plain": [
       "array(['Macdonald', 'Taylor', 'Harding', 'Evans', 'Nicholson', 'Pearson',\n",
       "       'Williams-Evans', 'Thomas', 'Gibbs', 'Schofield', 'Martin',\n",
       "       'Edwards', 'Ashton', 'Bennett', 'Fraser', 'Ahmed', 'Cooper',\n",
       "       'Scott', 'James', 'Jackson', 'Perry', 'Kaur', 'Coates-Kaur',\n",
       "       'Goodwin', 'Hughes', 'Thompson', 'Adams', 'Griffiths', 'Spencer',\n",
       "       'Young', 'Dobson', 'Parkin', 'Wade', 'Smith', 'Jones', 'Brown',\n",
       "       'Murray', 'Powell', 'Wright', 'Mason', 'Flynn', 'Chamberlain',\n",
       "       'Lees-Ross', 'Williams-Davies', 'West', 'Doyle', 'Tucker', 'Pope',\n",
       "       'Farmer', 'Cole', 'Read', 'Johnson', 'Bates', 'Riley', 'Wilkinson',\n",
       "       'Hammond', 'Green', 'Humphries', 'Gardiner', 'Price', 'Wilson',\n",
       "       'Craig', \"O'Connor\", 'Shaw', 'Clarke', 'Holden', 'Day', 'Ross',\n",
       "       'Walker', 'Booth', 'Harrison', 'Fowler', 'Power', 'Williams',\n",
       "       'Harvey', 'Grant', 'Blake', 'Arnold', 'Lawrence', 'Henry',\n",
       "       'Roberts', 'Clements', 'Warner', 'Hill', 'Moss', 'Rogers',\n",
       "       'Burton', 'Chambers', 'Turner', 'Dodd', 'Sheppard', 'Myers',\n",
       "       'Morris', 'Pritchard', 'Butler', 'Rees', 'Little', 'Palmer',\n",
       "       'Williamson', 'Sutton', 'Norman', 'Watts', 'Stevenson', 'Ellis',\n",
       "       'Nixon', 'Perkins', 'Vincent', 'Moore-Phillips', 'Atkinson',\n",
       "       'Archer', 'Hall', 'Cooke', 'Humphreys', 'Banks', 'Freeman',\n",
       "       'Walsh', 'Baker', \"O'Neill\", 'Crawford', 'Hunt',\n",
       "       'Stevens-Middleton', 'Heath', 'Hutchinson', 'Bailey', 'Russell',\n",
       "       'Ford', 'Phillips', 'Hyde', 'Stephenson', 'Wyatt', 'Foster',\n",
       "       'White', 'Gilbert', 'Gibbons-Jackson', 'Skinner', 'Iqbal', 'Patel',\n",
       "       'Leach', 'Fletcher', 'Middleton', 'Waters', 'Francis',\n",
       "       'Fitzgerald', 'Thorpe', 'Ward', 'Lamb', 'Bradley', 'Ball',\n",
       "       'Bishop', 'Taylor-Bishop', 'Carr', 'Davies', 'Bell', 'Berry',\n",
       "       'Savage', 'Cook', 'Abbott', 'Pearce', 'Webb', 'Knight', 'Jenkins',\n",
       "       'Hurst', 'Fox', 'Giles', 'Payne', 'Davison', 'Swift', 'Reed',\n",
       "       'Reed-Parsons', 'Stokes', 'Harris', 'Dale', 'Bull', 'Smart-Kemp',\n",
       "       'Mitchell', 'Oliver', 'Stone', 'Holmes', 'North', 'McLean',\n",
       "       'Gould', 'Baldwin', 'Armstrong', 'Porter', 'Shepherd', 'Hawkins',\n",
       "       'Lee', 'Dunn', 'Parkes', 'Parkinson', 'Bird', 'Woods', 'Anderson',\n",
       "       'Briggs', 'Burrows', 'Collins', 'Holt', 'Wong', 'Gill', 'Noble',\n",
       "       'Carpenter', 'Ali', 'Duncan', 'Marsh', 'Pollard', 'Davis', 'Lewis',\n",
       "       'Ward-Allan', 'Riley-Myers', 'Martin-Gilbert', 'Gibson',\n",
       "       'Wilson-Gibson', 'Dawson', 'McCarthy', 'Miles-Glover', 'Stewart',\n",
       "       'Newton', 'Barrett', 'Hart', 'Birch-Shaw', 'Duffy', 'Nicholls',\n",
       "       'Holloway', 'Robson', 'Clark', 'Kelly', 'Graham', 'Ryan',\n",
       "       'Matthews', 'Page', 'Andrews', 'Richardson', 'Hale', 'Lowe',\n",
       "       'Garner', 'Robinson', \"O'Brien-Robinson\", 'Cook-Price', 'Hayes',\n",
       "       'Hussain', 'Smith-Green', 'Khan', 'Hopkins', 'Elliott', 'Fry',\n",
       "       'Marshall', 'Short', 'Wood', 'Begum', 'Parker', 'Parsons',\n",
       "       \"Parsons-O'Neill\", 'Hargreaves', 'Morgan', 'Kerr', 'Hayward',\n",
       "       'Hilton', 'Bradshaw', 'Richards', 'Chan', 'Pearson-Parsons',\n",
       "       'Hudson', 'Lucas', 'Hunt-White', 'Finch', 'Burgess', 'Manning',\n",
       "       'Riley-Taylor', 'Howard', 'Talbot', 'Moore', 'Dean', 'Sanders',\n",
       "       'Carroll', 'Hamilton', 'Franklin', 'Preston', 'Miah', 'Allen',\n",
       "       'Hewitt-Taylor', 'Murphy', 'French', 'Walters', 'Simmons', 'Frost',\n",
       "       'Rose', 'Willis', 'Johnston', 'Mills', 'Owen', 'Kennedy', 'Owens',\n",
       "       'Kirby', 'Buckley', 'Newman', 'Forster', 'Marsden', 'Chadwick',\n",
       "       'Carter', 'Reynolds-Morgan', 'Stephens', 'Simpson', 'Campbell',\n",
       "       'Brooks', 'Browne', 'Akhtar', 'Gardner', 'Stanley', 'Warren',\n",
       "       'Gibbons', 'Gibbons-Davies', 'Nelson', 'Greenwood', 'Dickinson',\n",
       "       'Burke', 'Slater', 'Chapman', 'Andrews-Chapman', 'Brookes',\n",
       "       'Potter-Phillips', 'Peters', 'Sullivan', 'Bond', 'Miller',\n",
       "       'Fisher', 'Brady', 'Holland', 'Jordan', 'Cameron', 'Farrell',\n",
       "       'Haynes', 'Cox', 'Houghton-Mills', 'Simpson-Smith', 'Lynch',\n",
       "       'John', 'Sykes', 'Watson', 'Rowe', 'Whitehouse', 'Glover',\n",
       "       'Norton', 'Hanson', 'Morton', 'Hunter', 'Hardy', 'Thornton',\n",
       "       'Pugh', 'Peacock', 'Begum-Anderson', 'McKenzie', 'Butler-Holloway',\n",
       "       'Morley', 'Davidson', 'Lane', 'Barker', 'Wheeler', 'Wells-Hudson',\n",
       "       'Jones-Bradley', 'Clayton', 'Weston-Clayton', 'Bibi', 'Wilkins',\n",
       "       'Donnelly', 'Thornton-Giles', 'Douglas-Thornton-Giles', 'Boyle',\n",
       "       'Wilson-Boyle', 'Wallis', 'Austin', 'Bray', 'Gallagher', 'Law',\n",
       "       'Saunders', 'Gough', 'Hancock', 'Parker-Bibi', 'Whitehead',\n",
       "       'Smith-Taylor', 'Goddard', 'Leonard', 'Gordon', 'Barnes', 'Daly',\n",
       "       'Alexander', 'Elliott-Mitchell', 'King', 'Norris', 'Connor',\n",
       "       'Ingram', 'Allen-Jenkins', 'Naylor', 'Carey', 'Kay', 'Kirk',\n",
       "       'Lambert', 'Davies-Parker', 'Reeves', 'Cunningham', 'Black',\n",
       "       'Dyer', 'Houghton', 'Shepherd-Thompson', 'Hobbs', 'Gray',\n",
       "       'Daniels', 'Mann', 'Tyler', 'Godfrey', 'Jennings', 'Sharpe',\n",
       "       'Hopkins-Mitchell', 'Horton', 'Sharp', 'Reid', 'Lloyd',\n",
       "       'Rees-Lloyd', 'Reynolds', 'Randall', 'Osborne', 'Powell-Robson',\n",
       "       'Bentley', 'Dixon', 'Atkins', 'Lord', 'Wyatt-Bruce', 'Barlow',\n",
       "       'Bowen', 'Mistry', 'Davies-McCarthy', 'Jackson-Murray', 'Watkins',\n",
       "       'Reeves-Watson', 'Berry-Bennett', 'Joyce', 'Long', 'Gray-Reed',\n",
       "       'Winter', 'Wallace', 'Byrne', 'Boyle-Byrne', 'Wall', 'Dean-Wall',\n",
       "       'Hooper', \"O'Brien\", 'Smart', \"O'Sullivan-Byrne\",\n",
       "       \"Davis-O'Sullivan-Byrne\", 'Henderson', 'Jarvis-Johnston', 'Hope',\n",
       "       'Woodward', 'Webb-Hall', 'Brown-Warren', 'Barton', 'Bolton',\n",
       "       'Thomson', 'Johnston-Barrett', 'Kemp', 'Collins-Clarke',\n",
       "       'Hussain-Smith', 'Welch', 'Rowley-Martin', 'Higgins',\n",
       "       'Connor-Richards', 'Harper', 'Hodgson', 'Naylor-Smith',\n",
       "       'Mason-Stewart', 'Robinson-Ferguson', 'Bryant', 'Patterson',\n",
       "       'Kent', 'Thomas-Price', 'Barber', 'Howe', 'Blackburn', 'Herbert',\n",
       "       'Knowles', 'Bartlett', 'McDonald', 'Birch', 'Lawson', 'Morrison',\n",
       "       'Coleman', 'Rhodes', 'Pratt', 'Elliott-Lawrence', 'Walton',\n",
       "       'Jones-Davies', 'Webster', 'Allan', 'Faulkner', 'Barnett',\n",
       "       'Douglas', 'Bruce', 'Johnson-Walsh', 'Yates', 'Conway', 'Collier',\n",
       "       'Pickering', 'Smith-Gill', 'Adams-Jones', 'Todd', 'Parry',\n",
       "       'Fisher-Johnson', 'Robertson', 'Marsden-Thomas', 'Jarvis',\n",
       "       'Chadwick-Allen', 'Johnson-Rice', 'Watts-Johnson-Rice',\n",
       "       'Harrison-Murphy', 'Hill-Thompson', 'Ashton-Burke',\n",
       "       'Jackson-Bartlett', 'Walsh-Watson', 'Sims', 'Rowley', 'Dunn-Smith',\n",
       "       'Roberts-Palmer', 'Griffin', 'Butcher', 'Evans-Lynch',\n",
       "       \"O'Connor-Williams\", 'Kelly-Hyde', 'Storey', 'Singh', 'Metcalfe',\n",
       "       'Russell-Metcalfe', 'Benson', 'Brennan', 'Stevens', 'Cole-Barker',\n",
       "       'Potts', 'Francis-Dean', 'May', 'Thomas-Newton', 'Begum-Goodwin',\n",
       "       'Fuller-Harper', 'Harris-Ward', 'Shah', 'Murphy-Fletcher',\n",
       "       'Hill-Hart', 'Wells', 'Coates', 'Williams-Bailey', 'Barry',\n",
       "       'Connolly', 'Marsh-Welch', 'Lyons', 'Richardson-Bennett',\n",
       "       'Williams-Price', 'Curtis', 'Bryant-Rees', 'Howells', 'Burns',\n",
       "       'Fuller', 'Gregory', 'West-Butler', 'George', 'Hewitt', 'Dennis',\n",
       "       'Price-Preston', 'Brown-Davies', 'Quinn', 'Baxter', 'Field',\n",
       "       'Rahman', 'Wilson-Fitzgerald', 'Howarth', 'Sutton-Burns', 'Weston',\n",
       "       'Weston-Hill', 'Fleming', 'Hicks', 'White-Boyle', 'Cartwright',\n",
       "       'Cox-Edwards', 'Quinn-Morris', 'Miles', 'White-Carter',\n",
       "       'White-Robinson', 'Townsend', 'Jackson-Lucas', \"O'Donnell\",\n",
       "       'Thomas-Lewis', 'Wall-Thomas-Lewis', 'Freeman-Turner',\n",
       "       'Clark-King', 'Shaw-Patterson', 'Nash', ' ', 'Sanderson', 'Howell',\n",
       "       'Byrne-Stevenson', 'Marshall-Byrne-Stevenson', 'Smith-Singh',\n",
       "       'Stewart-Wilson', 'Miller-Long', 'Davies-Phillips', 'Brown-Clarke',\n",
       "       'Brady-Jones', 'Charlton', 'Turner-Holmes', 'Ward-Newton',\n",
       "       'Wallis-Dodd', 'Doherty', 'Dawson-Finch', 'Harrison-Hall',\n",
       "       'Whittaker', 'Harrison-Scott', 'Briggs-Barrett', 'Bird-Bird',\n",
       "       'Smith-Ingram', 'Giles-Morgan', 'Wilson-Brennan', 'Turnbull',\n",
       "       'Moran', 'Smith-Clarke', 'Swift-Foster', \"O'Sullivan\", 'Coles',\n",
       "       'Begum-Page', 'Chandler', 'Tomlinson', 'Godfrey-Jones', 'Potter',\n",
       "       'Horton-Taylor', 'Steele', 'Stewart-Rees', 'Ferguson',\n",
       "       'Edwards-Hussain', 'Johnson-Bradley', 'Ellis-Hurst', 'Bryan',\n",
       "       'Cooper-Smith', 'Goddard-Clements', 'Hall-Carr', 'Hartley',\n",
       "       'Evans-Price', 'Newman-Morrison', 'Page-Osborne', 'Webb-Ali',\n",
       "       'Bennett-Schofield', 'James-Marshall', 'Brown-Woodward',\n",
       "       'Bowen-Wall', 'Davey', 'Robinson-Simpson', 'Nolan', 'Lewis-Norris',\n",
       "       'Stanley-Miller', 'Carter-Dickinson', 'Clayton-Evans',\n",
       "       'Clark-Goddard', 'John-Anderson', 'Murray-Nicholls', 'Cross',\n",
       "       'Dixon-Hutchinson', 'Johnson-Buckley', 'James-Patel',\n",
       "       'Baker-Coleman', 'Lees', 'Williams-Morgan', 'Hunt-Parker',\n",
       "       'Vaughan', 'Mahmood', 'Forster-Mahmood', 'Brown-Simmons', 'Mellor',\n",
       "       'Baldwin-Khan', 'Butler-Newman'], dtype=object)"
      ]
     },
     "execution_count": 12,
     "metadata": {},
     "output_type": "execute_result"
    }
   ],
   "source": [
    "#Checking the unique values of the First Name column.\n",
    "\n",
    "census_df[\"Surname\"].unique()"
   ]
  },
  {
   "cell_type": "code",
   "execution_count": 13,
   "id": "9c66b428",
   "metadata": {},
   "outputs": [
    {
     "data": {
      "text/html": [
       "<div>\n",
       "<style scoped>\n",
       "    .dataframe tbody tr th:only-of-type {\n",
       "        vertical-align: middle;\n",
       "    }\n",
       "\n",
       "    .dataframe tbody tr th {\n",
       "        vertical-align: top;\n",
       "    }\n",
       "\n",
       "    .dataframe thead th {\n",
       "        text-align: right;\n",
       "    }\n",
       "</style>\n",
       "<table border=\"1\" class=\"dataframe\">\n",
       "  <thead>\n",
       "    <tr style=\"text-align: right;\">\n",
       "      <th></th>\n",
       "      <th>House Number</th>\n",
       "      <th>Street</th>\n",
       "      <th>First Name</th>\n",
       "      <th>Surname</th>\n",
       "      <th>Age</th>\n",
       "      <th>Relationship to Head of House</th>\n",
       "      <th>Marital Status</th>\n",
       "      <th>Gender</th>\n",
       "      <th>Occupation</th>\n",
       "      <th>Infirmity</th>\n",
       "      <th>Religion</th>\n",
       "    </tr>\n",
       "  </thead>\n",
       "  <tbody>\n",
       "    <tr>\n",
       "      <th>5517</th>\n",
       "      <td>13</td>\n",
       "      <td>Whitehall Road</td>\n",
       "      <td>Ricky</td>\n",
       "      <td></td>\n",
       "      <td>50.0</td>\n",
       "      <td>Husband</td>\n",
       "      <td>Married</td>\n",
       "      <td>Male</td>\n",
       "      <td>Magazine journalist</td>\n",
       "      <td>None</td>\n",
       "      <td>None</td>\n",
       "    </tr>\n",
       "  </tbody>\n",
       "</table>\n",
       "</div>"
      ],
      "text/plain": [
       "      House Number          Street First Name Surname   Age  \\\n",
       "5517            13  Whitehall Road      Ricky          50.0   \n",
       "\n",
       "     Relationship to Head of House Marital Status Gender           Occupation  \\\n",
       "5517                       Husband        Married   Male  Magazine journalist   \n",
       "\n",
       "     Infirmity Religion  \n",
       "5517      None     None  "
      ]
     },
     "execution_count": 13,
     "metadata": {},
     "output_type": "execute_result"
    }
   ],
   "source": [
    "#Checking if there is any missing value in the House Number column.\n",
    "\n",
    "census_df[census_df[\"Surname\"] == \" \"]"
   ]
  },
  {
   "cell_type": "markdown",
   "id": "a7449fe6",
   "metadata": {},
   "source": [
    "One record is missing in the Surname column."
   ]
  },
  {
   "cell_type": "code",
   "execution_count": 14,
   "id": "438c91d4",
   "metadata": {},
   "outputs": [
    {
     "data": {
      "text/html": [
       "<div>\n",
       "<style scoped>\n",
       "    .dataframe tbody tr th:only-of-type {\n",
       "        vertical-align: middle;\n",
       "    }\n",
       "\n",
       "    .dataframe tbody tr th {\n",
       "        vertical-align: top;\n",
       "    }\n",
       "\n",
       "    .dataframe thead th {\n",
       "        text-align: right;\n",
       "    }\n",
       "</style>\n",
       "<table border=\"1\" class=\"dataframe\">\n",
       "  <thead>\n",
       "    <tr style=\"text-align: right;\">\n",
       "      <th></th>\n",
       "      <th>House Number</th>\n",
       "      <th>Street</th>\n",
       "      <th>First Name</th>\n",
       "      <th>Surname</th>\n",
       "      <th>Age</th>\n",
       "      <th>Relationship to Head of House</th>\n",
       "      <th>Marital Status</th>\n",
       "      <th>Gender</th>\n",
       "      <th>Occupation</th>\n",
       "      <th>Infirmity</th>\n",
       "      <th>Religion</th>\n",
       "    </tr>\n",
       "  </thead>\n",
       "  <tbody>\n",
       "    <tr>\n",
       "      <th>5516</th>\n",
       "      <td>13</td>\n",
       "      <td>Whitehall Road</td>\n",
       "      <td>Nicole</td>\n",
       "      <td>Nash</td>\n",
       "      <td>51.0</td>\n",
       "      <td>Head</td>\n",
       "      <td>Married</td>\n",
       "      <td>Female</td>\n",
       "      <td>Designer, ceramics/pottery</td>\n",
       "      <td>None</td>\n",
       "      <td>None</td>\n",
       "    </tr>\n",
       "    <tr>\n",
       "      <th>5517</th>\n",
       "      <td>13</td>\n",
       "      <td>Whitehall Road</td>\n",
       "      <td>Ricky</td>\n",
       "      <td></td>\n",
       "      <td>50.0</td>\n",
       "      <td>Husband</td>\n",
       "      <td>Married</td>\n",
       "      <td>Male</td>\n",
       "      <td>Magazine journalist</td>\n",
       "      <td>None</td>\n",
       "      <td>None</td>\n",
       "    </tr>\n",
       "  </tbody>\n",
       "</table>\n",
       "</div>"
      ],
      "text/plain": [
       "      House Number          Street First Name Surname   Age  \\\n",
       "5516            13  Whitehall Road     Nicole    Nash  51.0   \n",
       "5517            13  Whitehall Road      Ricky          50.0   \n",
       "\n",
       "     Relationship to Head of House Marital Status  Gender  \\\n",
       "5516                          Head        Married  Female   \n",
       "5517                       Husband        Married    Male   \n",
       "\n",
       "                      Occupation Infirmity Religion  \n",
       "5516  Designer, ceramics/pottery      None     None  \n",
       "5517         Magazine journalist      None     None  "
      ]
     },
     "execution_count": 14,
     "metadata": {},
     "output_type": "execute_result"
    }
   ],
   "source": [
    "#Retrieving records that satifies the following conditions from the data set:\n",
    "    # Individuals that lives in House Number 13 and Whitehall Road Street.\n",
    "#By getting records with the above condition would allows be able to see how the returned individuals relate to the Ricky, hence deciding his Surname.\n",
    "\n",
    "census_df.loc[(census_df[\"House Number\"] == 13) & \n",
    "              (census_df[\"Street\"] == \"Whitehall Road\")]"
   ]
  },
  {
   "cell_type": "markdown",
   "id": "3c970946",
   "metadata": {},
   "source": [
    "From the output, Ricky and Nicole are the only individual who resides in the specified address. Also, they are about the same age and different gender. They are both married. Hence, they fit the description that they are related. Therefore, I concluded that Ricky is the husband of Nicole and would assigned the Surname Nash to Ricky as Wives bare the same surname as their husbands."
   ]
  },
  {
   "cell_type": "code",
   "execution_count": 15,
   "id": "f8c82042",
   "metadata": {},
   "outputs": [],
   "source": [
    "#Assigning the value Nash to Ricky's Surname.\n",
    "\n",
    "census_df.at[5517, \"Surname\"] = \"Nash\""
   ]
  },
  {
   "cell_type": "markdown",
   "id": "b99a68ee",
   "metadata": {},
   "source": [
    "## Age Column"
   ]
  },
  {
   "cell_type": "code",
   "execution_count": 16,
   "id": "1610a510",
   "metadata": {},
   "outputs": [
    {
     "data": {
      "text/plain": [
       "array([ 21.        ,  19.        ,  38.        ,  55.        ,\n",
       "        78.        ,  39.        ,  36.        ,  34.        ,\n",
       "        32.        ,   9.        ,  50.        ,  54.        ,\n",
       "        18.        ,  17.        ,  44.        ,  42.        ,\n",
       "        23.        ,  20.        ,   3.        ,  58.        ,\n",
       "        56.        ,  94.        ,  33.        ,  40.        ,\n",
       "        25.        ,  22.        ,  24.        ,  67.        ,\n",
       "        63.        ,   2.        ,   1.        ,  26.        ,\n",
       "        52.        ,  71.        ,  43.        ,  27.        ,\n",
       "        31.        ,  11.        ,   8.        ,   4.        ,\n",
       "         7.        ,  51.        ,  14.        ,  57.        ,\n",
       "        29.        ,  47.        ,  64.        ,  15.        ,\n",
       "        79.        ,  60.        ,  59.        ,  12.        ,\n",
       "        41.        ,  48.        ,  68.        ,  37.        ,\n",
       "        53.        ,  10.        ,  28.        ,  35.        ,\n",
       "        13.        ,  77.        ,  46.        ,   5.        ,\n",
       "        75.        ,  45.        ,  16.        ,  69.        ,\n",
       "        74.        ,  66.        ,  72.        ,  62.        ,\n",
       "        30.        ,  49.        ,  81.        ,   0.        ,\n",
       "        70.        ,   6.        ,  84.        ,  89.        ,\n",
       "        87.        ,  82.        ,  85.        ,  76.        ,\n",
       "        73.        , 100.        ,  80.        ,  86.        ,\n",
       "        51.80323226,  61.        ,  65.        ,  91.        ,\n",
       "        96.        ,  93.        ,  83.        ,  98.        ,\n",
       "       104.        ,  95.        , 103.        ,  88.        ,\n",
       "        90.        ,  99.        , 102.        ,  61.871195  ,\n",
       "        92.        ,  97.        ,  82.0743708 ,  23.        ,\n",
       "        22.        , 105.        , 101.        ,  64.95944014,\n",
       "        62.95944014, 107.        ,  79.56637262,  85.56637262])"
      ]
     },
     "execution_count": 16,
     "metadata": {},
     "output_type": "execute_result"
    }
   ],
   "source": [
    "#Checking the unique values of the Age column.\n",
    "\n",
    "census_df[\"Age\"].unique()"
   ]
  },
  {
   "cell_type": "code",
   "execution_count": 17,
   "id": "68e0e241",
   "metadata": {
    "scrolled": true
   },
   "outputs": [
    {
     "data": {
      "text/html": [
       "<div>\n",
       "<style scoped>\n",
       "    .dataframe tbody tr th:only-of-type {\n",
       "        vertical-align: middle;\n",
       "    }\n",
       "\n",
       "    .dataframe tbody tr th {\n",
       "        vertical-align: top;\n",
       "    }\n",
       "\n",
       "    .dataframe thead th {\n",
       "        text-align: right;\n",
       "    }\n",
       "</style>\n",
       "<table border=\"1\" class=\"dataframe\">\n",
       "  <thead>\n",
       "    <tr style=\"text-align: right;\">\n",
       "      <th></th>\n",
       "      <th>House Number</th>\n",
       "      <th>Street</th>\n",
       "      <th>First Name</th>\n",
       "      <th>Surname</th>\n",
       "      <th>Age</th>\n",
       "      <th>Relationship to Head of House</th>\n",
       "      <th>Marital Status</th>\n",
       "      <th>Gender</th>\n",
       "      <th>Occupation</th>\n",
       "      <th>Infirmity</th>\n",
       "      <th>Religion</th>\n",
       "    </tr>\n",
       "  </thead>\n",
       "  <tbody>\n",
       "  </tbody>\n",
       "</table>\n",
       "</div>"
      ],
      "text/plain": [
       "Empty DataFrame\n",
       "Columns: [House Number, Street, First Name, Surname, Age, Relationship to Head of House, Marital Status, Gender, Occupation, Infirmity, Religion]\n",
       "Index: []"
      ]
     },
     "execution_count": 17,
     "metadata": {},
     "output_type": "execute_result"
    }
   ],
   "source": [
    "#Checking if there is any missing value in the Age column.\n",
    "\n",
    "census_df[census_df[\"Age\"] == \" \"]"
   ]
  },
  {
   "cell_type": "markdown",
   "id": "5cf5b3c1",
   "metadata": {},
   "source": [
    "There are empty missing values in the Age column."
   ]
  },
  {
   "cell_type": "markdown",
   "id": "af96e90d",
   "metadata": {},
   "source": [
    "Earlier it was indicated that Age column is data type float and would be casted to int."
   ]
  },
  {
   "cell_type": "code",
   "execution_count": 18,
   "id": "7d6cb6fd",
   "metadata": {
    "scrolled": false
   },
   "outputs": [
    {
     "data": {
      "text/plain": [
       "array([ 21,  19,  38,  55,  78,  39,  36,  34,  32,   9,  50,  54,  18,\n",
       "        17,  44,  42,  23,  20,   3,  58,  56,  94,  33,  40,  25,  22,\n",
       "        24,  67,  63,   2,   1,  26,  52,  71,  43,  27,  31,  11,   8,\n",
       "         4,   7,  51,  14,  57,  29,  47,  64,  15,  79,  60,  59,  12,\n",
       "        41,  48,  68,  37,  53,  10,  28,  35,  13,  77,  46,   5,  75,\n",
       "        45,  16,  69,  74,  66,  72,  62,  30,  49,  81,   0,  70,   6,\n",
       "        84,  89,  87,  82,  85,  76,  73, 100,  80,  86,  61,  65,  91,\n",
       "        96,  93,  83,  98, 104,  95, 103,  88,  90,  99, 102,  92,  97,\n",
       "       105, 101, 107], dtype=int64)"
      ]
     },
     "execution_count": 18,
     "metadata": {},
     "output_type": "execute_result"
    }
   ],
   "source": [
    "#Casting Age column data type to int.\n",
    "\n",
    "census_df[\"Age\"] = census_df[\"Age\"].astype(\"int64\")\n",
    "census_df[\"Age\"].unique()"
   ]
  },
  {
   "cell_type": "markdown",
   "id": "b064c3a8",
   "metadata": {},
   "source": [
    "## Age Pyramid"
   ]
  },
  {
   "cell_type": "code",
   "execution_count": 19,
   "id": "a31fe9e8",
   "metadata": {},
   "outputs": [],
   "source": [
    "age_bins = list(range(0, census_df[\"Age\"].max()+6, 5))"
   ]
  },
  {
   "cell_type": "code",
   "execution_count": 20,
   "id": "a6a6e4c5",
   "metadata": {},
   "outputs": [],
   "source": [
    "ageclass = [f\"{i}-{j}\" for i, j in zip(range(0, census_df[\"Age\"].max()+1, 5), \n",
    "                                       range(4, census_df[\"Age\"].max() + 6, 5))]"
   ]
  },
  {
   "cell_type": "code",
   "execution_count": 21,
   "id": "e3d30a75",
   "metadata": {},
   "outputs": [],
   "source": [
    "ageclass[-1] = \"105+\""
   ]
  },
  {
   "cell_type": "code",
   "execution_count": 22,
   "id": "7df12505",
   "metadata": {},
   "outputs": [],
   "source": [
    "#Assigning each row to a distinct age band, add a new column using the pandas 'cut()' method.\n",
    "census_df[\"Age Band\"] = pd.cut(census_df[\"Age\"], labels=ageclass, bins=age_bins, right=False)"
   ]
  },
  {
   "cell_type": "code",
   "execution_count": 23,
   "id": "cf0cfd2b",
   "metadata": {},
   "outputs": [],
   "source": [
    "#Adding an a column to split sex into Male and Female\n",
    "census_df[\"Age Band Value\"] = 1"
   ]
  },
  {
   "cell_type": "code",
   "execution_count": 24,
   "id": "07740fa1",
   "metadata": {},
   "outputs": [],
   "source": [
    "# Sum the age counts by age_band and gender\n",
    "census_ageband = census_df.groupby([\"Age Band\", \"Gender\"])[\"Age Band Value\"].sum()"
   ]
  },
  {
   "cell_type": "code",
   "execution_count": 25,
   "id": "3c534c0f",
   "metadata": {},
   "outputs": [],
   "source": [
    "# Unstack the age_band count to create two columns, one for males and one for females\n",
    "census_ageband = census_ageband.unstack()"
   ]
  },
  {
   "cell_type": "code",
   "execution_count": 26,
   "id": "df7774a2",
   "metadata": {},
   "outputs": [],
   "source": [
    "# Rename the columns\n",
    "census_ageband.columns = [\"Number of Males (negative)\", \"Number of Females\"]"
   ]
  },
  {
   "cell_type": "code",
   "execution_count": 27,
   "id": "7c5715db",
   "metadata": {},
   "outputs": [],
   "source": [
    "#Multiply the age of Males with Minus one\n",
    "census_ageband[\"Number of Males (negative)\"] = census_ageband[\"Number of Males (negative)\"] * -1"
   ]
  },
  {
   "cell_type": "code",
   "execution_count": 28,
   "id": "b27453bb",
   "metadata": {},
   "outputs": [],
   "source": [
    "#Dropping Age_Band_Value column\n",
    "census_df = census_df.drop(\"Age Band Value\", axis=1)"
   ]
  },
  {
   "cell_type": "code",
   "execution_count": 29,
   "id": "b0bbd7b5",
   "metadata": {},
   "outputs": [
    {
     "data": {
      "text/html": [
       "<div>\n",
       "<style scoped>\n",
       "    .dataframe tbody tr th:only-of-type {\n",
       "        vertical-align: middle;\n",
       "    }\n",
       "\n",
       "    .dataframe tbody tr th {\n",
       "        vertical-align: top;\n",
       "    }\n",
       "\n",
       "    .dataframe thead th {\n",
       "        text-align: right;\n",
       "    }\n",
       "</style>\n",
       "<table border=\"1\" class=\"dataframe\">\n",
       "  <thead>\n",
       "    <tr style=\"text-align: right;\">\n",
       "      <th></th>\n",
       "      <th>Number of Males (negative)</th>\n",
       "      <th>Number of Females</th>\n",
       "    </tr>\n",
       "    <tr>\n",
       "      <th>Age Band</th>\n",
       "      <th></th>\n",
       "      <th></th>\n",
       "    </tr>\n",
       "  </thead>\n",
       "  <tbody>\n",
       "    <tr>\n",
       "      <th>0-4</th>\n",
       "      <td>-245</td>\n",
       "      <td>244</td>\n",
       "    </tr>\n",
       "    <tr>\n",
       "      <th>5-9</th>\n",
       "      <td>-302</td>\n",
       "      <td>318</td>\n",
       "    </tr>\n",
       "    <tr>\n",
       "      <th>10-14</th>\n",
       "      <td>-318</td>\n",
       "      <td>291</td>\n",
       "    </tr>\n",
       "  </tbody>\n",
       "</table>\n",
       "</div>"
      ],
      "text/plain": [
       "          Number of Males (negative)  Number of Females\n",
       "Age Band                                               \n",
       "0-4                             -245                244\n",
       "5-9                             -302                318\n",
       "10-14                           -318                291"
      ]
     },
     "execution_count": 29,
     "metadata": {},
     "output_type": "execute_result"
    }
   ],
   "source": [
    "#View of the 'census_age_band' dataframe\n",
    "census_ageband.head(3)"
   ]
  },
  {
   "cell_type": "code",
   "execution_count": 30,
   "id": "fbf6c8dc",
   "metadata": {},
   "outputs": [],
   "source": [
    "#convert the category index 'Age_Band' to Pandas Dataframe\n",
    "census_ageband = census_ageband.reset_index()"
   ]
  },
  {
   "cell_type": "code",
   "execution_count": 31,
   "id": "1816fd3b",
   "metadata": {},
   "outputs": [
    {
     "data": {
      "text/html": [
       "<div>\n",
       "<style scoped>\n",
       "    .dataframe tbody tr th:only-of-type {\n",
       "        vertical-align: middle;\n",
       "    }\n",
       "\n",
       "    .dataframe tbody tr th {\n",
       "        vertical-align: top;\n",
       "    }\n",
       "\n",
       "    .dataframe thead th {\n",
       "        text-align: right;\n",
       "    }\n",
       "</style>\n",
       "<table border=\"1\" class=\"dataframe\">\n",
       "  <thead>\n",
       "    <tr style=\"text-align: right;\">\n",
       "      <th></th>\n",
       "      <th>Age Band</th>\n",
       "      <th>Number of Males (negative)</th>\n",
       "      <th>Number of Females</th>\n",
       "    </tr>\n",
       "  </thead>\n",
       "  <tbody>\n",
       "    <tr>\n",
       "      <th>0</th>\n",
       "      <td>0-4</td>\n",
       "      <td>-245</td>\n",
       "      <td>244</td>\n",
       "    </tr>\n",
       "    <tr>\n",
       "      <th>1</th>\n",
       "      <td>5-9</td>\n",
       "      <td>-302</td>\n",
       "      <td>318</td>\n",
       "    </tr>\n",
       "    <tr>\n",
       "      <th>2</th>\n",
       "      <td>10-14</td>\n",
       "      <td>-318</td>\n",
       "      <td>291</td>\n",
       "    </tr>\n",
       "  </tbody>\n",
       "</table>\n",
       "</div>"
      ],
      "text/plain": [
       "  Age Band  Number of Males (negative)  Number of Females\n",
       "0      0-4                        -245                244\n",
       "1      5-9                        -302                318\n",
       "2    10-14                        -318                291"
      ]
     },
     "execution_count": 31,
     "metadata": {},
     "output_type": "execute_result"
    }
   ],
   "source": [
    "#View of the 'census_age_band' dataframe after the reseting the index above\n",
    "census_ageband.head(3)"
   ]
  },
  {
   "cell_type": "code",
   "execution_count": 32,
   "id": "b843f019",
   "metadata": {},
   "outputs": [
    {
     "data": {
      "text/html": [
       "<div>\n",
       "<style scoped>\n",
       "    .dataframe tbody tr th:only-of-type {\n",
       "        vertical-align: middle;\n",
       "    }\n",
       "\n",
       "    .dataframe tbody tr th {\n",
       "        vertical-align: top;\n",
       "    }\n",
       "\n",
       "    .dataframe thead th {\n",
       "        text-align: right;\n",
       "    }\n",
       "</style>\n",
       "<table border=\"1\" class=\"dataframe\">\n",
       "  <thead>\n",
       "    <tr style=\"text-align: right;\">\n",
       "      <th></th>\n",
       "      <th>Age Band</th>\n",
       "      <th>Number of Males (negative)</th>\n",
       "      <th>Number of Females</th>\n",
       "    </tr>\n",
       "  </thead>\n",
       "  <tbody>\n",
       "    <tr>\n",
       "      <th>0</th>\n",
       "      <td>105+</td>\n",
       "      <td>-1</td>\n",
       "      <td>2</td>\n",
       "    </tr>\n",
       "    <tr>\n",
       "      <th>1</th>\n",
       "      <td>100-104</td>\n",
       "      <td>-3</td>\n",
       "      <td>6</td>\n",
       "    </tr>\n",
       "    <tr>\n",
       "      <th>2</th>\n",
       "      <td>95-99</td>\n",
       "      <td>-5</td>\n",
       "      <td>5</td>\n",
       "    </tr>\n",
       "  </tbody>\n",
       "</table>\n",
       "</div>"
      ],
      "text/plain": [
       "  Age Band  Number of Males (negative)  Number of Females\n",
       "0     105+                          -1                  2\n",
       "1  100-104                          -3                  6\n",
       "2    95-99                          -5                  5"
      ]
     },
     "execution_count": 32,
     "metadata": {},
     "output_type": "execute_result"
    }
   ],
   "source": [
    "#sorting the table in descending order because they are class list above is in ascending order\n",
    "#and to ensure that our population pyramid is not inverted\n",
    "census_ageband.sort_values(by=\"Age Band\",ascending=False, ignore_index=True, key=None).head(3)"
   ]
  },
  {
   "cell_type": "code",
   "execution_count": 33,
   "id": "e2cdef48",
   "metadata": {},
   "outputs": [],
   "source": [
    "ageclass.reverse()"
   ]
  },
  {
   "cell_type": "code",
   "execution_count": 34,
   "id": "a272c90a",
   "metadata": {
    "scrolled": true
   },
   "outputs": [
    {
     "data": {
      "text/plain": [
       "Text(0.5, 1.0, 'Age Pyramid')"
      ]
     },
     "execution_count": 34,
     "metadata": {},
     "output_type": "execute_result"
    },
    {
     "data": {
      "image/png": "[encoded data removed]",
      "text/plain": [
       "<Figure size 640x480 with 1 Axes>"
      ]
     },
     "metadata": {},
     "output_type": "display_data"
    }
   ],
   "source": [
    "age_pyramid = sns.barplot(x=\"Number of Males (negative)\", y=\"Age Band\", data=census_ageband,\n",
    "order=ageclass, color=(\"mediumpurple\"), label=\"Number of Males\")\n",
    "age_pyramid = sns.barplot(x=\"Number of Females\", y=\"Age Band\", data=census_ageband,\n",
    "order=ageclass, color=(\"teal\"), label=\"Number of Females\")\n",
    "age_pyramid.legend()\n",
    "sns.set(rc={\"figure.figsize\":(10, 8)}) #width=8, height=4\n",
    "plt.xlabel(\"Number of Individuals\",fontsize = 13)\n",
    "plt.ylabel(\"Age Band\",fontsize = 13)\n",
    "xticks = plt.gca().get_xticks().astype(np.int64)\n",
    "plt.xticks(xticks, labels = np.abs(xticks));\n",
    "plt.title('Age Pyramid')"
   ]
  },
  {
   "cell_type": "code",
   "execution_count": 35,
   "id": "803d7e05",
   "metadata": {},
   "outputs": [],
   "source": [
    "age_pyramid.get_figure().savefig(\"./age_pyramid\")"
   ]
  },
  {
   "cell_type": "code",
   "execution_count": 36,
   "id": "f7248c0a",
   "metadata": {},
   "outputs": [
    {
     "data": {
      "text/html": [
       "<div>\n",
       "<style scoped>\n",
       "    .dataframe tbody tr th:only-of-type {\n",
       "        vertical-align: middle;\n",
       "    }\n",
       "\n",
       "    .dataframe tbody tr th {\n",
       "        vertical-align: top;\n",
       "    }\n",
       "\n",
       "    .dataframe thead th {\n",
       "        text-align: right;\n",
       "    }\n",
       "</style>\n",
       "<table border=\"1\" class=\"dataframe\">\n",
       "  <thead>\n",
       "    <tr style=\"text-align: right;\">\n",
       "      <th></th>\n",
       "      <th>House Number</th>\n",
       "      <th>Street</th>\n",
       "      <th>First Name</th>\n",
       "      <th>Surname</th>\n",
       "      <th>Age</th>\n",
       "      <th>Relationship to Head of House</th>\n",
       "      <th>Marital Status</th>\n",
       "      <th>Gender</th>\n",
       "      <th>Occupation</th>\n",
       "      <th>Infirmity</th>\n",
       "      <th>Religion</th>\n",
       "      <th>Age Band</th>\n",
       "    </tr>\n",
       "  </thead>\n",
       "  <tbody>\n",
       "  </tbody>\n",
       "</table>\n",
       "</div>"
      ],
      "text/plain": [
       "Empty DataFrame\n",
       "Columns: [House Number, Street, First Name, Surname, Age, Relationship to Head of House, Marital Status, Gender, Occupation, Infirmity, Religion, Age Band]\n",
       "Index: []"
      ]
     },
     "execution_count": 36,
     "metadata": {},
     "output_type": "execute_result"
    }
   ],
   "source": [
    "#Checking for individuals who are below 18 and divorced or widowed or married.\n",
    "\n",
    "find_list = [\"Married\", \"Widowed\", \"Divorced\"]\n",
    "\n",
    "census_df.loc[(census_df[\"Age\"] < 18) & (census_df[\"Marital Status\"].isin(find_list))]"
   ]
  },
  {
   "cell_type": "markdown",
   "id": "b1998ce5",
   "metadata": {},
   "source": [
    "There are no individuals below the age of 18 that married or divorced or widowed."
   ]
  },
  {
   "cell_type": "code",
   "execution_count": null,
   "id": "92e8640e",
   "metadata": {},
   "outputs": [],
   "source": [
    "\"\"\"Checking for individuals who are equal 18 and are married or divorced or widowed.\n",
    "#Regardless of their occupation, as long as an 18 years old is eligible to marry by law then it is also possible \n",
    "to have an 18 years old divorcee and widow or widower.\"\"\"\n",
    "\n",
    "census_df.loc[(census_df[\"Age\"] == 18) & (census_df[\"Marital Status\"].isin(find_list))]"
   ]
  },
  {
   "cell_type": "code",
   "execution_count": 38,
   "id": "fbbb3e98",
   "metadata": {},
   "outputs": [
    {
     "data": {
      "text/html": [
       "<div>\n",
       "<style scoped>\n",
       "    .dataframe tbody tr th:only-of-type {\n",
       "        vertical-align: middle;\n",
       "    }\n",
       "\n",
       "    .dataframe tbody tr th {\n",
       "        vertical-align: top;\n",
       "    }\n",
       "\n",
       "    .dataframe thead th {\n",
       "        text-align: right;\n",
       "    }\n",
       "</style>\n",
       "<table border=\"1\" class=\"dataframe\">\n",
       "  <thead>\n",
       "    <tr style=\"text-align: right;\">\n",
       "      <th></th>\n",
       "      <th>House Number</th>\n",
       "      <th>Street</th>\n",
       "      <th>First Name</th>\n",
       "      <th>Surname</th>\n",
       "      <th>Age</th>\n",
       "      <th>Relationship to Head of House</th>\n",
       "      <th>Marital Status</th>\n",
       "      <th>Gender</th>\n",
       "      <th>Occupation</th>\n",
       "      <th>Infirmity</th>\n",
       "      <th>Religion</th>\n",
       "      <th>Age Band</th>\n",
       "    </tr>\n",
       "  </thead>\n",
       "  <tbody>\n",
       "    <tr>\n",
       "      <th>1308</th>\n",
       "      <td>21</td>\n",
       "      <td>Singh Forge</td>\n",
       "      <td>Gerald</td>\n",
       "      <td>Jordan</td>\n",
       "      <td>18</td>\n",
       "      <td>Son</td>\n",
       "      <td>Widowed</td>\n",
       "      <td>Male</td>\n",
       "      <td>Student</td>\n",
       "      <td>None</td>\n",
       "      <td>Catholic</td>\n",
       "      <td>15-19</td>\n",
       "    </tr>\n",
       "    <tr>\n",
       "      <th>3843</th>\n",
       "      <td>30</td>\n",
       "      <td>Corporation Road</td>\n",
       "      <td>Sharon</td>\n",
       "      <td>Edwards</td>\n",
       "      <td>18</td>\n",
       "      <td>Head</td>\n",
       "      <td>Widowed</td>\n",
       "      <td>Female</td>\n",
       "      <td>Student</td>\n",
       "      <td>None</td>\n",
       "      <td>NaN</td>\n",
       "      <td>15-19</td>\n",
       "    </tr>\n",
       "    <tr>\n",
       "      <th>6095</th>\n",
       "      <td>5</td>\n",
       "      <td>Bishop Lane</td>\n",
       "      <td>Joe</td>\n",
       "      <td>Rogers</td>\n",
       "      <td>18</td>\n",
       "      <td>Son</td>\n",
       "      <td>Widowed</td>\n",
       "      <td>Male</td>\n",
       "      <td>Student</td>\n",
       "      <td>None</td>\n",
       "      <td>None</td>\n",
       "      <td>15-19</td>\n",
       "    </tr>\n",
       "  </tbody>\n",
       "</table>\n",
       "</div>"
      ],
      "text/plain": [
       "      House Number            Street First Name  Surname  Age  \\\n",
       "1308            21       Singh Forge     Gerald   Jordan   18   \n",
       "3843            30  Corporation Road     Sharon  Edwards   18   \n",
       "6095             5       Bishop Lane        Joe   Rogers   18   \n",
       "\n",
       "     Relationship to Head of House Marital Status  Gender Occupation  \\\n",
       "1308                           Son        Widowed    Male    Student   \n",
       "3843                          Head        Widowed  Female    Student   \n",
       "6095                           Son        Widowed    Male    Student   \n",
       "\n",
       "     Infirmity  Religion Age Band  \n",
       "1308      None  Catholic    15-19  \n",
       "3843      None       NaN    15-19  \n",
       "6095      None      None    15-19  "
      ]
     },
     "execution_count": 38,
     "metadata": {},
     "output_type": "execute_result"
    }
   ],
   "source": [
    "#Checking for individuals who are equal 18 and widowed.\n",
    "\n",
    "census_df.loc[(census_df[\"Age\"] == 18) & (census_df[\"Marital Status\"] == \"Widowed\")]"
   ]
  },
  {
   "cell_type": "markdown",
   "id": "f53d4f1f",
   "metadata": {},
   "source": [
    "## Marital Status Column"
   ]
  },
  {
   "cell_type": "code",
   "execution_count": 39,
   "id": "135b7f67",
   "metadata": {},
   "outputs": [
    {
     "data": {
      "text/plain": [
       "array(['Married', 'Divorced', 'Single', 'Widowed', nan], dtype=object)"
      ]
     },
     "execution_count": 39,
     "metadata": {},
     "output_type": "execute_result"
    }
   ],
   "source": [
    "census_df[\"Marital Status\"].unique()"
   ]
  },
  {
   "cell_type": "code",
   "execution_count": null,
   "id": "900b9199",
   "metadata": {
    "scrolled": true
   },
   "outputs": [],
   "source": [
    "#Retrieving the records individuals who are below 16 with null values indicated in their marital status.\n",
    "\n",
    "census_df.loc[(census_df[\"Age\"] < 16) & (census_df[\"Marital Status\"].isna())]"
   ]
  },
  {
   "cell_type": "code",
   "execution_count": 41,
   "id": "41dfd178",
   "metadata": {},
   "outputs": [],
   "source": [
    "\"\"\"\n",
    "\n",
    "By law marital status information for individuals below 16 years of age are not collected.\n",
    "Hence, martial status for these individuals is set to \"Not Applicable\".\n",
    "\n",
    "\"\"\"\n",
    "\n",
    "census_df.loc[(census_df[\"Age\"] < 16) & (census_df[\"Marital Status\"].isna()), \"Marital Status\"] = \"Minor\""
   ]
  },
  {
   "cell_type": "code",
   "execution_count": null,
   "id": "cae2a8e8",
   "metadata": {
    "scrolled": false
   },
   "outputs": [],
   "source": [
    "#Retrieving the records individuals who are betweeen 16 and 17 with null values indicated in their marital status.\n",
    "\n",
    "census_df.loc[((census_df[\"Age\"] >15) & (census_df[\"Age\"] <18)) & (census_df[\"Marital Status\"].isna())]"
   ]
  },
  {
   "cell_type": "code",
   "execution_count": 43,
   "id": "51a33bc6",
   "metadata": {},
   "outputs": [],
   "source": [
    "\"\"\"\n",
    "\n",
    "By law the age of marriage is 18 years old.\n",
    "Therefore, the marital status of the all individuals whose age is between 16 and 17 would be set to Single.\n",
    "\n",
    "\"\"\"\n",
    "census_df.loc[((census_df[\"Age\"] > 15) & census_df[\"Age\"] < 18) & (census_df[\"Marital Status\"].isna()), \"Marital Status\"] = \"Single\""
   ]
  },
  {
   "cell_type": "code",
   "execution_count": 44,
   "id": "15c6d1db",
   "metadata": {},
   "outputs": [
    {
     "data": {
      "text/html": [
       "<div>\n",
       "<style scoped>\n",
       "    .dataframe tbody tr th:only-of-type {\n",
       "        vertical-align: middle;\n",
       "    }\n",
       "\n",
       "    .dataframe tbody tr th {\n",
       "        vertical-align: top;\n",
       "    }\n",
       "\n",
       "    .dataframe thead th {\n",
       "        text-align: right;\n",
       "    }\n",
       "</style>\n",
       "<table border=\"1\" class=\"dataframe\">\n",
       "  <thead>\n",
       "    <tr style=\"text-align: right;\">\n",
       "      <th></th>\n",
       "      <th>count</th>\n",
       "      <th>mean</th>\n",
       "      <th>std</th>\n",
       "      <th>min</th>\n",
       "      <th>25%</th>\n",
       "      <th>50%</th>\n",
       "      <th>75%</th>\n",
       "      <th>max</th>\n",
       "    </tr>\n",
       "    <tr>\n",
       "      <th>Marital Status</th>\n",
       "      <th></th>\n",
       "      <th></th>\n",
       "      <th></th>\n",
       "      <th></th>\n",
       "      <th></th>\n",
       "      <th></th>\n",
       "      <th></th>\n",
       "      <th></th>\n",
       "    </tr>\n",
       "  </thead>\n",
       "  <tbody>\n",
       "    <tr>\n",
       "      <th>Divorced</th>\n",
       "      <td>753.0</td>\n",
       "      <td>41.019920</td>\n",
       "      <td>17.061945</td>\n",
       "      <td>18.0</td>\n",
       "      <td>28.00</td>\n",
       "      <td>37.0</td>\n",
       "      <td>51.0</td>\n",
       "      <td>105.0</td>\n",
       "    </tr>\n",
       "    <tr>\n",
       "      <th>Married</th>\n",
       "      <td>2602.0</td>\n",
       "      <td>50.122598</td>\n",
       "      <td>16.412689</td>\n",
       "      <td>18.0</td>\n",
       "      <td>38.00</td>\n",
       "      <td>48.0</td>\n",
       "      <td>62.0</td>\n",
       "      <td>107.0</td>\n",
       "    </tr>\n",
       "    <tr>\n",
       "      <th>Minor</th>\n",
       "      <td>1856.0</td>\n",
       "      <td>7.920797</td>\n",
       "      <td>4.447438</td>\n",
       "      <td>0.0</td>\n",
       "      <td>4.00</td>\n",
       "      <td>8.0</td>\n",
       "      <td>12.0</td>\n",
       "      <td>15.0</td>\n",
       "    </tr>\n",
       "    <tr>\n",
       "      <th>Single</th>\n",
       "      <td>3060.0</td>\n",
       "      <td>35.704575</td>\n",
       "      <td>13.961570</td>\n",
       "      <td>16.0</td>\n",
       "      <td>23.00</td>\n",
       "      <td>34.0</td>\n",
       "      <td>46.0</td>\n",
       "      <td>85.0</td>\n",
       "    </tr>\n",
       "    <tr>\n",
       "      <th>Widowed</th>\n",
       "      <td>306.0</td>\n",
       "      <td>65.418301</td>\n",
       "      <td>18.218929</td>\n",
       "      <td>18.0</td>\n",
       "      <td>61.25</td>\n",
       "      <td>69.0</td>\n",
       "      <td>77.0</td>\n",
       "      <td>103.0</td>\n",
       "    </tr>\n",
       "  </tbody>\n",
       "</table>\n",
       "</div>"
      ],
      "text/plain": [
       "                 count       mean        std   min    25%   50%   75%    max\n",
       "Marital Status                                                              \n",
       "Divorced         753.0  41.019920  17.061945  18.0  28.00  37.0  51.0  105.0\n",
       "Married         2602.0  50.122598  16.412689  18.0  38.00  48.0  62.0  107.0\n",
       "Minor           1856.0   7.920797   4.447438   0.0   4.00   8.0  12.0   15.0\n",
       "Single          3060.0  35.704575  13.961570  16.0  23.00  34.0  46.0   85.0\n",
       "Widowed          306.0  65.418301  18.218929  18.0  61.25  69.0  77.0  103.0"
      ]
     },
     "execution_count": 44,
     "metadata": {},
     "output_type": "execute_result"
    }
   ],
   "source": [
    "census_df.groupby('Marital Status')['Age'].describe()"
   ]
  },
  {
   "cell_type": "code",
   "execution_count": 45,
   "id": "adca55d1",
   "metadata": {
    "scrolled": false
   },
   "outputs": [
    {
     "data": {
      "image/png": "[encoded data removed]",
      "text/plain": [
       "<Figure size 800x500 with 1 Axes>"
      ]
     },
     "metadata": {},
     "output_type": "display_data"
    }
   ],
   "source": [
    "plt.figure(figsize=(8,5))\n",
    "total = float(len(census_df))\n",
    "ax = sns.countplot(x=\"Marital Status\", data=census_df,palette= sns.color_palette(\"husl\", 7))\n",
    "plt.title('Marital Status', fontsize=20)\n",
    "for p in ax.patches:\n",
    "    percentage = '{:.1f}%'.format(100 * p.get_height()/total)\n",
    "    x = p.get_x() + p.get_width()\n",
    "    y = p.get_height()\n",
    "    ax.annotate(percentage, (x, y),ha='center')\n",
    "plt.show()"
   ]
  },
  {
   "cell_type": "code",
   "execution_count": 46,
   "id": "5cefb12d",
   "metadata": {
    "scrolled": true
   },
   "outputs": [
    {
     "data": {
      "image/png": "[encoded data removed]",
      "text/plain": [
       "<Figure size 1000x800 with 1 Axes>"
      ]
     },
     "metadata": {},
     "output_type": "display_data"
    }
   ],
   "source": [
    "ax2 = sns.boxplot(x=\"Age\", y=\"Marital Status\", data=census_df,palette='Set1')\n",
    "plt.title('Marital Status by Age', fontsize=20)\n",
    "plt.show()"
   ]
  },
  {
   "cell_type": "code",
   "execution_count": 47,
   "id": "77a381e5",
   "metadata": {},
   "outputs": [
    {
     "data": {
      "image/png": "[encoded data removed]",
      "text/plain": [
       "<Figure size 1000x800 with 1 Axes>"
      ]
     },
     "metadata": {},
     "output_type": "display_data"
    }
   ],
   "source": [
    "# Clustered bar chart of Gender and Marital Status\n",
    "\n",
    "census_df.groupby(['Gender', 'Marital Status']).size().unstack().plot(kind = 'bar', color=['brown', 'chocolate', 'darkorchid', 'darkcyan', 'palevioletred'])\n",
    "\n",
    "plt.xlabel('Gender', size = 16)\n",
    "\n",
    "plt.ylabel('Frequency', size = 16)\n",
    "\n",
    "plt.title('Marital Status by Gender', size = 18)\n",
    "\n",
    "plt.savefig('Marital_status_by_gender.png')\n",
    "\n",
    "plt.show()"
   ]
  },
  {
   "cell_type": "code",
   "execution_count": 48,
   "id": "a4942114",
   "metadata": {},
   "outputs": [],
   "source": [
    "ax.get_figure().savefig(\"./marital_status.png\")\n",
    "ax2.get_figure().savefig(\"./marital_status2.png\")"
   ]
  },
  {
   "cell_type": "markdown",
   "id": "7c757bbb",
   "metadata": {},
   "source": [
    "## Gender Column"
   ]
  },
  {
   "cell_type": "code",
   "execution_count": 49,
   "id": "816f5d17",
   "metadata": {},
   "outputs": [
    {
     "data": {
      "text/plain": [
       "array(['Male', 'Female'], dtype=object)"
      ]
     },
     "execution_count": 49,
     "metadata": {},
     "output_type": "execute_result"
    }
   ],
   "source": [
    "#Checking the unique values of the Gender column.\n",
    "\n",
    "census_df[\"Gender\"].unique()"
   ]
  },
  {
   "cell_type": "markdown",
   "id": "42ffe469",
   "metadata": {},
   "source": [
    "There are empty missing values in the Age column."
   ]
  },
  {
   "cell_type": "markdown",
   "id": "2536db8a",
   "metadata": {},
   "source": [
    "## Occupation Column"
   ]
  },
  {
   "cell_type": "code",
   "execution_count": 50,
   "id": "cc388fd4",
   "metadata": {},
   "outputs": [
    {
     "data": {
      "text/plain": [
       "array(['Sports development officer', 'University Student',\n",
       "       'Mining engineer', ..., 'Retired Physicist, medical',\n",
       "       'Retired Landscape architect', 'Retired Hospital pharmacist'],\n",
       "      dtype=object)"
      ]
     },
     "execution_count": 50,
     "metadata": {},
     "output_type": "execute_result"
    }
   ],
   "source": [
    "#Checking the unique values of the Occupation column.\n",
    "\n",
    "census_df[\"Occupation\"].unique()"
   ]
  },
  {
   "cell_type": "code",
   "execution_count": 51,
   "id": "16482ecf",
   "metadata": {},
   "outputs": [
    {
     "data": {
      "text/html": [
       "<div>\n",
       "<style scoped>\n",
       "    .dataframe tbody tr th:only-of-type {\n",
       "        vertical-align: middle;\n",
       "    }\n",
       "\n",
       "    .dataframe tbody tr th {\n",
       "        vertical-align: top;\n",
       "    }\n",
       "\n",
       "    .dataframe thead th {\n",
       "        text-align: right;\n",
       "    }\n",
       "</style>\n",
       "<table border=\"1\" class=\"dataframe\">\n",
       "  <thead>\n",
       "    <tr style=\"text-align: right;\">\n",
       "      <th></th>\n",
       "      <th>House Number</th>\n",
       "      <th>Street</th>\n",
       "      <th>First Name</th>\n",
       "      <th>Surname</th>\n",
       "      <th>Age</th>\n",
       "      <th>Relationship to Head of House</th>\n",
       "      <th>Marital Status</th>\n",
       "      <th>Gender</th>\n",
       "      <th>Occupation</th>\n",
       "      <th>Infirmity</th>\n",
       "      <th>Religion</th>\n",
       "      <th>Age Band</th>\n",
       "    </tr>\n",
       "  </thead>\n",
       "  <tbody>\n",
       "  </tbody>\n",
       "</table>\n",
       "</div>"
      ],
      "text/plain": [
       "Empty DataFrame\n",
       "Columns: [House Number, Street, First Name, Surname, Age, Relationship to Head of House, Marital Status, Gender, Occupation, Infirmity, Religion, Age Band]\n",
       "Index: []"
      ]
     },
     "execution_count": 51,
     "metadata": {},
     "output_type": "execute_result"
    }
   ],
   "source": [
    "#Checking if there is any missing value in the Gender column.\n",
    "\n",
    "census_df[census_df[\"Occupation\"].isna()]"
   ]
  },
  {
   "cell_type": "code",
   "execution_count": 52,
   "id": "5cc152f6",
   "metadata": {},
   "outputs": [
    {
     "data": {
      "text/html": [
       "<div>\n",
       "<style scoped>\n",
       "    .dataframe tbody tr th:only-of-type {\n",
       "        vertical-align: middle;\n",
       "    }\n",
       "\n",
       "    .dataframe tbody tr th {\n",
       "        vertical-align: top;\n",
       "    }\n",
       "\n",
       "    .dataframe thead th {\n",
       "        text-align: right;\n",
       "    }\n",
       "</style>\n",
       "<table border=\"1\" class=\"dataframe\">\n",
       "  <thead>\n",
       "    <tr style=\"text-align: right;\">\n",
       "      <th></th>\n",
       "      <th>House Number</th>\n",
       "      <th>Street</th>\n",
       "      <th>First Name</th>\n",
       "      <th>Surname</th>\n",
       "      <th>Age</th>\n",
       "      <th>Relationship to Head of House</th>\n",
       "      <th>Marital Status</th>\n",
       "      <th>Gender</th>\n",
       "      <th>Occupation</th>\n",
       "      <th>Infirmity</th>\n",
       "      <th>Religion</th>\n",
       "      <th>Age Band</th>\n",
       "    </tr>\n",
       "  </thead>\n",
       "  <tbody>\n",
       "  </tbody>\n",
       "</table>\n",
       "</div>"
      ],
      "text/plain": [
       "Empty DataFrame\n",
       "Columns: [House Number, Street, First Name, Surname, Age, Relationship to Head of House, Marital Status, Gender, Occupation, Infirmity, Religion, Age Band]\n",
       "Index: []"
      ]
     },
     "execution_count": 52,
     "metadata": {},
     "output_type": "execute_result"
    }
   ],
   "source": [
    "#Checking if there is any missing value in the Gender column.\n",
    "\n",
    "census_df[census_df[\"Occupation\"] == \" \"]"
   ]
  },
  {
   "cell_type": "code",
   "execution_count": 53,
   "id": "861e4234",
   "metadata": {},
   "outputs": [
    {
     "data": {
      "text/html": [
       "<div>\n",
       "<style scoped>\n",
       "    .dataframe tbody tr th:only-of-type {\n",
       "        vertical-align: middle;\n",
       "    }\n",
       "\n",
       "    .dataframe tbody tr th {\n",
       "        vertical-align: top;\n",
       "    }\n",
       "\n",
       "    .dataframe thead th {\n",
       "        text-align: right;\n",
       "    }\n",
       "</style>\n",
       "<table border=\"1\" class=\"dataframe\">\n",
       "  <thead>\n",
       "    <tr style=\"text-align: right;\">\n",
       "      <th></th>\n",
       "      <th>House Number</th>\n",
       "      <th>Street</th>\n",
       "      <th>First Name</th>\n",
       "      <th>Surname</th>\n",
       "      <th>Age</th>\n",
       "      <th>Relationship to Head of House</th>\n",
       "      <th>Marital Status</th>\n",
       "      <th>Gender</th>\n",
       "      <th>Occupation</th>\n",
       "      <th>Infirmity</th>\n",
       "      <th>Religion</th>\n",
       "      <th>Age Band</th>\n",
       "    </tr>\n",
       "  </thead>\n",
       "  <tbody>\n",
       "  </tbody>\n",
       "</table>\n",
       "</div>"
      ],
      "text/plain": [
       "Empty DataFrame\n",
       "Columns: [House Number, Street, First Name, Surname, Age, Relationship to Head of House, Marital Status, Gender, Occupation, Infirmity, Religion, Age Band]\n",
       "Index: []"
      ]
     },
     "execution_count": 53,
     "metadata": {},
     "output_type": "execute_result"
    }
   ],
   "source": [
    "census_df[census_df[\"Occupation\"] == \"None\"]"
   ]
  },
  {
   "cell_type": "markdown",
   "id": "2b601ddc",
   "metadata": {},
   "source": [
    "## Infirmity Column"
   ]
  },
  {
   "cell_type": "code",
   "execution_count": 54,
   "id": "f050a9bc",
   "metadata": {},
   "outputs": [
    {
     "data": {
      "text/plain": [
       "array(['None', 'Deaf', 'Physical Disability', 'Unknown Infection',\n",
       "       'Blind', 'Disabled', 'Mental Disability', ' '], dtype=object)"
      ]
     },
     "execution_count": 54,
     "metadata": {},
     "output_type": "execute_result"
    }
   ],
   "source": [
    "#Checking the unique values of the Infirmity column.\n",
    "\n",
    "census_df[\"Infirmity\"].unique()"
   ]
  },
  {
   "cell_type": "code",
   "execution_count": 55,
   "id": "33fdd334",
   "metadata": {
    "scrolled": true
   },
   "outputs": [
    {
     "data": {
      "text/html": [
       "<div>\n",
       "<style scoped>\n",
       "    .dataframe tbody tr th:only-of-type {\n",
       "        vertical-align: middle;\n",
       "    }\n",
       "\n",
       "    .dataframe tbody tr th {\n",
       "        vertical-align: top;\n",
       "    }\n",
       "\n",
       "    .dataframe thead th {\n",
       "        text-align: right;\n",
       "    }\n",
       "</style>\n",
       "<table border=\"1\" class=\"dataframe\">\n",
       "  <thead>\n",
       "    <tr style=\"text-align: right;\">\n",
       "      <th></th>\n",
       "      <th>House Number</th>\n",
       "      <th>Street</th>\n",
       "      <th>First Name</th>\n",
       "      <th>Surname</th>\n",
       "      <th>Age</th>\n",
       "      <th>Relationship to Head of House</th>\n",
       "      <th>Marital Status</th>\n",
       "      <th>Gender</th>\n",
       "      <th>Occupation</th>\n",
       "      <th>Infirmity</th>\n",
       "      <th>Religion</th>\n",
       "      <th>Age Band</th>\n",
       "    </tr>\n",
       "  </thead>\n",
       "  <tbody>\n",
       "    <tr>\n",
       "      <th>1534</th>\n",
       "      <td>49</td>\n",
       "      <td>Polaris Crescent</td>\n",
       "      <td>Donna</td>\n",
       "      <td>Robinson</td>\n",
       "      <td>52</td>\n",
       "      <td>Head</td>\n",
       "      <td>Married</td>\n",
       "      <td>Female</td>\n",
       "      <td>Tax inspector</td>\n",
       "      <td></td>\n",
       "      <td>Christian</td>\n",
       "      <td>50-54</td>\n",
       "    </tr>\n",
       "    <tr>\n",
       "      <th>3055</th>\n",
       "      <td>2</td>\n",
       "      <td>Obelisk Orchard</td>\n",
       "      <td>Lucy</td>\n",
       "      <td>Allen</td>\n",
       "      <td>41</td>\n",
       "      <td>Head</td>\n",
       "      <td>Single</td>\n",
       "      <td>Female</td>\n",
       "      <td>Journalist, broadcasting</td>\n",
       "      <td></td>\n",
       "      <td>None</td>\n",
       "      <td>40-44</td>\n",
       "    </tr>\n",
       "    <tr>\n",
       "      <th>3313</th>\n",
       "      <td>25</td>\n",
       "      <td>Harvey Dale</td>\n",
       "      <td>Robert</td>\n",
       "      <td>Parker</td>\n",
       "      <td>6</td>\n",
       "      <td>Son</td>\n",
       "      <td>Minor</td>\n",
       "      <td>Male</td>\n",
       "      <td>Student</td>\n",
       "      <td></td>\n",
       "      <td>NaN</td>\n",
       "      <td>5-9</td>\n",
       "    </tr>\n",
       "    <tr>\n",
       "      <th>3639</th>\n",
       "      <td>14</td>\n",
       "      <td>Wales Crescent</td>\n",
       "      <td>Peter</td>\n",
       "      <td>Hall</td>\n",
       "      <td>4</td>\n",
       "      <td>Son</td>\n",
       "      <td>Minor</td>\n",
       "      <td>Male</td>\n",
       "      <td>Child</td>\n",
       "      <td></td>\n",
       "      <td>NaN</td>\n",
       "      <td>0-4</td>\n",
       "    </tr>\n",
       "    <tr>\n",
       "      <th>4676</th>\n",
       "      <td>48</td>\n",
       "      <td>Parrot Crescent</td>\n",
       "      <td>Wendy</td>\n",
       "      <td>Phillips</td>\n",
       "      <td>2</td>\n",
       "      <td>Daughter</td>\n",
       "      <td>Minor</td>\n",
       "      <td>Female</td>\n",
       "      <td>Child</td>\n",
       "      <td></td>\n",
       "      <td>NaN</td>\n",
       "      <td>0-4</td>\n",
       "    </tr>\n",
       "    <tr>\n",
       "      <th>4775</th>\n",
       "      <td>24</td>\n",
       "      <td>Smith Divide</td>\n",
       "      <td>Joanne</td>\n",
       "      <td>Gregory</td>\n",
       "      <td>61</td>\n",
       "      <td>Cousin</td>\n",
       "      <td>Single</td>\n",
       "      <td>Female</td>\n",
       "      <td>Geographical information systems officer</td>\n",
       "      <td></td>\n",
       "      <td>Methodist</td>\n",
       "      <td>60-64</td>\n",
       "    </tr>\n",
       "    <tr>\n",
       "      <th>5398</th>\n",
       "      <td>42</td>\n",
       "      <td>Repton Drive</td>\n",
       "      <td>Marc</td>\n",
       "      <td>Jones</td>\n",
       "      <td>28</td>\n",
       "      <td>Husband</td>\n",
       "      <td>Married</td>\n",
       "      <td>Male</td>\n",
       "      <td>Freight forwarder</td>\n",
       "      <td></td>\n",
       "      <td>None</td>\n",
       "      <td>25-29</td>\n",
       "    </tr>\n",
       "  </tbody>\n",
       "</table>\n",
       "</div>"
      ],
      "text/plain": [
       "      House Number            Street First Name   Surname  Age  \\\n",
       "1534            49  Polaris Crescent      Donna  Robinson   52   \n",
       "3055             2   Obelisk Orchard       Lucy     Allen   41   \n",
       "3313            25       Harvey Dale     Robert    Parker    6   \n",
       "3639            14    Wales Crescent      Peter      Hall    4   \n",
       "4676            48   Parrot Crescent      Wendy  Phillips    2   \n",
       "4775            24      Smith Divide     Joanne   Gregory   61   \n",
       "5398            42      Repton Drive       Marc     Jones   28   \n",
       "\n",
       "     Relationship to Head of House Marital Status  Gender  \\\n",
       "1534                          Head        Married  Female   \n",
       "3055                          Head         Single  Female   \n",
       "3313                           Son          Minor    Male   \n",
       "3639                           Son          Minor    Male   \n",
       "4676                      Daughter          Minor  Female   \n",
       "4775                        Cousin         Single  Female   \n",
       "5398                       Husband        Married    Male   \n",
       "\n",
       "                                    Occupation Infirmity   Religion Age Band  \n",
       "1534                             Tax inspector            Christian    50-54  \n",
       "3055                  Journalist, broadcasting                 None    40-44  \n",
       "3313                                   Student                  NaN      5-9  \n",
       "3639                                     Child                  NaN      0-4  \n",
       "4676                                     Child                  NaN      0-4  \n",
       "4775  Geographical information systems officer            Methodist    60-64  \n",
       "5398                         Freight forwarder                 None    25-29  "
      ]
     },
     "execution_count": 55,
     "metadata": {},
     "output_type": "execute_result"
    }
   ],
   "source": [
    "#Checking if there is any missing value in the Gender column.\n",
    "\n",
    "census_df[census_df[\"Infirmity\"] == \" \"]"
   ]
  },
  {
   "cell_type": "markdown",
   "id": "b8dce725",
   "metadata": {},
   "source": [
    "The family members of all individuals with missing values in the Infirmity column was carefully analyzed to check for any possibility of infirmity due to heredity. From the output, it can concluded that no family member as any form of infirmity, hence, all missing values in the Infirmity column would be replaced with \"None\"."
   ]
  },
  {
   "cell_type": "code",
   "execution_count": 56,
   "id": "db58ee0b",
   "metadata": {},
   "outputs": [
    {
     "data": {
      "text/html": [
       "<div>\n",
       "<style scoped>\n",
       "    .dataframe tbody tr th:only-of-type {\n",
       "        vertical-align: middle;\n",
       "    }\n",
       "\n",
       "    .dataframe tbody tr th {\n",
       "        vertical-align: top;\n",
       "    }\n",
       "\n",
       "    .dataframe thead th {\n",
       "        text-align: right;\n",
       "    }\n",
       "</style>\n",
       "<table border=\"1\" class=\"dataframe\">\n",
       "  <thead>\n",
       "    <tr style=\"text-align: right;\">\n",
       "      <th></th>\n",
       "      <th>House Number</th>\n",
       "      <th>Street</th>\n",
       "      <th>First Name</th>\n",
       "      <th>Surname</th>\n",
       "      <th>Age</th>\n",
       "      <th>Relationship to Head of House</th>\n",
       "      <th>Marital Status</th>\n",
       "      <th>Gender</th>\n",
       "      <th>Occupation</th>\n",
       "      <th>Infirmity</th>\n",
       "      <th>Religion</th>\n",
       "      <th>Age Band</th>\n",
       "    </tr>\n",
       "  </thead>\n",
       "  <tbody>\n",
       "    <tr>\n",
       "      <th>1534</th>\n",
       "      <td>49</td>\n",
       "      <td>Polaris Crescent</td>\n",
       "      <td>Donna</td>\n",
       "      <td>Robinson</td>\n",
       "      <td>52</td>\n",
       "      <td>Head</td>\n",
       "      <td>Married</td>\n",
       "      <td>Female</td>\n",
       "      <td>Tax inspector</td>\n",
       "      <td></td>\n",
       "      <td>Christian</td>\n",
       "      <td>50-54</td>\n",
       "    </tr>\n",
       "    <tr>\n",
       "      <th>1535</th>\n",
       "      <td>49</td>\n",
       "      <td>Polaris Crescent</td>\n",
       "      <td>Dale</td>\n",
       "      <td>Robinson</td>\n",
       "      <td>58</td>\n",
       "      <td>Husband</td>\n",
       "      <td>Married</td>\n",
       "      <td>Male</td>\n",
       "      <td>Teacher, primary school</td>\n",
       "      <td>None</td>\n",
       "      <td>None</td>\n",
       "      <td>55-59</td>\n",
       "    </tr>\n",
       "    <tr>\n",
       "      <th>1536</th>\n",
       "      <td>49</td>\n",
       "      <td>Polaris Crescent</td>\n",
       "      <td>Carole</td>\n",
       "      <td>Robinson</td>\n",
       "      <td>20</td>\n",
       "      <td>Daughter</td>\n",
       "      <td>Single</td>\n",
       "      <td>Female</td>\n",
       "      <td>University Student</td>\n",
       "      <td>None</td>\n",
       "      <td>Christian</td>\n",
       "      <td>20-24</td>\n",
       "    </tr>\n",
       "    <tr>\n",
       "      <th>1537</th>\n",
       "      <td>49</td>\n",
       "      <td>Polaris Crescent</td>\n",
       "      <td>Bethan</td>\n",
       "      <td>Robinson</td>\n",
       "      <td>18</td>\n",
       "      <td>Daughter</td>\n",
       "      <td>Divorced</td>\n",
       "      <td>Female</td>\n",
       "      <td>Student</td>\n",
       "      <td>None</td>\n",
       "      <td>None</td>\n",
       "      <td>15-19</td>\n",
       "    </tr>\n",
       "  </tbody>\n",
       "</table>\n",
       "</div>"
      ],
      "text/plain": [
       "      House Number            Street First Name   Surname  Age  \\\n",
       "1534            49  Polaris Crescent      Donna  Robinson   52   \n",
       "1535            49  Polaris Crescent       Dale  Robinson   58   \n",
       "1536            49  Polaris Crescent     Carole  Robinson   20   \n",
       "1537            49  Polaris Crescent     Bethan  Robinson   18   \n",
       "\n",
       "     Relationship to Head of House Marital Status  Gender  \\\n",
       "1534                          Head        Married  Female   \n",
       "1535                       Husband        Married    Male   \n",
       "1536                      Daughter         Single  Female   \n",
       "1537                      Daughter       Divorced  Female   \n",
       "\n",
       "                   Occupation Infirmity   Religion Age Band  \n",
       "1534            Tax inspector            Christian    50-54  \n",
       "1535  Teacher, primary school      None       None    55-59  \n",
       "1536       University Student      None  Christian    20-24  \n",
       "1537                  Student      None       None    15-19  "
      ]
     },
     "execution_count": 56,
     "metadata": {},
     "output_type": "execute_result"
    }
   ],
   "source": [
    "#Checking for individuals related to Donna Robinson for any possibilty biological inheritance of infirmity.\n",
    "\n",
    "census_df.loc[(census_df[\"House Number\"] == 49) & (census_df[\"Street\"] == \"Polaris Crescent\") & (census_df[\"Surname\"] == \"Robinson\")]"
   ]
  },
  {
   "cell_type": "code",
   "execution_count": 57,
   "id": "3ce8a756",
   "metadata": {},
   "outputs": [
    {
     "data": {
      "text/html": [
       "<div>\n",
       "<style scoped>\n",
       "    .dataframe tbody tr th:only-of-type {\n",
       "        vertical-align: middle;\n",
       "    }\n",
       "\n",
       "    .dataframe tbody tr th {\n",
       "        vertical-align: top;\n",
       "    }\n",
       "\n",
       "    .dataframe thead th {\n",
       "        text-align: right;\n",
       "    }\n",
       "</style>\n",
       "<table border=\"1\" class=\"dataframe\">\n",
       "  <thead>\n",
       "    <tr style=\"text-align: right;\">\n",
       "      <th></th>\n",
       "      <th>House Number</th>\n",
       "      <th>Street</th>\n",
       "      <th>First Name</th>\n",
       "      <th>Surname</th>\n",
       "      <th>Age</th>\n",
       "      <th>Relationship to Head of House</th>\n",
       "      <th>Marital Status</th>\n",
       "      <th>Gender</th>\n",
       "      <th>Occupation</th>\n",
       "      <th>Infirmity</th>\n",
       "      <th>Religion</th>\n",
       "      <th>Age Band</th>\n",
       "    </tr>\n",
       "  </thead>\n",
       "  <tbody>\n",
       "    <tr>\n",
       "      <th>3055</th>\n",
       "      <td>2</td>\n",
       "      <td>Obelisk Orchard</td>\n",
       "      <td>Lucy</td>\n",
       "      <td>Allen</td>\n",
       "      <td>41</td>\n",
       "      <td>Head</td>\n",
       "      <td>Single</td>\n",
       "      <td>Female</td>\n",
       "      <td>Journalist, broadcasting</td>\n",
       "      <td></td>\n",
       "      <td>None</td>\n",
       "      <td>40-44</td>\n",
       "    </tr>\n",
       "  </tbody>\n",
       "</table>\n",
       "</div>"
      ],
      "text/plain": [
       "      House Number           Street First Name Surname  Age  \\\n",
       "3055             2  Obelisk Orchard       Lucy   Allen   41   \n",
       "\n",
       "     Relationship to Head of House Marital Status  Gender  \\\n",
       "3055                          Head         Single  Female   \n",
       "\n",
       "                    Occupation Infirmity Religion Age Band  \n",
       "3055  Journalist, broadcasting               None    40-44  "
      ]
     },
     "execution_count": 57,
     "metadata": {},
     "output_type": "execute_result"
    }
   ],
   "source": [
    "#Checking for individuals related to Lucy Allen for any possibilty biological inheritance of infirmity.\n",
    "\n",
    "census_df.loc[(census_df[\"House Number\"] == 2) & (census_df[\"Street\"] == \"Obelisk Orchard\") & (census_df[\"Surname\"] == \"Allen\")]"
   ]
  },
  {
   "cell_type": "code",
   "execution_count": 58,
   "id": "6a410059",
   "metadata": {},
   "outputs": [
    {
     "data": {
      "text/html": [
       "<div>\n",
       "<style scoped>\n",
       "    .dataframe tbody tr th:only-of-type {\n",
       "        vertical-align: middle;\n",
       "    }\n",
       "\n",
       "    .dataframe tbody tr th {\n",
       "        vertical-align: top;\n",
       "    }\n",
       "\n",
       "    .dataframe thead th {\n",
       "        text-align: right;\n",
       "    }\n",
       "</style>\n",
       "<table border=\"1\" class=\"dataframe\">\n",
       "  <thead>\n",
       "    <tr style=\"text-align: right;\">\n",
       "      <th></th>\n",
       "      <th>House Number</th>\n",
       "      <th>Street</th>\n",
       "      <th>First Name</th>\n",
       "      <th>Surname</th>\n",
       "      <th>Age</th>\n",
       "      <th>Relationship to Head of House</th>\n",
       "      <th>Marital Status</th>\n",
       "      <th>Gender</th>\n",
       "      <th>Occupation</th>\n",
       "      <th>Infirmity</th>\n",
       "      <th>Religion</th>\n",
       "      <th>Age Band</th>\n",
       "    </tr>\n",
       "  </thead>\n",
       "  <tbody>\n",
       "    <tr>\n",
       "      <th>3306</th>\n",
       "      <td>25</td>\n",
       "      <td>Harvey Dale</td>\n",
       "      <td>Adam</td>\n",
       "      <td>Parker</td>\n",
       "      <td>26</td>\n",
       "      <td>Son</td>\n",
       "      <td>Single</td>\n",
       "      <td>Male</td>\n",
       "      <td>Occupational hygienist</td>\n",
       "      <td>None</td>\n",
       "      <td>None</td>\n",
       "      <td>25-29</td>\n",
       "    </tr>\n",
       "    <tr>\n",
       "      <th>3307</th>\n",
       "      <td>25</td>\n",
       "      <td>Harvey Dale</td>\n",
       "      <td>Damien</td>\n",
       "      <td>Parker</td>\n",
       "      <td>22</td>\n",
       "      <td>Son</td>\n",
       "      <td>Divorced</td>\n",
       "      <td>Male</td>\n",
       "      <td>University Student</td>\n",
       "      <td>None</td>\n",
       "      <td>None</td>\n",
       "      <td>20-24</td>\n",
       "    </tr>\n",
       "    <tr>\n",
       "      <th>3308</th>\n",
       "      <td>25</td>\n",
       "      <td>Harvey Dale</td>\n",
       "      <td>Antony</td>\n",
       "      <td>Parker</td>\n",
       "      <td>19</td>\n",
       "      <td>Son</td>\n",
       "      <td>Single</td>\n",
       "      <td>Male</td>\n",
       "      <td>University Student</td>\n",
       "      <td>None</td>\n",
       "      <td>None</td>\n",
       "      <td>15-19</td>\n",
       "    </tr>\n",
       "    <tr>\n",
       "      <th>3309</th>\n",
       "      <td>25</td>\n",
       "      <td>Harvey Dale</td>\n",
       "      <td>Gerald</td>\n",
       "      <td>Parker</td>\n",
       "      <td>16</td>\n",
       "      <td>Son</td>\n",
       "      <td>Single</td>\n",
       "      <td>Male</td>\n",
       "      <td>Student</td>\n",
       "      <td>None</td>\n",
       "      <td>NaN</td>\n",
       "      <td>15-19</td>\n",
       "    </tr>\n",
       "    <tr>\n",
       "      <th>3310</th>\n",
       "      <td>25</td>\n",
       "      <td>Harvey Dale</td>\n",
       "      <td>Janet</td>\n",
       "      <td>Parker</td>\n",
       "      <td>12</td>\n",
       "      <td>Daughter</td>\n",
       "      <td>Minor</td>\n",
       "      <td>Female</td>\n",
       "      <td>Student</td>\n",
       "      <td>None</td>\n",
       "      <td>NaN</td>\n",
       "      <td>10-14</td>\n",
       "    </tr>\n",
       "    <tr>\n",
       "      <th>3311</th>\n",
       "      <td>25</td>\n",
       "      <td>Harvey Dale</td>\n",
       "      <td>Robert</td>\n",
       "      <td>Parker</td>\n",
       "      <td>9</td>\n",
       "      <td>Son</td>\n",
       "      <td>Minor</td>\n",
       "      <td>Male</td>\n",
       "      <td>Student</td>\n",
       "      <td>None</td>\n",
       "      <td>NaN</td>\n",
       "      <td>5-9</td>\n",
       "    </tr>\n",
       "    <tr>\n",
       "      <th>3312</th>\n",
       "      <td>25</td>\n",
       "      <td>Harvey Dale</td>\n",
       "      <td>Jean</td>\n",
       "      <td>Parker</td>\n",
       "      <td>6</td>\n",
       "      <td>Daughter</td>\n",
       "      <td>Minor</td>\n",
       "      <td>Female</td>\n",
       "      <td>Student</td>\n",
       "      <td>None</td>\n",
       "      <td>NaN</td>\n",
       "      <td>5-9</td>\n",
       "    </tr>\n",
       "    <tr>\n",
       "      <th>3313</th>\n",
       "      <td>25</td>\n",
       "      <td>Harvey Dale</td>\n",
       "      <td>Robert</td>\n",
       "      <td>Parker</td>\n",
       "      <td>6</td>\n",
       "      <td>Son</td>\n",
       "      <td>Minor</td>\n",
       "      <td>Male</td>\n",
       "      <td>Student</td>\n",
       "      <td></td>\n",
       "      <td>NaN</td>\n",
       "      <td>5-9</td>\n",
       "    </tr>\n",
       "  </tbody>\n",
       "</table>\n",
       "</div>"
      ],
      "text/plain": [
       "      House Number       Street First Name Surname  Age  \\\n",
       "3306            25  Harvey Dale       Adam  Parker   26   \n",
       "3307            25  Harvey Dale     Damien  Parker   22   \n",
       "3308            25  Harvey Dale     Antony  Parker   19   \n",
       "3309            25  Harvey Dale     Gerald  Parker   16   \n",
       "3310            25  Harvey Dale      Janet  Parker   12   \n",
       "3311            25  Harvey Dale     Robert  Parker    9   \n",
       "3312            25  Harvey Dale       Jean  Parker    6   \n",
       "3313            25  Harvey Dale     Robert  Parker    6   \n",
       "\n",
       "     Relationship to Head of House Marital Status  Gender  \\\n",
       "3306                           Son         Single    Male   \n",
       "3307                           Son       Divorced    Male   \n",
       "3308                           Son         Single    Male   \n",
       "3309                           Son         Single    Male   \n",
       "3310                      Daughter          Minor  Female   \n",
       "3311                           Son          Minor    Male   \n",
       "3312                      Daughter          Minor  Female   \n",
       "3313                           Son          Minor    Male   \n",
       "\n",
       "                  Occupation Infirmity Religion Age Band  \n",
       "3306  Occupational hygienist      None     None    25-29  \n",
       "3307      University Student      None     None    20-24  \n",
       "3308      University Student      None     None    15-19  \n",
       "3309                 Student      None      NaN    15-19  \n",
       "3310                 Student      None      NaN    10-14  \n",
       "3311                 Student      None      NaN      5-9  \n",
       "3312                 Student      None      NaN      5-9  \n",
       "3313                 Student                NaN      5-9  "
      ]
     },
     "execution_count": 58,
     "metadata": {},
     "output_type": "execute_result"
    }
   ],
   "source": [
    "#Checking for individuals related to Robert Parker for any possibilty biological inheritance of infirmity.\n",
    "\n",
    "census_df.loc[(census_df[\"House Number\"] == 25) & (census_df[\"Street\"] == \"Harvey Dale\") & (census_df[\"Surname\"] == \"Parker\")]"
   ]
  },
  {
   "cell_type": "code",
   "execution_count": 59,
   "id": "7878193d",
   "metadata": {
    "scrolled": true
   },
   "outputs": [
    {
     "data": {
      "text/html": [
       "<div>\n",
       "<style scoped>\n",
       "    .dataframe tbody tr th:only-of-type {\n",
       "        vertical-align: middle;\n",
       "    }\n",
       "\n",
       "    .dataframe tbody tr th {\n",
       "        vertical-align: top;\n",
       "    }\n",
       "\n",
       "    .dataframe thead th {\n",
       "        text-align: right;\n",
       "    }\n",
       "</style>\n",
       "<table border=\"1\" class=\"dataframe\">\n",
       "  <thead>\n",
       "    <tr style=\"text-align: right;\">\n",
       "      <th></th>\n",
       "      <th>House Number</th>\n",
       "      <th>Street</th>\n",
       "      <th>First Name</th>\n",
       "      <th>Surname</th>\n",
       "      <th>Age</th>\n",
       "      <th>Relationship to Head of House</th>\n",
       "      <th>Marital Status</th>\n",
       "      <th>Gender</th>\n",
       "      <th>Occupation</th>\n",
       "      <th>Infirmity</th>\n",
       "      <th>Religion</th>\n",
       "      <th>Age Band</th>\n",
       "    </tr>\n",
       "  </thead>\n",
       "  <tbody>\n",
       "    <tr>\n",
       "      <th>3638</th>\n",
       "      <td>14</td>\n",
       "      <td>Wales Crescent</td>\n",
       "      <td>Annette</td>\n",
       "      <td>Hall</td>\n",
       "      <td>47</td>\n",
       "      <td>Head</td>\n",
       "      <td>Divorced</td>\n",
       "      <td>Female</td>\n",
       "      <td>Field seismologist</td>\n",
       "      <td>None</td>\n",
       "      <td>None</td>\n",
       "      <td>45-49</td>\n",
       "    </tr>\n",
       "    <tr>\n",
       "      <th>3639</th>\n",
       "      <td>14</td>\n",
       "      <td>Wales Crescent</td>\n",
       "      <td>Peter</td>\n",
       "      <td>Hall</td>\n",
       "      <td>4</td>\n",
       "      <td>Son</td>\n",
       "      <td>Minor</td>\n",
       "      <td>Male</td>\n",
       "      <td>Child</td>\n",
       "      <td></td>\n",
       "      <td>NaN</td>\n",
       "      <td>0-4</td>\n",
       "    </tr>\n",
       "  </tbody>\n",
       "</table>\n",
       "</div>"
      ],
      "text/plain": [
       "      House Number          Street First Name Surname  Age  \\\n",
       "3638            14  Wales Crescent    Annette    Hall   47   \n",
       "3639            14  Wales Crescent      Peter    Hall    4   \n",
       "\n",
       "     Relationship to Head of House Marital Status  Gender          Occupation  \\\n",
       "3638                          Head       Divorced  Female  Field seismologist   \n",
       "3639                           Son          Minor    Male               Child   \n",
       "\n",
       "     Infirmity Religion Age Band  \n",
       "3638      None     None    45-49  \n",
       "3639                NaN      0-4  "
      ]
     },
     "execution_count": 59,
     "metadata": {},
     "output_type": "execute_result"
    }
   ],
   "source": [
    "#Checking for individuals related to Peter Hall for any possibilty biological inheritance of infirmity.\n",
    "\n",
    "census_df.loc[(census_df[\"House Number\"] == 14) & (census_df[\"Street\"] == \"Wales Crescent\") & (census_df[\"Surname\"] == \"Hall\")]"
   ]
  },
  {
   "cell_type": "code",
   "execution_count": 60,
   "id": "0a326e10",
   "metadata": {
    "scrolled": false
   },
   "outputs": [
    {
     "data": {
      "text/html": [
       "<div>\n",
       "<style scoped>\n",
       "    .dataframe tbody tr th:only-of-type {\n",
       "        vertical-align: middle;\n",
       "    }\n",
       "\n",
       "    .dataframe tbody tr th {\n",
       "        vertical-align: top;\n",
       "    }\n",
       "\n",
       "    .dataframe thead th {\n",
       "        text-align: right;\n",
       "    }\n",
       "</style>\n",
       "<table border=\"1\" class=\"dataframe\">\n",
       "  <thead>\n",
       "    <tr style=\"text-align: right;\">\n",
       "      <th></th>\n",
       "      <th>House Number</th>\n",
       "      <th>Street</th>\n",
       "      <th>First Name</th>\n",
       "      <th>Surname</th>\n",
       "      <th>Age</th>\n",
       "      <th>Relationship to Head of House</th>\n",
       "      <th>Marital Status</th>\n",
       "      <th>Gender</th>\n",
       "      <th>Occupation</th>\n",
       "      <th>Infirmity</th>\n",
       "      <th>Religion</th>\n",
       "      <th>Age Band</th>\n",
       "    </tr>\n",
       "  </thead>\n",
       "  <tbody>\n",
       "    <tr>\n",
       "      <th>4674</th>\n",
       "      <td>48</td>\n",
       "      <td>Parrot Crescent</td>\n",
       "      <td>Kirsty</td>\n",
       "      <td>Phillips</td>\n",
       "      <td>40</td>\n",
       "      <td>Head</td>\n",
       "      <td>Single</td>\n",
       "      <td>Female</td>\n",
       "      <td>Legal secretary</td>\n",
       "      <td>None</td>\n",
       "      <td>Catholic</td>\n",
       "      <td>40-44</td>\n",
       "    </tr>\n",
       "    <tr>\n",
       "      <th>4675</th>\n",
       "      <td>48</td>\n",
       "      <td>Parrot Crescent</td>\n",
       "      <td>Christian</td>\n",
       "      <td>Phillips</td>\n",
       "      <td>6</td>\n",
       "      <td>Son</td>\n",
       "      <td>Minor</td>\n",
       "      <td>Male</td>\n",
       "      <td>Student</td>\n",
       "      <td>None</td>\n",
       "      <td>NaN</td>\n",
       "      <td>5-9</td>\n",
       "    </tr>\n",
       "    <tr>\n",
       "      <th>4676</th>\n",
       "      <td>48</td>\n",
       "      <td>Parrot Crescent</td>\n",
       "      <td>Wendy</td>\n",
       "      <td>Phillips</td>\n",
       "      <td>2</td>\n",
       "      <td>Daughter</td>\n",
       "      <td>Minor</td>\n",
       "      <td>Female</td>\n",
       "      <td>Child</td>\n",
       "      <td></td>\n",
       "      <td>NaN</td>\n",
       "      <td>0-4</td>\n",
       "    </tr>\n",
       "  </tbody>\n",
       "</table>\n",
       "</div>"
      ],
      "text/plain": [
       "      House Number           Street First Name   Surname  Age  \\\n",
       "4674            48  Parrot Crescent     Kirsty  Phillips   40   \n",
       "4675            48  Parrot Crescent  Christian  Phillips    6   \n",
       "4676            48  Parrot Crescent      Wendy  Phillips    2   \n",
       "\n",
       "     Relationship to Head of House Marital Status  Gender       Occupation  \\\n",
       "4674                          Head         Single  Female  Legal secretary   \n",
       "4675                           Son          Minor    Male          Student   \n",
       "4676                      Daughter          Minor  Female            Child   \n",
       "\n",
       "     Infirmity  Religion Age Band  \n",
       "4674      None  Catholic    40-44  \n",
       "4675      None       NaN      5-9  \n",
       "4676                 NaN      0-4  "
      ]
     },
     "execution_count": 60,
     "metadata": {},
     "output_type": "execute_result"
    }
   ],
   "source": [
    "#Checking for individuals related to Wendy Phillips for any possibilty biological inheritance of infirmity.\n",
    "\n",
    "census_df.loc[(census_df[\"House Number\"] == 48) & (census_df[\"Street\"] == \"Parrot Crescent\") & (census_df[\"Surname\"] == \"Phillips\")]"
   ]
  },
  {
   "cell_type": "code",
   "execution_count": 61,
   "id": "76587529",
   "metadata": {
    "scrolled": true
   },
   "outputs": [
    {
     "data": {
      "text/html": [
       "<div>\n",
       "<style scoped>\n",
       "    .dataframe tbody tr th:only-of-type {\n",
       "        vertical-align: middle;\n",
       "    }\n",
       "\n",
       "    .dataframe tbody tr th {\n",
       "        vertical-align: top;\n",
       "    }\n",
       "\n",
       "    .dataframe thead th {\n",
       "        text-align: right;\n",
       "    }\n",
       "</style>\n",
       "<table border=\"1\" class=\"dataframe\">\n",
       "  <thead>\n",
       "    <tr style=\"text-align: right;\">\n",
       "      <th></th>\n",
       "      <th>House Number</th>\n",
       "      <th>Street</th>\n",
       "      <th>First Name</th>\n",
       "      <th>Surname</th>\n",
       "      <th>Age</th>\n",
       "      <th>Relationship to Head of House</th>\n",
       "      <th>Marital Status</th>\n",
       "      <th>Gender</th>\n",
       "      <th>Occupation</th>\n",
       "      <th>Infirmity</th>\n",
       "      <th>Religion</th>\n",
       "      <th>Age Band</th>\n",
       "    </tr>\n",
       "  </thead>\n",
       "  <tbody>\n",
       "    <tr>\n",
       "      <th>4775</th>\n",
       "      <td>24</td>\n",
       "      <td>Smith Divide</td>\n",
       "      <td>Joanne</td>\n",
       "      <td>Gregory</td>\n",
       "      <td>61</td>\n",
       "      <td>Cousin</td>\n",
       "      <td>Single</td>\n",
       "      <td>Female</td>\n",
       "      <td>Geographical information systems officer</td>\n",
       "      <td></td>\n",
       "      <td>Methodist</td>\n",
       "      <td>60-64</td>\n",
       "    </tr>\n",
       "  </tbody>\n",
       "</table>\n",
       "</div>"
      ],
      "text/plain": [
       "      House Number        Street First Name  Surname  Age  \\\n",
       "4775            24  Smith Divide     Joanne  Gregory   61   \n",
       "\n",
       "     Relationship to Head of House Marital Status  Gender  \\\n",
       "4775                        Cousin         Single  Female   \n",
       "\n",
       "                                    Occupation Infirmity   Religion Age Band  \n",
       "4775  Geographical information systems officer            Methodist    60-64  "
      ]
     },
     "execution_count": 61,
     "metadata": {},
     "output_type": "execute_result"
    }
   ],
   "source": [
    "#Checking for individuals related to Joanne Gregory for any possibilty biological inheritance of infirmity.\n",
    "\n",
    "census_df.loc[(census_df[\"House Number\"] == 24) & (census_df[\"Street\"] == \"Smith Divide\") & (census_df[\"Surname\"] == \"Gregory\")]"
   ]
  },
  {
   "cell_type": "code",
   "execution_count": 62,
   "id": "d685c2c0",
   "metadata": {
    "scrolled": true
   },
   "outputs": [],
   "source": [
    "#Filling the missing records in the Infirmity column with None.\n",
    "\n",
    "census_df[\"Infirmity\"] = census_df[\"Infirmity\"].replace(\" \", \"None\")"
   ]
  },
  {
   "cell_type": "markdown",
   "id": "77248acb",
   "metadata": {},
   "source": [
    "## Relatinship to Head of House Column"
   ]
  },
  {
   "cell_type": "code",
   "execution_count": 63,
   "id": "5dad8afc",
   "metadata": {},
   "outputs": [
    {
     "data": {
      "text/plain": [
       "array(['Head', 'Wife', 'Visitor', 'Son', 'Daughter', 'Partner', 'Husband',\n",
       "       'None', 'Lodger', 'Grandson', 'Adopted Son', 'Granddaughter',\n",
       "       'Sibling', 'Step-Daughter', 'Adopted Daughter', 'Nephew',\n",
       "       'Step-Son', 'Cousin', 'Neice', 'Son-in-law', ' ',\n",
       "       'Adopted Granddaughter'], dtype=object)"
      ]
     },
     "execution_count": 63,
     "metadata": {},
     "output_type": "execute_result"
    }
   ],
   "source": [
    "census_df[\"Relationship to Head of House\"].unique()"
   ]
  },
  {
   "cell_type": "code",
   "execution_count": 64,
   "id": "860312af",
   "metadata": {
    "scrolled": true
   },
   "outputs": [
    {
     "data": {
      "text/html": [
       "<div>\n",
       "<style scoped>\n",
       "    .dataframe tbody tr th:only-of-type {\n",
       "        vertical-align: middle;\n",
       "    }\n",
       "\n",
       "    .dataframe tbody tr th {\n",
       "        vertical-align: top;\n",
       "    }\n",
       "\n",
       "    .dataframe thead th {\n",
       "        text-align: right;\n",
       "    }\n",
       "</style>\n",
       "<table border=\"1\" class=\"dataframe\">\n",
       "  <thead>\n",
       "    <tr style=\"text-align: right;\">\n",
       "      <th></th>\n",
       "      <th>House Number</th>\n",
       "      <th>Street</th>\n",
       "      <th>First Name</th>\n",
       "      <th>Surname</th>\n",
       "      <th>Age</th>\n",
       "      <th>Relationship to Head of House</th>\n",
       "      <th>Marital Status</th>\n",
       "      <th>Gender</th>\n",
       "      <th>Occupation</th>\n",
       "      <th>Infirmity</th>\n",
       "      <th>Religion</th>\n",
       "      <th>Age Band</th>\n",
       "    </tr>\n",
       "  </thead>\n",
       "  <tbody>\n",
       "    <tr>\n",
       "      <th>5348</th>\n",
       "      <td>21</td>\n",
       "      <td>Repton Drive</td>\n",
       "      <td>Gary</td>\n",
       "      <td>Fisher</td>\n",
       "      <td>16</td>\n",
       "      <td></td>\n",
       "      <td>Single</td>\n",
       "      <td>Male</td>\n",
       "      <td>Student</td>\n",
       "      <td>None</td>\n",
       "      <td>NaN</td>\n",
       "      <td>15-19</td>\n",
       "    </tr>\n",
       "    <tr>\n",
       "      <th>8230</th>\n",
       "      <td>15</td>\n",
       "      <td>Potts Valley</td>\n",
       "      <td>Michael</td>\n",
       "      <td>Webb</td>\n",
       "      <td>18</td>\n",
       "      <td></td>\n",
       "      <td>Divorced</td>\n",
       "      <td>Male</td>\n",
       "      <td>Student</td>\n",
       "      <td>None</td>\n",
       "      <td>None</td>\n",
       "      <td>15-19</td>\n",
       "    </tr>\n",
       "  </tbody>\n",
       "</table>\n",
       "</div>"
      ],
      "text/plain": [
       "      House Number        Street First Name Surname  Age  \\\n",
       "5348            21  Repton Drive       Gary  Fisher   16   \n",
       "8230            15  Potts Valley    Michael    Webb   18   \n",
       "\n",
       "     Relationship to Head of House Marital Status Gender Occupation Infirmity  \\\n",
       "5348                                       Single   Male    Student      None   \n",
       "8230                                     Divorced   Male    Student      None   \n",
       "\n",
       "     Religion Age Band  \n",
       "5348      NaN    15-19  \n",
       "8230     None    15-19  "
      ]
     },
     "execution_count": 64,
     "metadata": {},
     "output_type": "execute_result"
    }
   ],
   "source": [
    "#Checking if there is any missing value in the Relationship to Head of House column.\n",
    "\n",
    "census_df[census_df[\"Relationship to Head of House\"] == \" \"]"
   ]
  },
  {
   "cell_type": "code",
   "execution_count": 65,
   "id": "3dcb8abb",
   "metadata": {
    "scrolled": true
   },
   "outputs": [
    {
     "data": {
      "text/html": [
       "<div>\n",
       "<style scoped>\n",
       "    .dataframe tbody tr th:only-of-type {\n",
       "        vertical-align: middle;\n",
       "    }\n",
       "\n",
       "    .dataframe tbody tr th {\n",
       "        vertical-align: top;\n",
       "    }\n",
       "\n",
       "    .dataframe thead th {\n",
       "        text-align: right;\n",
       "    }\n",
       "</style>\n",
       "<table border=\"1\" class=\"dataframe\">\n",
       "  <thead>\n",
       "    <tr style=\"text-align: right;\">\n",
       "      <th></th>\n",
       "      <th>House Number</th>\n",
       "      <th>Street</th>\n",
       "      <th>First Name</th>\n",
       "      <th>Surname</th>\n",
       "      <th>Age</th>\n",
       "      <th>Relationship to Head of House</th>\n",
       "      <th>Marital Status</th>\n",
       "      <th>Gender</th>\n",
       "      <th>Occupation</th>\n",
       "      <th>Infirmity</th>\n",
       "      <th>Religion</th>\n",
       "      <th>Age Band</th>\n",
       "    </tr>\n",
       "  </thead>\n",
       "  <tbody>\n",
       "    <tr>\n",
       "      <th>5346</th>\n",
       "      <td>21</td>\n",
       "      <td>Repton Drive</td>\n",
       "      <td>Anna</td>\n",
       "      <td>Fisher</td>\n",
       "      <td>55</td>\n",
       "      <td>Head</td>\n",
       "      <td>Single</td>\n",
       "      <td>Female</td>\n",
       "      <td>Unemployed</td>\n",
       "      <td>None</td>\n",
       "      <td>Christian</td>\n",
       "      <td>55-59</td>\n",
       "    </tr>\n",
       "    <tr>\n",
       "      <th>5348</th>\n",
       "      <td>21</td>\n",
       "      <td>Repton Drive</td>\n",
       "      <td>Gary</td>\n",
       "      <td>Fisher</td>\n",
       "      <td>16</td>\n",
       "      <td></td>\n",
       "      <td>Single</td>\n",
       "      <td>Male</td>\n",
       "      <td>Student</td>\n",
       "      <td>None</td>\n",
       "      <td>NaN</td>\n",
       "      <td>15-19</td>\n",
       "    </tr>\n",
       "  </tbody>\n",
       "</table>\n",
       "</div>"
      ],
      "text/plain": [
       "      House Number        Street First Name Surname  Age  \\\n",
       "5346            21  Repton Drive       Anna  Fisher   55   \n",
       "5348            21  Repton Drive       Gary  Fisher   16   \n",
       "\n",
       "     Relationship to Head of House Marital Status  Gender  Occupation  \\\n",
       "5346                          Head         Single  Female  Unemployed   \n",
       "5348                                       Single    Male     Student   \n",
       "\n",
       "     Infirmity   Religion Age Band  \n",
       "5346      None  Christian    55-59  \n",
       "5348      None        NaN    15-19  "
      ]
     },
     "execution_count": 65,
     "metadata": {},
     "output_type": "execute_result"
    }
   ],
   "source": [
    "#Checking for individuals related to Gary Fisher to determine their relationship to the head of house.\n",
    "\n",
    "\n",
    "census_df.loc[(census_df[\"House Number\"] == 21) & (census_df[\"Street\"] == \"Repton Drive\") & (census_df[\"Surname\"] == \"Fisher\")]"
   ]
  },
  {
   "cell_type": "code",
   "execution_count": 66,
   "id": "902c2139",
   "metadata": {},
   "outputs": [],
   "source": [
    "#Gary Fisher is 16 years old, bears the same surname and resides at the same address with Anna Fisher who is 55 years old.\n",
    "#This can only indicate that Gary is Anna'son.\n",
    "#Changed Gary's Relationship to Head of House to Son.\n",
    "\n",
    "census_df.loc[5348, \"Relationship to Head of House\"] = \"Son\""
   ]
  },
  {
   "cell_type": "code",
   "execution_count": 67,
   "id": "da07f71d",
   "metadata": {
    "scrolled": true
   },
   "outputs": [
    {
     "data": {
      "text/html": [
       "<div>\n",
       "<style scoped>\n",
       "    .dataframe tbody tr th:only-of-type {\n",
       "        vertical-align: middle;\n",
       "    }\n",
       "\n",
       "    .dataframe tbody tr th {\n",
       "        vertical-align: top;\n",
       "    }\n",
       "\n",
       "    .dataframe thead th {\n",
       "        text-align: right;\n",
       "    }\n",
       "</style>\n",
       "<table border=\"1\" class=\"dataframe\">\n",
       "  <thead>\n",
       "    <tr style=\"text-align: right;\">\n",
       "      <th></th>\n",
       "      <th>House Number</th>\n",
       "      <th>Street</th>\n",
       "      <th>First Name</th>\n",
       "      <th>Surname</th>\n",
       "      <th>Age</th>\n",
       "      <th>Relationship to Head of House</th>\n",
       "      <th>Marital Status</th>\n",
       "      <th>Gender</th>\n",
       "      <th>Occupation</th>\n",
       "      <th>Infirmity</th>\n",
       "      <th>Religion</th>\n",
       "      <th>Age Band</th>\n",
       "    </tr>\n",
       "  </thead>\n",
       "  <tbody>\n",
       "    <tr>\n",
       "      <th>8228</th>\n",
       "      <td>15</td>\n",
       "      <td>Potts Valley</td>\n",
       "      <td>Naomi</td>\n",
       "      <td>Webb</td>\n",
       "      <td>42</td>\n",
       "      <td>Head</td>\n",
       "      <td>Married</td>\n",
       "      <td>Female</td>\n",
       "      <td>Firefighter</td>\n",
       "      <td>None</td>\n",
       "      <td>Catholic</td>\n",
       "      <td>40-44</td>\n",
       "    </tr>\n",
       "    <tr>\n",
       "      <th>8229</th>\n",
       "      <td>15</td>\n",
       "      <td>Potts Valley</td>\n",
       "      <td>Justin</td>\n",
       "      <td>Webb</td>\n",
       "      <td>46</td>\n",
       "      <td>Husband</td>\n",
       "      <td>Married</td>\n",
       "      <td>Male</td>\n",
       "      <td>Unemployed</td>\n",
       "      <td>None</td>\n",
       "      <td>Catholic</td>\n",
       "      <td>45-49</td>\n",
       "    </tr>\n",
       "    <tr>\n",
       "      <th>8230</th>\n",
       "      <td>15</td>\n",
       "      <td>Potts Valley</td>\n",
       "      <td>Michael</td>\n",
       "      <td>Webb</td>\n",
       "      <td>18</td>\n",
       "      <td></td>\n",
       "      <td>Divorced</td>\n",
       "      <td>Male</td>\n",
       "      <td>Student</td>\n",
       "      <td>None</td>\n",
       "      <td>None</td>\n",
       "      <td>15-19</td>\n",
       "    </tr>\n",
       "  </tbody>\n",
       "</table>\n",
       "</div>"
      ],
      "text/plain": [
       "      House Number        Street First Name Surname  Age  \\\n",
       "8228            15  Potts Valley      Naomi    Webb   42   \n",
       "8229            15  Potts Valley     Justin    Webb   46   \n",
       "8230            15  Potts Valley    Michael    Webb   18   \n",
       "\n",
       "     Relationship to Head of House Marital Status  Gender   Occupation  \\\n",
       "8228                          Head        Married  Female  Firefighter   \n",
       "8229                       Husband        Married    Male   Unemployed   \n",
       "8230                                     Divorced    Male      Student   \n",
       "\n",
       "     Infirmity  Religion Age Band  \n",
       "8228      None  Catholic    40-44  \n",
       "8229      None  Catholic    45-49  \n",
       "8230      None      None    15-19  "
      ]
     },
     "execution_count": 67,
     "metadata": {},
     "output_type": "execute_result"
    }
   ],
   "source": [
    "#Checking for individuals related to Gary Fisher to determine their relationship to the head of house.\n",
    "\n",
    "census_df.loc[(census_df[\"House Number\"] == 15) & (census_df[\"Street\"] == \"Potts Valley\") & (census_df[\"Surname\"] == \"Webb\")]"
   ]
  },
  {
   "cell_type": "code",
   "execution_count": 68,
   "id": "a7519afc",
   "metadata": {},
   "outputs": [],
   "source": [
    "#Naomi and Justin Webb are 42 and 46 years old respectively. From all indications it can be concluded that they are couples as they even practice the same religion. \n",
    "#Michael is divorced which legally possible as he is 18 years old. A student and resides with Naomi and Justin.\n",
    "#We can conclude that he is a son in the household.\n",
    "#Changed Michael's Relationship to Head of House to Son.\n",
    "\n",
    "census_df.loc[8230, \"Relationship to Head of House\"] = \"Son\""
   ]
  },
  {
   "cell_type": "code",
   "execution_count": null,
   "id": "df85506f",
   "metadata": {},
   "outputs": [],
   "source": [
    "pd.set_option('display.max_rows', None)\n",
    "census_df[census_df[\"Relationship to Head of House\"] == \"None\"]"
   ]
  },
  {
   "cell_type": "code",
   "execution_count": 70,
   "id": "5b8d253b",
   "metadata": {
    "scrolled": true
   },
   "outputs": [
    {
     "data": {
      "text/html": [
       "<div>\n",
       "<style scoped>\n",
       "    .dataframe tbody tr th:only-of-type {\n",
       "        vertical-align: middle;\n",
       "    }\n",
       "\n",
       "    .dataframe tbody tr th {\n",
       "        vertical-align: top;\n",
       "    }\n",
       "\n",
       "    .dataframe thead th {\n",
       "        text-align: right;\n",
       "    }\n",
       "</style>\n",
       "<table border=\"1\" class=\"dataframe\">\n",
       "  <thead>\n",
       "    <tr style=\"text-align: right;\">\n",
       "      <th></th>\n",
       "      <th>House Number</th>\n",
       "      <th>Street</th>\n",
       "      <th>First Name</th>\n",
       "      <th>Surname</th>\n",
       "      <th>Age</th>\n",
       "      <th>Relationship to Head of House</th>\n",
       "      <th>Marital Status</th>\n",
       "      <th>Gender</th>\n",
       "      <th>Occupation</th>\n",
       "      <th>Infirmity</th>\n",
       "      <th>Religion</th>\n",
       "      <th>Age Band</th>\n",
       "    </tr>\n",
       "  </thead>\n",
       "  <tbody>\n",
       "    <tr>\n",
       "      <th>8491</th>\n",
       "      <td>19</td>\n",
       "      <td>Albans Crescent</td>\n",
       "      <td>Iain</td>\n",
       "      <td>Hurst</td>\n",
       "      <td>61</td>\n",
       "      <td>None</td>\n",
       "      <td>Single</td>\n",
       "      <td>Male</td>\n",
       "      <td>Designer, ceramics/pottery</td>\n",
       "      <td>None</td>\n",
       "      <td>Jewish</td>\n",
       "      <td>60-64</td>\n",
       "    </tr>\n",
       "  </tbody>\n",
       "</table>\n",
       "</div>"
      ],
      "text/plain": [
       "      House Number           Street First Name Surname  Age  \\\n",
       "8491            19  Albans Crescent       Iain   Hurst   61   \n",
       "\n",
       "     Relationship to Head of House Marital Status Gender  \\\n",
       "8491                          None         Single   Male   \n",
       "\n",
       "                      Occupation Infirmity Religion Age Band  \n",
       "8491  Designer, ceramics/pottery      None   Jewish    60-64  "
      ]
     },
     "execution_count": 70,
     "metadata": {},
     "output_type": "execute_result"
    }
   ],
   "source": [
    "census_df.loc[(census_df[\"House Number\"] == 19) & (census_df[\"Street\"] == \"Albans Crescent\") & (census_df[\"Surname\"] == \"Hurst\")]"
   ]
  },
  {
   "cell_type": "code",
   "execution_count": 71,
   "id": "89cb9b62",
   "metadata": {},
   "outputs": [
    {
     "data": {
      "text/html": [
       "<div>\n",
       "<style scoped>\n",
       "    .dataframe tbody tr th:only-of-type {\n",
       "        vertical-align: middle;\n",
       "    }\n",
       "\n",
       "    .dataframe tbody tr th {\n",
       "        vertical-align: top;\n",
       "    }\n",
       "\n",
       "    .dataframe thead th {\n",
       "        text-align: right;\n",
       "    }\n",
       "</style>\n",
       "<table border=\"1\" class=\"dataframe\">\n",
       "  <thead>\n",
       "    <tr style=\"text-align: right;\">\n",
       "      <th></th>\n",
       "      <th>House Number</th>\n",
       "      <th>Street</th>\n",
       "      <th>First Name</th>\n",
       "      <th>Surname</th>\n",
       "      <th>Age</th>\n",
       "      <th>Relationship to Head of House</th>\n",
       "      <th>Marital Status</th>\n",
       "      <th>Gender</th>\n",
       "      <th>Occupation</th>\n",
       "      <th>Infirmity</th>\n",
       "      <th>Religion</th>\n",
       "      <th>Age Band</th>\n",
       "    </tr>\n",
       "  </thead>\n",
       "  <tbody>\n",
       "    <tr>\n",
       "      <th>1025</th>\n",
       "      <td>100</td>\n",
       "      <td>Column Avenue</td>\n",
       "      <td>Donna</td>\n",
       "      <td>Arnold</td>\n",
       "      <td>10</td>\n",
       "      <td>None</td>\n",
       "      <td>Minor</td>\n",
       "      <td>Female</td>\n",
       "      <td>Student</td>\n",
       "      <td>None</td>\n",
       "      <td>NaN</td>\n",
       "      <td>10-14</td>\n",
       "    </tr>\n",
       "    <tr>\n",
       "      <th>2956</th>\n",
       "      <td>4</td>\n",
       "      <td>Allen Drive</td>\n",
       "      <td>Rosemary</td>\n",
       "      <td>Baker</td>\n",
       "      <td>11</td>\n",
       "      <td>None</td>\n",
       "      <td>Minor</td>\n",
       "      <td>Female</td>\n",
       "      <td>Student</td>\n",
       "      <td>None</td>\n",
       "      <td>NaN</td>\n",
       "      <td>10-14</td>\n",
       "    </tr>\n",
       "    <tr>\n",
       "      <th>4878</th>\n",
       "      <td>6</td>\n",
       "      <td>Unity Avenue</td>\n",
       "      <td>Gordon</td>\n",
       "      <td>Lee</td>\n",
       "      <td>6</td>\n",
       "      <td>None</td>\n",
       "      <td>Minor</td>\n",
       "      <td>Male</td>\n",
       "      <td>Student</td>\n",
       "      <td>None</td>\n",
       "      <td>NaN</td>\n",
       "      <td>5-9</td>\n",
       "    </tr>\n",
       "    <tr>\n",
       "      <th>4879</th>\n",
       "      <td>6</td>\n",
       "      <td>Unity Avenue</td>\n",
       "      <td>Bradley</td>\n",
       "      <td>Lee</td>\n",
       "      <td>5</td>\n",
       "      <td>None</td>\n",
       "      <td>Minor</td>\n",
       "      <td>Male</td>\n",
       "      <td>Student</td>\n",
       "      <td>None</td>\n",
       "      <td>NaN</td>\n",
       "      <td>5-9</td>\n",
       "    </tr>\n",
       "    <tr>\n",
       "      <th>8134</th>\n",
       "      <td>40</td>\n",
       "      <td>Lees Drive</td>\n",
       "      <td>Neil</td>\n",
       "      <td>Harris</td>\n",
       "      <td>17</td>\n",
       "      <td>None</td>\n",
       "      <td>Single</td>\n",
       "      <td>Male</td>\n",
       "      <td>Student</td>\n",
       "      <td>None</td>\n",
       "      <td>NaN</td>\n",
       "      <td>15-19</td>\n",
       "    </tr>\n",
       "    <tr>\n",
       "      <th>8571</th>\n",
       "      <td>1</td>\n",
       "      <td>Simmons Delve</td>\n",
       "      <td>Jonathan</td>\n",
       "      <td>Goodwin</td>\n",
       "      <td>0</td>\n",
       "      <td>None</td>\n",
       "      <td>Minor</td>\n",
       "      <td>Male</td>\n",
       "      <td>Child</td>\n",
       "      <td>None</td>\n",
       "      <td>NaN</td>\n",
       "      <td>0-4</td>\n",
       "    </tr>\n",
       "  </tbody>\n",
       "</table>\n",
       "</div>"
      ],
      "text/plain": [
       "      House Number         Street First Name  Surname  Age  \\\n",
       "1025           100  Column Avenue      Donna   Arnold   10   \n",
       "2956             4    Allen Drive   Rosemary    Baker   11   \n",
       "4878             6   Unity Avenue     Gordon      Lee    6   \n",
       "4879             6   Unity Avenue    Bradley      Lee    5   \n",
       "8134            40     Lees Drive       Neil   Harris   17   \n",
       "8571             1  Simmons Delve   Jonathan  Goodwin    0   \n",
       "\n",
       "     Relationship to Head of House Marital Status  Gender Occupation  \\\n",
       "1025                          None          Minor  Female    Student   \n",
       "2956                          None          Minor  Female    Student   \n",
       "4878                          None          Minor    Male    Student   \n",
       "4879                          None          Minor    Male    Student   \n",
       "8134                          None         Single    Male    Student   \n",
       "8571                          None          Minor    Male      Child   \n",
       "\n",
       "     Infirmity Religion Age Band  \n",
       "1025      None      NaN    10-14  \n",
       "2956      None      NaN    10-14  \n",
       "4878      None      NaN      5-9  \n",
       "4879      None      NaN      5-9  \n",
       "8134      None      NaN    15-19  \n",
       "8571      None      NaN      0-4  "
      ]
     },
     "execution_count": 71,
     "metadata": {},
     "output_type": "execute_result"
    }
   ],
   "source": [
    "census_df.loc[(census_df[\"Relationship to Head of House\"] == \"None\") & (census_df[\"Age\"] < 18)]"
   ]
  },
  {
   "cell_type": "code",
   "execution_count": 72,
   "id": "b328afd7",
   "metadata": {},
   "outputs": [],
   "source": [
    "# Individuals at these rows are related.\n",
    "\n",
    "census_df.loc[1022:1025, \"Relationship to Head of House\"] = [\"Wife\", \"Head\", \"Daughter\", \"Daughter\"]"
   ]
  },
  {
   "cell_type": "code",
   "execution_count": 73,
   "id": "e589a5d3",
   "metadata": {},
   "outputs": [],
   "source": [
    "# Individuals at these rows are related.\n",
    "\n",
    "census_df.loc[92:93, \"Relationship to Head of House\"] = [\"Wife\", \"Head\"]"
   ]
  },
  {
   "cell_type": "code",
   "execution_count": 74,
   "id": "bfa0820d",
   "metadata": {},
   "outputs": [],
   "source": [
    "census_df.loc[2954:2956, \"Relationship to Head of House\"] = [\"Head\", \"Husband\", \"Daughter\"]"
   ]
  },
  {
   "cell_type": "code",
   "execution_count": 75,
   "id": "86eb7556",
   "metadata": {},
   "outputs": [],
   "source": [
    "census_df.loc[4876:4879, \"Relationship to Head of House\"] = [\"Wife\", \"Head\", \"Son\", \"Son\"]"
   ]
  },
  {
   "cell_type": "code",
   "execution_count": 76,
   "id": "cc335c01",
   "metadata": {},
   "outputs": [],
   "source": [
    "census_df.loc[8132:8134, \"Relationship to Head of House\"] = [\"Wife\", \"Head\", \"Son\"]"
   ]
  },
  {
   "cell_type": "code",
   "execution_count": 77,
   "id": "b8573553",
   "metadata": {},
   "outputs": [],
   "source": [
    "census_df.loc[8569:8571, \"Relationship to Head of House\"] = [\"Wife\", \"Head\", \"Son\"]"
   ]
  },
  {
   "cell_type": "code",
   "execution_count": 78,
   "id": "2400ccaf",
   "metadata": {},
   "outputs": [
    {
     "data": {
      "text/plain": [
       "581"
      ]
     },
     "execution_count": 78,
     "metadata": {},
     "output_type": "execute_result"
    }
   ],
   "source": [
    "len(census_df[census_df[\"Relationship to Head of House\"] == \"None\"])"
   ]
  },
  {
   "cell_type": "code",
   "execution_count": 79,
   "id": "4f3e45dc",
   "metadata": {},
   "outputs": [
    {
     "data": {
      "text/html": [
       "<div>\n",
       "<style scoped>\n",
       "    .dataframe tbody tr th:only-of-type {\n",
       "        vertical-align: middle;\n",
       "    }\n",
       "\n",
       "    .dataframe tbody tr th {\n",
       "        vertical-align: top;\n",
       "    }\n",
       "\n",
       "    .dataframe thead th {\n",
       "        text-align: right;\n",
       "    }\n",
       "</style>\n",
       "<table border=\"1\" class=\"dataframe\">\n",
       "  <thead>\n",
       "    <tr style=\"text-align: right;\">\n",
       "      <th></th>\n",
       "      <th>House Number</th>\n",
       "      <th>Street</th>\n",
       "      <th>First Name</th>\n",
       "      <th>Surname</th>\n",
       "      <th>Age</th>\n",
       "      <th>Relationship to Head of House</th>\n",
       "      <th>Marital Status</th>\n",
       "      <th>Gender</th>\n",
       "      <th>Occupation</th>\n",
       "      <th>Infirmity</th>\n",
       "      <th>Religion</th>\n",
       "      <th>Age Band</th>\n",
       "    </tr>\n",
       "  </thead>\n",
       "  <tbody>\n",
       "  </tbody>\n",
       "</table>\n",
       "</div>"
      ],
      "text/plain": [
       "Empty DataFrame\n",
       "Columns: [House Number, Street, First Name, Surname, Age, Relationship to Head of House, Marital Status, Gender, Occupation, Infirmity, Religion, Age Band]\n",
       "Index: []"
      ]
     },
     "execution_count": 79,
     "metadata": {},
     "output_type": "execute_result"
    }
   ],
   "source": [
    "census_df.loc[(census_df[\"Relationship to Head of House\"] == \"None\") & (census_df[\"Age\"] < 18)]"
   ]
  },
  {
   "cell_type": "code",
   "execution_count": null,
   "id": "5f2ec3b6",
   "metadata": {
    "scrolled": true
   },
   "outputs": [],
   "source": [
    "census_df.loc[(census_df[\"Relationship to Head of House\"] == \"None\") & (census_df[\"Age\"] == 18)]"
   ]
  },
  {
   "cell_type": "code",
   "execution_count": 81,
   "id": "3d832e69",
   "metadata": {},
   "outputs": [
    {
     "data": {
      "text/plain": [
       "559"
      ]
     },
     "execution_count": 81,
     "metadata": {},
     "output_type": "execute_result"
    }
   ],
   "source": [
    "len(census_df.loc[(census_df[\"Relationship to Head of House\"] == \"None\") & (census_df[\"Age\"] > 18)])"
   ]
  },
  {
   "cell_type": "code",
   "execution_count": null,
   "id": "d3a375d1",
   "metadata": {},
   "outputs": [],
   "source": [
    "census_df.loc[(census_df[\"Relationship to Head of House\"] == \"None\") & (census_df[\"Age\"] > 18)]"
   ]
  },
  {
   "cell_type": "code",
   "execution_count": 83,
   "id": "87bf3eb0",
   "metadata": {
    "scrolled": false
   },
   "outputs": [
    {
     "data": {
      "text/html": [
       "<div>\n",
       "<style scoped>\n",
       "    .dataframe tbody tr th:only-of-type {\n",
       "        vertical-align: middle;\n",
       "    }\n",
       "\n",
       "    .dataframe tbody tr th {\n",
       "        vertical-align: top;\n",
       "    }\n",
       "\n",
       "    .dataframe thead th {\n",
       "        text-align: right;\n",
       "    }\n",
       "</style>\n",
       "<table border=\"1\" class=\"dataframe\">\n",
       "  <thead>\n",
       "    <tr style=\"text-align: right;\">\n",
       "      <th></th>\n",
       "      <th>House Number</th>\n",
       "      <th>Street</th>\n",
       "      <th>First Name</th>\n",
       "      <th>Surname</th>\n",
       "      <th>Age</th>\n",
       "      <th>Relationship to Head of House</th>\n",
       "      <th>Marital Status</th>\n",
       "      <th>Gender</th>\n",
       "      <th>Occupation</th>\n",
       "      <th>Infirmity</th>\n",
       "      <th>Religion</th>\n",
       "      <th>Age Band</th>\n",
       "    </tr>\n",
       "  </thead>\n",
       "  <tbody>\n",
       "    <tr>\n",
       "      <th>577</th>\n",
       "      <td>46</td>\n",
       "      <td>Barlow Pike</td>\n",
       "      <td>Conor</td>\n",
       "      <td>Phillips</td>\n",
       "      <td>21</td>\n",
       "      <td>Head</td>\n",
       "      <td>Single</td>\n",
       "      <td>Male</td>\n",
       "      <td>University Student</td>\n",
       "      <td>None</td>\n",
       "      <td>Methodist</td>\n",
       "      <td>20-24</td>\n",
       "    </tr>\n",
       "    <tr>\n",
       "      <th>578</th>\n",
       "      <td>46</td>\n",
       "      <td>Barlow Pike</td>\n",
       "      <td>Gordon</td>\n",
       "      <td>Lee</td>\n",
       "      <td>32</td>\n",
       "      <td>None</td>\n",
       "      <td>Single</td>\n",
       "      <td>Male</td>\n",
       "      <td>PhD Student</td>\n",
       "      <td>None</td>\n",
       "      <td>Christian</td>\n",
       "      <td>30-34</td>\n",
       "    </tr>\n",
       "    <tr>\n",
       "      <th>579</th>\n",
       "      <td>46</td>\n",
       "      <td>Barlow Pike</td>\n",
       "      <td>Kimberley</td>\n",
       "      <td>Farmer</td>\n",
       "      <td>20</td>\n",
       "      <td>None</td>\n",
       "      <td>Single</td>\n",
       "      <td>Female</td>\n",
       "      <td>University Student</td>\n",
       "      <td>None</td>\n",
       "      <td>None</td>\n",
       "      <td>20-24</td>\n",
       "    </tr>\n",
       "    <tr>\n",
       "      <th>580</th>\n",
       "      <td>46</td>\n",
       "      <td>Barlow Pike</td>\n",
       "      <td>Jessica</td>\n",
       "      <td>Dunn</td>\n",
       "      <td>18</td>\n",
       "      <td>None</td>\n",
       "      <td>Single</td>\n",
       "      <td>Female</td>\n",
       "      <td>University Student</td>\n",
       "      <td>None</td>\n",
       "      <td>None</td>\n",
       "      <td>15-19</td>\n",
       "    </tr>\n",
       "    <tr>\n",
       "      <th>581</th>\n",
       "      <td>46</td>\n",
       "      <td>Barlow Pike</td>\n",
       "      <td>Brandon</td>\n",
       "      <td>Parkes</td>\n",
       "      <td>21</td>\n",
       "      <td>None</td>\n",
       "      <td>Single</td>\n",
       "      <td>Male</td>\n",
       "      <td>University Student</td>\n",
       "      <td>None</td>\n",
       "      <td>Christian</td>\n",
       "      <td>20-24</td>\n",
       "    </tr>\n",
       "    <tr>\n",
       "      <th>582</th>\n",
       "      <td>46</td>\n",
       "      <td>Barlow Pike</td>\n",
       "      <td>Olivia</td>\n",
       "      <td>Cole</td>\n",
       "      <td>32</td>\n",
       "      <td>None</td>\n",
       "      <td>Single</td>\n",
       "      <td>Female</td>\n",
       "      <td>PhD Student</td>\n",
       "      <td>None</td>\n",
       "      <td>None</td>\n",
       "      <td>30-34</td>\n",
       "    </tr>\n",
       "    <tr>\n",
       "      <th>583</th>\n",
       "      <td>46</td>\n",
       "      <td>Barlow Pike</td>\n",
       "      <td>Billy</td>\n",
       "      <td>Parkinson</td>\n",
       "      <td>20</td>\n",
       "      <td>None</td>\n",
       "      <td>Single</td>\n",
       "      <td>Male</td>\n",
       "      <td>University Student</td>\n",
       "      <td>None</td>\n",
       "      <td>None</td>\n",
       "      <td>20-24</td>\n",
       "    </tr>\n",
       "  </tbody>\n",
       "</table>\n",
       "</div>"
      ],
      "text/plain": [
       "     House Number       Street First Name    Surname  Age  \\\n",
       "577            46  Barlow Pike      Conor   Phillips   21   \n",
       "578            46  Barlow Pike     Gordon        Lee   32   \n",
       "579            46  Barlow Pike  Kimberley     Farmer   20   \n",
       "580            46  Barlow Pike    Jessica       Dunn   18   \n",
       "581            46  Barlow Pike    Brandon     Parkes   21   \n",
       "582            46  Barlow Pike     Olivia       Cole   32   \n",
       "583            46  Barlow Pike      Billy  Parkinson   20   \n",
       "\n",
       "    Relationship to Head of House Marital Status  Gender          Occupation  \\\n",
       "577                          Head         Single    Male  University Student   \n",
       "578                          None         Single    Male         PhD Student   \n",
       "579                          None         Single  Female  University Student   \n",
       "580                          None         Single  Female  University Student   \n",
       "581                          None         Single    Male  University Student   \n",
       "582                          None         Single  Female         PhD Student   \n",
       "583                          None         Single    Male  University Student   \n",
       "\n",
       "    Infirmity   Religion Age Band  \n",
       "577      None  Methodist    20-24  \n",
       "578      None  Christian    30-34  \n",
       "579      None       None    20-24  \n",
       "580      None       None    15-19  \n",
       "581      None  Christian    20-24  \n",
       "582      None       None    30-34  \n",
       "583      None       None    20-24  "
      ]
     },
     "execution_count": 83,
     "metadata": {},
     "output_type": "execute_result"
    }
   ],
   "source": [
    "census_df.loc[(census_df[\"House Number\"] == 46) & (census_df[\"Street\"] == \"Barlow Pike\")] #& (census_df[\"Surname\"] == \"Price\")]\n",
    "#census_df[census_df[\"Surname\"] == \"Greenwood\"]"
   ]
  },
  {
   "cell_type": "code",
   "execution_count": null,
   "id": "dafcacc7",
   "metadata": {
    "scrolled": true
   },
   "outputs": [],
   "source": [
    "census_df.loc[(census_df[\"Surname\"] == \"Houghton\")]"
   ]
  },
  {
   "cell_type": "code",
   "execution_count": 85,
   "id": "a31c6b07",
   "metadata": {},
   "outputs": [],
   "source": [
    "census_df[\"Relationship to Head of House\"] = census_df[\"Relationship to Head of House\"].replace(\"None\", \"Lodger\")"
   ]
  },
  {
   "cell_type": "markdown",
   "id": "8fb70968",
   "metadata": {},
   "source": [
    "## Religion Column"
   ]
  },
  {
   "cell_type": "code",
   "execution_count": 86,
   "id": "8d290385",
   "metadata": {
    "scrolled": true
   },
   "outputs": [
    {
     "data": {
      "text/plain": [
       "array(['None', 'Christian', nan, 'Methodist', 'Catholic', 'Jewish',\n",
       "       'Muslim', 'Sikh', 'Undecided', 'Sith', 'Hindu', 'Buddist',\n",
       "       'Baptist', 'Bahai', ' '], dtype=object)"
      ]
     },
     "execution_count": 86,
     "metadata": {},
     "output_type": "execute_result"
    }
   ],
   "source": [
    "census_df[\"Religion\"].unique()"
   ]
  },
  {
   "cell_type": "code",
   "execution_count": 87,
   "id": "c28dbc95",
   "metadata": {
    "scrolled": false
   },
   "outputs": [
    {
     "data": {
      "text/html": [
       "<div>\n",
       "<style scoped>\n",
       "    .dataframe tbody tr th:only-of-type {\n",
       "        vertical-align: middle;\n",
       "    }\n",
       "\n",
       "    .dataframe tbody tr th {\n",
       "        vertical-align: top;\n",
       "    }\n",
       "\n",
       "    .dataframe thead th {\n",
       "        text-align: right;\n",
       "    }\n",
       "</style>\n",
       "<table border=\"1\" class=\"dataframe\">\n",
       "  <thead>\n",
       "    <tr style=\"text-align: right;\">\n",
       "      <th></th>\n",
       "      <th>House Number</th>\n",
       "      <th>Street</th>\n",
       "      <th>First Name</th>\n",
       "      <th>Surname</th>\n",
       "      <th>Age</th>\n",
       "      <th>Relationship to Head of House</th>\n",
       "      <th>Marital Status</th>\n",
       "      <th>Gender</th>\n",
       "      <th>Occupation</th>\n",
       "      <th>Infirmity</th>\n",
       "      <th>Religion</th>\n",
       "      <th>Age Band</th>\n",
       "    </tr>\n",
       "  </thead>\n",
       "  <tbody>\n",
       "    <tr>\n",
       "      <th>8325</th>\n",
       "      <td>45</td>\n",
       "      <td>Potts Valley</td>\n",
       "      <td>Amy</td>\n",
       "      <td>Vaughan</td>\n",
       "      <td>43</td>\n",
       "      <td>Head</td>\n",
       "      <td>Single</td>\n",
       "      <td>Female</td>\n",
       "      <td>Dramatherapist</td>\n",
       "      <td>None</td>\n",
       "      <td></td>\n",
       "      <td>40-44</td>\n",
       "    </tr>\n",
       "    <tr>\n",
       "      <th>8326</th>\n",
       "      <td>45</td>\n",
       "      <td>Potts Valley</td>\n",
       "      <td>Francis</td>\n",
       "      <td>Vaughan</td>\n",
       "      <td>10</td>\n",
       "      <td>Nephew</td>\n",
       "      <td>Minor</td>\n",
       "      <td>Male</td>\n",
       "      <td>Student</td>\n",
       "      <td>None</td>\n",
       "      <td>NaN</td>\n",
       "      <td>10-14</td>\n",
       "    </tr>\n",
       "  </tbody>\n",
       "</table>\n",
       "</div>"
      ],
      "text/plain": [
       "      House Number        Street First Name  Surname  Age  \\\n",
       "8325            45  Potts Valley        Amy  Vaughan   43   \n",
       "8326            45  Potts Valley    Francis  Vaughan   10   \n",
       "\n",
       "     Relationship to Head of House Marital Status  Gender      Occupation  \\\n",
       "8325                          Head         Single  Female  Dramatherapist   \n",
       "8326                        Nephew          Minor    Male         Student   \n",
       "\n",
       "     Infirmity Religion Age Band  \n",
       "8325      None             40-44  \n",
       "8326      None      NaN    10-14  "
      ]
     },
     "execution_count": 87,
     "metadata": {},
     "output_type": "execute_result"
    }
   ],
   "source": [
    "census_df.loc[(census_df[\"House Number\"] == 45) & (census_df[\"Street\"] == \"Potts Valley\") & (census_df[\"Surname\"] == \"Vaughan\")]"
   ]
  },
  {
   "cell_type": "code",
   "execution_count": null,
   "id": "90c81870",
   "metadata": {
    "scrolled": true
   },
   "outputs": [],
   "source": [
    "census_df[census_df[\"Religion\"].isna() & (census_df[\"Age\"] >= 16)]"
   ]
  },
  {
   "cell_type": "code",
   "execution_count": 89,
   "id": "0710ca17",
   "metadata": {
    "scrolled": true
   },
   "outputs": [
    {
     "data": {
      "text/plain": [
       "1856"
      ]
     },
     "execution_count": 89,
     "metadata": {},
     "output_type": "execute_result"
    }
   ],
   "source": [
    "len(census_df[(census_df[\"Religion\"].isna()) & (census_df[\"Age\"] < 16)])"
   ]
  },
  {
   "cell_type": "code",
   "execution_count": 90,
   "id": "a1f91561",
   "metadata": {},
   "outputs": [
    {
     "data": {
      "text/html": [
       "<div>\n",
       "<style scoped>\n",
       "    .dataframe tbody tr th:only-of-type {\n",
       "        vertical-align: middle;\n",
       "    }\n",
       "\n",
       "    .dataframe tbody tr th {\n",
       "        vertical-align: top;\n",
       "    }\n",
       "\n",
       "    .dataframe thead th {\n",
       "        text-align: right;\n",
       "    }\n",
       "</style>\n",
       "<table border=\"1\" class=\"dataframe\">\n",
       "  <thead>\n",
       "    <tr style=\"text-align: right;\">\n",
       "      <th></th>\n",
       "      <th>House Number</th>\n",
       "      <th>Street</th>\n",
       "      <th>First Name</th>\n",
       "      <th>Surname</th>\n",
       "      <th>Age</th>\n",
       "      <th>Relationship to Head of House</th>\n",
       "      <th>Marital Status</th>\n",
       "      <th>Gender</th>\n",
       "      <th>Occupation</th>\n",
       "      <th>Infirmity</th>\n",
       "      <th>Religion</th>\n",
       "      <th>Age Band</th>\n",
       "    </tr>\n",
       "  </thead>\n",
       "  <tbody>\n",
       "    <tr>\n",
       "      <th>119</th>\n",
       "      <td>44</td>\n",
       "      <td>Turkey Gardens</td>\n",
       "      <td>Marie</td>\n",
       "      <td>Gardiner</td>\n",
       "      <td>52</td>\n",
       "      <td>Head</td>\n",
       "      <td>Married</td>\n",
       "      <td>Female</td>\n",
       "      <td>Multimedia programmer</td>\n",
       "      <td>None</td>\n",
       "      <td>Christian</td>\n",
       "      <td>50-54</td>\n",
       "    </tr>\n",
       "    <tr>\n",
       "      <th>120</th>\n",
       "      <td>44</td>\n",
       "      <td>Turkey Gardens</td>\n",
       "      <td>Ryan</td>\n",
       "      <td>Gardiner</td>\n",
       "      <td>53</td>\n",
       "      <td>Husband</td>\n",
       "      <td>Married</td>\n",
       "      <td>Male</td>\n",
       "      <td>Building surveyor</td>\n",
       "      <td>None</td>\n",
       "      <td>Christian</td>\n",
       "      <td>50-54</td>\n",
       "    </tr>\n",
       "    <tr>\n",
       "      <th>121</th>\n",
       "      <td>44</td>\n",
       "      <td>Turkey Gardens</td>\n",
       "      <td>Hilary</td>\n",
       "      <td>Gardiner</td>\n",
       "      <td>14</td>\n",
       "      <td>Daughter</td>\n",
       "      <td>Minor</td>\n",
       "      <td>Female</td>\n",
       "      <td>Student</td>\n",
       "      <td>None</td>\n",
       "      <td>NaN</td>\n",
       "      <td>10-14</td>\n",
       "    </tr>\n",
       "  </tbody>\n",
       "</table>\n",
       "</div>"
      ],
      "text/plain": [
       "     House Number          Street First Name   Surname  Age  \\\n",
       "119            44  Turkey Gardens      Marie  Gardiner   52   \n",
       "120            44  Turkey Gardens       Ryan  Gardiner   53   \n",
       "121            44  Turkey Gardens     Hilary  Gardiner   14   \n",
       "\n",
       "    Relationship to Head of House Marital Status  Gender  \\\n",
       "119                          Head        Married  Female   \n",
       "120                       Husband        Married    Male   \n",
       "121                      Daughter          Minor  Female   \n",
       "\n",
       "                Occupation Infirmity   Religion Age Band  \n",
       "119  Multimedia programmer      None  Christian    50-54  \n",
       "120      Building surveyor      None  Christian    50-54  \n",
       "121                Student      None        NaN    10-14  "
      ]
     },
     "execution_count": 90,
     "metadata": {},
     "output_type": "execute_result"
    }
   ],
   "source": [
    "census_df.loc[(census_df[\"House Number\"] == 44) & (census_df[\"Street\"] == \"Turkey Gardens\") & (census_df[\"Surname\"] == \"Gardiner\")]"
   ]
  },
  {
   "cell_type": "code",
   "execution_count": 91,
   "id": "eaba889d",
   "metadata": {},
   "outputs": [
    {
     "data": {
      "text/plain": [
       "1856"
      ]
     },
     "execution_count": 91,
     "metadata": {},
     "output_type": "execute_result"
    }
   ],
   "source": [
    "len(census_df[census_df[\"Age\"] < 16])"
   ]
  },
  {
   "cell_type": "code",
   "execution_count": null,
   "id": "c1e68ba0",
   "metadata": {},
   "outputs": [],
   "source": [
    "census_df.loc[((census_df[\"Religion\"] == \" \") | (census_df[\"Religion\"] == \"NaN\") | (census_df[\"Religion\"] == \"None\")) & (census_df[\"Age\"] >16)]"
   ]
  },
  {
   "cell_type": "code",
   "execution_count": 93,
   "id": "30174759",
   "metadata": {},
   "outputs": [],
   "source": [
    "#Amy Vaughan is 43 years and head of house, hence, it can be concluded that she is old enough to abstain from declaring her religion.\n",
    "#Replacing Amy Vaughan's religion with no response.\n",
    "\n",
    "census_df[\"Religion\"] = census_df[\"Religion\"].replace(\" \", \"No Religion\")"
   ]
  },
  {
   "cell_type": "code",
   "execution_count": 94,
   "id": "69f2cd63",
   "metadata": {},
   "outputs": [
    {
     "data": {
      "text/html": [
       "<div>\n",
       "<style scoped>\n",
       "    .dataframe tbody tr th:only-of-type {\n",
       "        vertical-align: middle;\n",
       "    }\n",
       "\n",
       "    .dataframe tbody tr th {\n",
       "        vertical-align: top;\n",
       "    }\n",
       "\n",
       "    .dataframe thead th {\n",
       "        text-align: right;\n",
       "    }\n",
       "</style>\n",
       "<table border=\"1\" class=\"dataframe\">\n",
       "  <thead>\n",
       "    <tr style=\"text-align: right;\">\n",
       "      <th></th>\n",
       "      <th>House Number</th>\n",
       "      <th>Street</th>\n",
       "      <th>First Name</th>\n",
       "      <th>Surname</th>\n",
       "      <th>Age</th>\n",
       "      <th>Relationship to Head of House</th>\n",
       "      <th>Marital Status</th>\n",
       "      <th>Gender</th>\n",
       "      <th>Occupation</th>\n",
       "      <th>Infirmity</th>\n",
       "      <th>Religion</th>\n",
       "      <th>Age Band</th>\n",
       "    </tr>\n",
       "  </thead>\n",
       "  <tbody>\n",
       "    <tr>\n",
       "      <th>2326</th>\n",
       "      <td>38</td>\n",
       "      <td>Faith Street</td>\n",
       "      <td>Alice</td>\n",
       "      <td>Perry</td>\n",
       "      <td>23</td>\n",
       "      <td>Lodger</td>\n",
       "      <td>Single</td>\n",
       "      <td>Female</td>\n",
       "      <td>Electronics engineer</td>\n",
       "      <td>None</td>\n",
       "      <td>Sith</td>\n",
       "      <td>20-24</td>\n",
       "    </tr>\n",
       "    <tr>\n",
       "      <th>3499</th>\n",
       "      <td>17</td>\n",
       "      <td>Francis Field</td>\n",
       "      <td>Shirley</td>\n",
       "      <td>Smith</td>\n",
       "      <td>29</td>\n",
       "      <td>Head</td>\n",
       "      <td>Single</td>\n",
       "      <td>Female</td>\n",
       "      <td>Therapist, speech and language</td>\n",
       "      <td>None</td>\n",
       "      <td>Sith</td>\n",
       "      <td>25-29</td>\n",
       "    </tr>\n",
       "  </tbody>\n",
       "</table>\n",
       "</div>"
      ],
      "text/plain": [
       "      House Number         Street First Name Surname  Age  \\\n",
       "2326            38   Faith Street      Alice   Perry   23   \n",
       "3499            17  Francis Field    Shirley   Smith   29   \n",
       "\n",
       "     Relationship to Head of House Marital Status  Gender  \\\n",
       "2326                        Lodger         Single  Female   \n",
       "3499                          Head         Single  Female   \n",
       "\n",
       "                          Occupation Infirmity Religion Age Band  \n",
       "2326            Electronics engineer      None     Sith    20-24  \n",
       "3499  Therapist, speech and language      None     Sith    25-29  "
      ]
     },
     "execution_count": 94,
     "metadata": {},
     "output_type": "execute_result"
    }
   ],
   "source": [
    "census_df[census_df[\"Religion\"] == \"Sith\"]"
   ]
  },
  {
   "cell_type": "code",
   "execution_count": 95,
   "id": "69b8efa5",
   "metadata": {},
   "outputs": [],
   "source": [
    "#Sith is a fictional order used in the fictional universe of the Star Wars franchise.\n",
    "#Replacing Sith with No Religion.\n",
    "\n",
    "census_df[\"Religion\"] = census_df[\"Religion\"].replace(\"Sith\", 'No Religion')"
   ]
  },
  {
   "cell_type": "code",
   "execution_count": 96,
   "id": "95f98fd2",
   "metadata": {},
   "outputs": [],
   "source": [
    "#For individual with a value of None in their Religion record.\n",
    "#It is safe to conclude that they have no religion since there is no one less than 18 as they have the right to be an atheist.\n",
    "\n",
    "census_df['Religion'] = census_df['Religion'].replace('None', 'No Religion')"
   ]
  },
  {
   "cell_type": "code",
   "execution_count": 97,
   "id": "998d86be",
   "metadata": {},
   "outputs": [],
   "source": [
    "census_df['Religion'].fillna(\"Undecided\", inplace=True) "
   ]
  },
  {
   "cell_type": "code",
   "execution_count": 98,
   "id": "b191a2b3",
   "metadata": {
    "scrolled": true
   },
   "outputs": [
    {
     "data": {
      "image/png": "[encoded data removed]",
      "text/plain": [
       "<Figure size 1000x800 with 1 Axes>"
      ]
     },
     "metadata": {},
     "output_type": "display_data"
    }
   ],
   "source": [
    "religion_plt = sns.countplot(data=census_df, x = 'Religion', palette='Paired');\n",
    "religion_plt.set_xticklabels(religion_plt.get_xticklabels(), fontsize=8.5)\n",
    "plt.title(\"Religion\");\n",
    "plt.show()"
   ]
  },
  {
   "cell_type": "code",
   "execution_count": 99,
   "id": "5d53f831",
   "metadata": {},
   "outputs": [],
   "source": [
    "religion_plt.get_figure().savefig(\"./religion_plt\")"
   ]
  },
  {
   "cell_type": "code",
   "execution_count": 100,
   "id": "8f56831a",
   "metadata": {},
   "outputs": [
    {
     "data": {
      "image/png": "[encoded data removed]",
      "text/plain": [
       "<Figure size 800x600 with 1 Axes>"
      ]
     },
     "metadata": {},
     "output_type": "display_data"
    }
   ],
   "source": [
    "plt.figure(figsize=(8,6))\n",
    "total = float(len(census_df))\n",
    "religious_plt2 = sns.countplot(x=\"Religion\", data=census_df,palette= sns.color_palette(\"husl\", 7))\n",
    "plt.title('Religion', fontsize=20)\n",
    "for p in religious_plt2.patches:\n",
    "    percentage = '{:.2f}%'.format(100 * p.get_height()/total)\n",
    "    x = p.get_x() + p.get_width()\n",
    "    y = p.get_height()\n",
    "    religious_plt2.annotate(percentage, (x, y),ha='center')\n",
    "religious_plt2.set_xticklabels(religious_plt2.get_xticklabels(), fontsize=8)\n",
    "plt.savefig('religious_2_plt.png')\n",
    "plt.show()\n",
    "\n",
    "\n",
    "#There is no demand for a second Church or a different religious building"
   ]
  },
  {
   "cell_type": "code",
   "execution_count": 101,
   "id": "5502fc09",
   "metadata": {
    "scrolled": true
   },
   "outputs": [
    {
     "data": {
      "image/png": "[encoded data removed]",
      "text/plain": [
       "<Figure size 1000x800 with 1 Axes>"
      ]
     },
     "metadata": {},
     "output_type": "display_data"
    }
   ],
   "source": [
    "sns.boxplot(x=\"Age\", y=\"Religion\", data=census_df,palette='rainbow')\n",
    "#plt.title('Religious Affiliation', fontsize=20)\n",
    "plt.savefig('religious_age_plt.png')\n",
    "plt.show()"
   ]
  },
  {
   "cell_type": "code",
   "execution_count": 102,
   "id": "2ba5308e",
   "metadata": {},
   "outputs": [
    {
     "data": {
      "text/plain": [
       "<Figure size 1000x800 with 0 Axes>"
      ]
     },
     "metadata": {},
     "output_type": "display_data"
    },
    {
     "data": {
      "text/plain": [
       "<Figure size 1000x800 with 0 Axes>"
      ]
     },
     "metadata": {},
     "output_type": "display_data"
    },
    {
     "data": {
      "image/png": "[encoded data removed]",
      "text/plain": [
       "<Figure size 606x500 with 1 Axes>"
      ]
     },
     "metadata": {},
     "output_type": "display_data"
    }
   ],
   "source": [
    "plt.figure(figsize=(10, 8))\n",
    "with sns.axes_style('whitegrid'):\n",
    "    plt.figure(figsize=(10, 8))\n",
    "    sns.catplot(y='Religion', hue='Gender', data=census_df, kind='count', palette='muted')\n",
    "    plt.title('Religious Affiliations by Gender', fontsize=20)\n",
    "    plt.xlabel('Religion', fontsize=12)\n",
    "    plt.ylabel('Count', fontsize=12)\n",
    "\n",
    "plt.savefig('religious_gender_plt.png')\n",
    "plt.show()"
   ]
  },
  {
   "cell_type": "code",
   "execution_count": 103,
   "id": "e99e32a2",
   "metadata": {},
   "outputs": [
    {
     "data": {
      "image/png": "[encoded data removed]",
      "text/plain": [
       "<Figure size 1000x800 with 1 Axes>"
      ]
     },
     "metadata": {},
     "output_type": "display_data"
    }
   ],
   "source": [
    "# Clustered bar chart of Gender and Religion.\n",
    "\n",
    "census_df.groupby(['Gender', 'Religion']).size().unstack().plot(kind = 'bar', color=[\"Green\", \"red\", \"cyan\",'brown', 'chocolate', 'darkorchid', 'darkcyan', 'palevioletred'])\n",
    "\n",
    "plt.xlabel('Gender', size = 16)\n",
    "\n",
    "plt.ylabel('Frequency', size = 16)\n",
    "\n",
    "plt.title('Marital Status by Gender', size = 18)\n",
    "\n",
    "plt.savefig('Marital_status_by_gender.png')\n",
    "\n",
    "\n",
    "\n",
    "plt.show()"
   ]
  },
  {
   "cell_type": "markdown",
   "id": "2f7aeef4",
   "metadata": {},
   "source": [
    "## Analyzing the Commutters"
   ]
  },
  {
   "cell_type": "code",
   "execution_count": 104,
   "id": "46e1d753",
   "metadata": {},
   "outputs": [],
   "source": [
    "census_df[\"Employment_Class\"] = \"\""
   ]
  },
  {
   "cell_type": "code",
   "execution_count": 105,
   "id": "93e1ca76",
   "metadata": {},
   "outputs": [],
   "source": [
    "census_df.loc[census_df.Occupation == \"Unemployed\", \"Employment_Class\"] = \"Unemployed\""
   ]
  },
  {
   "cell_type": "code",
   "execution_count": 106,
   "id": "752b012f",
   "metadata": {},
   "outputs": [],
   "source": [
    "census_df.loc[census_df.Occupation == 'Child', 'Employment_Class'] = \"Child\""
   ]
  },
  {
   "cell_type": "code",
   "execution_count": 107,
   "id": "b0941a77",
   "metadata": {},
   "outputs": [],
   "source": [
    "#updating the employment status \n",
    "census_df.loc[(census_df[\"Occupation\"] == \"Unemployed\") \n",
    "                      & (census_df[\"Age\"] > 65),\"Employment_Class\" ] = \"Retired\""
   ]
  },
  {
   "cell_type": "code",
   "execution_count": 108,
   "id": "794911ce",
   "metadata": {},
   "outputs": [],
   "source": [
    "census_df.loc[census_df.Occupation.str.contains(\"Retired\"), \"Employment_Class\"] = \"Retired\""
   ]
  },
  {
   "cell_type": "code",
   "execution_count": 109,
   "id": "6c6fe772",
   "metadata": {},
   "outputs": [],
   "source": [
    "#https://pandas.pydata.org/pandas-docs/stable/reference/api/pandas.Series.str.contains.html\n",
    "census_df.loc[census_df.Occupation.str.contains(\"University Student\"), \"Employment_Class\"] = \"University Student\""
   ]
  },
  {
   "cell_type": "code",
   "execution_count": 110,
   "id": "f3a70670",
   "metadata": {},
   "outputs": [],
   "source": [
    "#https://pandas.pydata.org/pandas-docs/stable/reference/api/pandas.Series.str.contains.html\n",
    "census_df.loc[census_df.Occupation.str.startswith(\"Student\"), \"Employment_Class\"] = \"Student\""
   ]
  },
  {
   "cell_type": "code",
   "execution_count": 111,
   "id": "dc7443d9",
   "metadata": {},
   "outputs": [],
   "source": [
    "census_df.loc[census_df.Occupation.str.contains(\"PhD Student\"), \"Employment_Class\"] = \"University Student\""
   ]
  },
  {
   "cell_type": "code",
   "execution_count": 112,
   "id": "3356032f",
   "metadata": {},
   "outputs": [],
   "source": [
    "census_df.loc[census_df.Employment_Class == \"\", \"Employment_Class\"] = \"Employed\""
   ]
  },
  {
   "cell_type": "code",
   "execution_count": null,
   "id": "afbb4e07",
   "metadata": {},
   "outputs": [],
   "source": [
    "census_df[census_df[\"Employment_Class\"] == \"Employed\"]"
   ]
  },
  {
   "cell_type": "code",
   "execution_count": 114,
   "id": "d0755608",
   "metadata": {
    "scrolled": true
   },
   "outputs": [],
   "source": [
    "\"\"\"\n",
    "\n",
    "With the information available, there is no means to accurately retrieve the number of commuters.\n",
    "However, the following assumptions would be made in addition to the known fact that University students......\n",
    "are commuters as there is no University in the town:\n",
    "1) Atleast 70% of employed individuals commute to either of the two big cities for work.\n",
    "2) Individuals with all forms of infirmities have to go the cities for special care once in a while.\n",
    "3) Other religions excluding those classified as Undecided and No Religion.....\n",
    "    have to go out of the town for worship as only catholics have a place of worship in the town.\n",
    "\n",
    "\"\"\"\n",
    "\n",
    "no_of_employed_commuters = census_df[\n",
    "    census_df[\"Employment_Class\"] == \"Employed\"][\"Employment_Class\"].count() * (70/100)\n",
    "\n",
    "no_of_unistudent_commuters = census_df[\n",
    "    census_df[\"Employment_Class\"] == 'University Student'][\"Employment_Class\"].count()\n",
    "\n",
    "no_of_infirmity_commuters = census_df[(census_df[\"Infirmity\"] != \"None\") & \n",
    "                                      (census_df[\"Employment_Class\"] != \"Employed\") \n",
    "                                      & (census_df[\"Employment_Class\"] != \"University Student\")][\"Employment_Class\"].count()\n",
    "\n",
    "no_of_religious_commuters = census_df[(census_df[\"Religion\"] != \"Catholic\") & (census_df[\"Religion\"] != \"Undecided\") \n",
    "          & (census_df[\"Religion\"] != \"No Religion\") \n",
    "          & (census_df[\"Employment_Class\"] != \"Employed\") & (census_df[\"Employment_Class\"] != \"University Student\")\n",
    "        & (census_df[\"Infirmity\"] == \"None\")][\"Religion\"].count()\n",
    "\n",
    "total_no_commuters = int(round((no_of_employed_commuters + no_of_unistudent_commuters + no_of_infirmity_commuters + no_of_religious_commuters), 0))"
   ]
  },
  {
   "cell_type": "code",
   "execution_count": 116,
   "id": "55918a44",
   "metadata": {},
   "outputs": [
    {
     "data": {
      "text/plain": [
       "4469"
      ]
     },
     "execution_count": 116,
     "metadata": {},
     "output_type": "execute_result"
    }
   ],
   "source": [
    "total_no_commuters"
   ]
  },
  {
   "cell_type": "code",
   "execution_count": 117,
   "id": "a77f3f59",
   "metadata": {},
   "outputs": [],
   "source": [
    "commuters_percentage = (total_no_commuters/census_df[\"Employment_Class\"].count()) *100"
   ]
  },
  {
   "cell_type": "code",
   "execution_count": 118,
   "id": "48bdb89f",
   "metadata": {},
   "outputs": [
    {
     "name": "stdout",
     "output_type": "stream",
     "text": [
      "Percentage of commuters: 52%\n"
     ]
    }
   ],
   "source": [
    "print( f\"Percentage of commuters: {round(commuters_percentage)}%\" )"
   ]
  },
  {
   "cell_type": "code",
   "execution_count": 119,
   "id": "75141667",
   "metadata": {
    "scrolled": true
   },
   "outputs": [
    {
     "data": {
      "image/png": "[encoded data removed]",
      "text/plain": [
       "<Figure size 800x500 with 1 Axes>"
      ]
     },
     "metadata": {},
     "output_type": "display_data"
    }
   ],
   "source": [
    "plt.figure(figsize=(8,5))\n",
    "total = float(len(census_df))\n",
    "employment_plot = sns.countplot(x=\"Employment_Class\", data=census_df)\n",
    "plt.title(\"Employment Status\", fontsize=20)\n",
    "for i in employment_plot.patches:\n",
    "    percentage = \"{:.1f}%\".format(100 * i.get_height()/total)\n",
    "    x = i.get_x() + i.get_width()\n",
    "    y = i.get_height()\n",
    "    employment_plot.annotate(percentage, (x, y),ha=\"center\")\n",
    "plt.show()"
   ]
  },
  {
   "cell_type": "code",
   "execution_count": 159,
   "id": "c9f95e5a",
   "metadata": {
    "scrolled": true
   },
   "outputs": [
    {
     "data": {
      "image/png": "[encoded data removed]",
      "text/plain": [
       "<Figure size 1000x800 with 1 Axes>"
      ]
     },
     "metadata": {},
     "output_type": "display_data"
    }
   ],
   "source": [
    "#color palette https://www.geeksforgeeks.org/how-to-use-seaborn-color-palette-to-color-boxplot/\n",
    "sns.boxplot(x=\"Age\", y=\"Employment_Class\", data=census_df,palette=\"Paired_r\")\n",
    "plt.title(\"Employment by Age\", fontsize=40)\n",
    "plt.savefig('employment_age_plt.png')\n",
    "plt.show()"
   ]
  },
  {
   "cell_type": "markdown",
   "id": "a01d5724",
   "metadata": {},
   "source": [
    "## Unemployment Trend"
   ]
  },
  {
   "cell_type": "code",
   "execution_count": 161,
   "id": "993825db",
   "metadata": {
    "scrolled": true
   },
   "outputs": [
    {
     "data": {
      "image/png": "[encoded data removed]",
      "text/plain": [
       "<Figure size 1000x800 with 1 Axes>"
      ]
     },
     "metadata": {},
     "output_type": "display_data"
    }
   ],
   "source": [
    "# Filter the data to include only unemployed individuals\n",
    "unemployment_df = census_df.loc[(census_df[\"Employment_Class\"] == \"Unemployed\")]\n",
    "\n",
    "# Group the data by age and count the number of unemployed individuals\n",
    "unemployment_by_age = unemployment_df.groupby(\"Age\").size()\n",
    "\n",
    "# Create a line plot to show the trend in unemployment\n",
    "plt.plot(unemployment_by_age.index, unemployment_by_age.values)\n",
    "plt.xlabel(\"Age\")\n",
    "plt.ylabel(\"Number of unemployed individuals\")\n",
    "plt.title(\"Unemployment trends\")\n",
    "plt.savefig('unemployment_trend_plt.png')\n",
    "plt.show()"
   ]
  },
  {
   "cell_type": "code",
   "execution_count": 122,
   "id": "7f670e95",
   "metadata": {},
   "outputs": [
    {
     "name": "stdout",
     "output_type": "stream",
     "text": [
      "The ages that are more likely to be unemployed  : 35-39\n"
     ]
    }
   ],
   "source": [
    "age_band_count = unemployment_df.groupby('Age Band')['Age Band'].count()\n",
    "age_band_high = age_band_count.idxmax()\n",
    "print(f\"The ages that are more likely to be unemployed  : {(age_band_high)}\")"
   ]
  },
  {
   "cell_type": "code",
   "execution_count": 123,
   "id": "10cdff9b",
   "metadata": {
    "scrolled": true
   },
   "outputs": [
    {
     "data": {
      "image/png": "[encoded data removed]",
      "text/plain": [
       "<Figure size 606x500 with 1 Axes>"
      ]
     },
     "metadata": {},
     "output_type": "display_data"
    }
   ],
   "source": [
    "sns.displot(data=unemployment_df, x = 'Age', hue = 'Gender',palette=\"rainbow_r\")\n",
    "plt.title(\"Plot Showing Age of Unemployed Individuals\");"
   ]
  },
  {
   "cell_type": "code",
   "execution_count": 124,
   "id": "28e2095b",
   "metadata": {},
   "outputs": [
    {
     "name": "stdout",
     "output_type": "stream",
     "text": [
      "Unemployment rate in the town is 9.28%\n"
     ]
    }
   ],
   "source": [
    "# Calculating Unemployment rate.\n",
    "\n",
    "# Number of unemployed individuals.\n",
    "\n",
    "unemployed_no = len(census_df[census_df[\"Employment_Class\"] == \"Unemployed\"])\n",
    "\n",
    "# Number of individuals who employed and unemployed.\n",
    "\n",
    "no_workforce = len(census_df[(census_df[\"Employment_Class\"] == \"Employed\") | (census_df[\"Employment_Class\"] == \"Unemployed\")])\n",
    "\n",
    "# Calculating unemployment rate.\n",
    "\n",
    "unemployment_rate = round((unemployed_no / no_workforce) * 100, 2)\n",
    "\n",
    "print(f\"Unemployment rate in the town is {unemployment_rate}%\")"
   ]
  },
  {
   "cell_type": "markdown",
   "id": "96de8f99",
   "metadata": {},
   "source": [
    "## Analyzing Occupancy Level"
   ]
  },
  {
   "cell_type": "code",
   "execution_count": null,
   "id": "9300a33f",
   "metadata": {},
   "outputs": [],
   "source": [
    "house_occupancy_df = census_df.groupby(['House Number', 'Street']).size().reset_index(name='Occupants Per House')\n",
    "house_occupancy_df"
   ]
  },
  {
   "cell_type": "code",
   "execution_count": 127,
   "id": "56177809",
   "metadata": {},
   "outputs": [],
   "source": [
    "house_occupancy_df['House Address'] = house_occupancy_df['House Number'].astype(str)+ ' ' + house_occupancy_df['Street']"
   ]
  },
  {
   "cell_type": "code",
   "execution_count": 128,
   "id": "867968d3",
   "metadata": {},
   "outputs": [],
   "source": [
    "densed_occupancy_df = house_occupancy_df.nlargest(n=20, columns=['Occupants Per House'])"
   ]
  },
  {
   "cell_type": "code",
   "execution_count": 129,
   "id": "a4506856",
   "metadata": {},
   "outputs": [
    {
     "data": {
      "text/html": [
       "<div>\n",
       "<style scoped>\n",
       "    .dataframe tbody tr th:only-of-type {\n",
       "        vertical-align: middle;\n",
       "    }\n",
       "\n",
       "    .dataframe tbody tr th {\n",
       "        vertical-align: top;\n",
       "    }\n",
       "\n",
       "    .dataframe thead th {\n",
       "        text-align: right;\n",
       "    }\n",
       "</style>\n",
       "<table border=\"1\" class=\"dataframe\">\n",
       "  <thead>\n",
       "    <tr style=\"text-align: right;\">\n",
       "      <th></th>\n",
       "      <th>House Number</th>\n",
       "      <th>Street</th>\n",
       "      <th>Occupants Per House</th>\n",
       "      <th>House Address</th>\n",
       "    </tr>\n",
       "  </thead>\n",
       "  <tbody>\n",
       "    <tr>\n",
       "      <th>329</th>\n",
       "      <td>4</td>\n",
       "      <td>Minster Road</td>\n",
       "      <td>17</td>\n",
       "      <td>4 Minster Road</td>\n",
       "    </tr>\n",
       "    <tr>\n",
       "      <th>622</th>\n",
       "      <td>7</td>\n",
       "      <td>Wilson Views</td>\n",
       "      <td>12</td>\n",
       "      <td>7 Wilson Views</td>\n",
       "    </tr>\n",
       "    <tr>\n",
       "      <th>667</th>\n",
       "      <td>8</td>\n",
       "      <td>Minster Road</td>\n",
       "      <td>12</td>\n",
       "      <td>8 Minster Road</td>\n",
       "    </tr>\n",
       "    <tr>\n",
       "      <th>1107</th>\n",
       "      <td>14</td>\n",
       "      <td>Minster Road</td>\n",
       "      <td>12</td>\n",
       "      <td>14 Minster Road</td>\n",
       "    </tr>\n",
       "    <tr>\n",
       "      <th>1660</th>\n",
       "      <td>25</td>\n",
       "      <td>Harvey Dale</td>\n",
       "      <td>12</td>\n",
       "      <td>25 Harvey Dale</td>\n",
       "    </tr>\n",
       "    <tr>\n",
       "      <th>1933</th>\n",
       "      <td>32</td>\n",
       "      <td>Harvey Dale</td>\n",
       "      <td>12</td>\n",
       "      <td>32 Harvey Dale</td>\n",
       "    </tr>\n",
       "    <tr>\n",
       "      <th>38</th>\n",
       "      <td>1</td>\n",
       "      <td>Iris Castle</td>\n",
       "      <td>11</td>\n",
       "      <td>1 Iris Castle</td>\n",
       "    </tr>\n",
       "    <tr>\n",
       "      <th>58</th>\n",
       "      <td>1</td>\n",
       "      <td>Norwich Bastion</td>\n",
       "      <td>11</td>\n",
       "      <td>1 Norwich Bastion</td>\n",
       "    </tr>\n",
       "    <tr>\n",
       "      <th>68</th>\n",
       "      <td>1</td>\n",
       "      <td>Reindeer Folly</td>\n",
       "      <td>11</td>\n",
       "      <td>1 Reindeer Folly</td>\n",
       "    </tr>\n",
       "    <tr>\n",
       "      <th>367</th>\n",
       "      <td>4</td>\n",
       "      <td>Wilson Views</td>\n",
       "      <td>11</td>\n",
       "      <td>4 Wilson Views</td>\n",
       "    </tr>\n",
       "  </tbody>\n",
       "</table>\n",
       "</div>"
      ],
      "text/plain": [
       "      House Number           Street  Occupants Per House      House Address\n",
       "329              4     Minster Road                   17     4 Minster Road\n",
       "622              7     Wilson Views                   12     7 Wilson Views\n",
       "667              8     Minster Road                   12     8 Minster Road\n",
       "1107            14     Minster Road                   12    14 Minster Road\n",
       "1660            25      Harvey Dale                   12     25 Harvey Dale\n",
       "1933            32      Harvey Dale                   12     32 Harvey Dale\n",
       "38               1      Iris Castle                   11      1 Iris Castle\n",
       "58               1  Norwich Bastion                   11  1 Norwich Bastion\n",
       "68               1   Reindeer Folly                   11   1 Reindeer Folly\n",
       "367              4     Wilson Views                   11     4 Wilson Views"
      ]
     },
     "execution_count": 129,
     "metadata": {},
     "output_type": "execute_result"
    }
   ],
   "source": [
    "#Top ten overused house\n",
    "densed_occupancy_df.head(10)\n"
   ]
  },
  {
   "cell_type": "code",
   "execution_count": 130,
   "id": "b22ae06a",
   "metadata": {},
   "outputs": [],
   "source": [
    "#Top ten under-utilised house\n",
    "low_occupancy_df = house_occupancy_df.nsmallest(n=20, columns=['Occupants Per House'])"
   ]
  },
  {
   "cell_type": "code",
   "execution_count": 131,
   "id": "5ded383a",
   "metadata": {},
   "outputs": [],
   "source": [
    "#Creating a new attribute name 'House Address'\n",
    "low_occupancy_df['House Address'] = low_occupancy_df['House Number'].astype(str) + ' ' + low_occupancy_df['Street']"
   ]
  },
  {
   "cell_type": "code",
   "execution_count": 132,
   "id": "6b8b960b",
   "metadata": {},
   "outputs": [
    {
     "data": {
      "text/html": [
       "<div>\n",
       "<style scoped>\n",
       "    .dataframe tbody tr th:only-of-type {\n",
       "        vertical-align: middle;\n",
       "    }\n",
       "\n",
       "    .dataframe tbody tr th {\n",
       "        vertical-align: top;\n",
       "    }\n",
       "\n",
       "    .dataframe thead th {\n",
       "        text-align: right;\n",
       "    }\n",
       "</style>\n",
       "<table border=\"1\" class=\"dataframe\">\n",
       "  <thead>\n",
       "    <tr style=\"text-align: right;\">\n",
       "      <th></th>\n",
       "      <th>House Number</th>\n",
       "      <th>Street</th>\n",
       "      <th>Occupants Per House</th>\n",
       "      <th>House Address</th>\n",
       "    </tr>\n",
       "  </thead>\n",
       "  <tbody>\n",
       "    <tr>\n",
       "      <th>11</th>\n",
       "      <td>1</td>\n",
       "      <td>Chapman Trace</td>\n",
       "      <td>1</td>\n",
       "      <td>1 Chapman Trace</td>\n",
       "    </tr>\n",
       "    <tr>\n",
       "      <th>12</th>\n",
       "      <td>1</td>\n",
       "      <td>Charity Road</td>\n",
       "      <td>1</td>\n",
       "      <td>1 Charity Road</td>\n",
       "    </tr>\n",
       "    <tr>\n",
       "      <th>17</th>\n",
       "      <td>1</td>\n",
       "      <td>Coconut Keys</td>\n",
       "      <td>1</td>\n",
       "      <td>1 Coconut Keys</td>\n",
       "    </tr>\n",
       "    <tr>\n",
       "      <th>20</th>\n",
       "      <td>1</td>\n",
       "      <td>Davies Rapids</td>\n",
       "      <td>1</td>\n",
       "      <td>1 Davies Rapids</td>\n",
       "    </tr>\n",
       "    <tr>\n",
       "      <th>23</th>\n",
       "      <td>1</td>\n",
       "      <td>Dunn Spur</td>\n",
       "      <td>1</td>\n",
       "      <td>1 Dunn Spur</td>\n",
       "    </tr>\n",
       "    <tr>\n",
       "      <th>30</th>\n",
       "      <td>1</td>\n",
       "      <td>Gill Hill</td>\n",
       "      <td>1</td>\n",
       "      <td>1 Gill Hill</td>\n",
       "    </tr>\n",
       "    <tr>\n",
       "      <th>31</th>\n",
       "      <td>1</td>\n",
       "      <td>Goldfinch Avenue</td>\n",
       "      <td>1</td>\n",
       "      <td>1 Goldfinch Avenue</td>\n",
       "    </tr>\n",
       "    <tr>\n",
       "      <th>34</th>\n",
       "      <td>1</td>\n",
       "      <td>Howarth Drive</td>\n",
       "      <td>1</td>\n",
       "      <td>1 Howarth Drive</td>\n",
       "    </tr>\n",
       "    <tr>\n",
       "      <th>36</th>\n",
       "      <td>1</td>\n",
       "      <td>Humphreys Farmhouse</td>\n",
       "      <td>1</td>\n",
       "      <td>1 Humphreys Farmhouse</td>\n",
       "    </tr>\n",
       "    <tr>\n",
       "      <th>39</th>\n",
       "      <td>1</td>\n",
       "      <td>Iron Point</td>\n",
       "      <td>1</td>\n",
       "      <td>1 Iron Point</td>\n",
       "    </tr>\n",
       "  </tbody>\n",
       "</table>\n",
       "</div>"
      ],
      "text/plain": [
       "    House Number               Street  Occupants Per House  \\\n",
       "11             1        Chapman Trace                    1   \n",
       "12             1         Charity Road                    1   \n",
       "17             1         Coconut Keys                    1   \n",
       "20             1        Davies Rapids                    1   \n",
       "23             1            Dunn Spur                    1   \n",
       "30             1            Gill Hill                    1   \n",
       "31             1     Goldfinch Avenue                    1   \n",
       "34             1        Howarth Drive                    1   \n",
       "36             1  Humphreys Farmhouse                    1   \n",
       "39             1           Iron Point                    1   \n",
       "\n",
       "            House Address  \n",
       "11        1 Chapman Trace  \n",
       "12         1 Charity Road  \n",
       "17         1 Coconut Keys  \n",
       "20        1 Davies Rapids  \n",
       "23            1 Dunn Spur  \n",
       "30            1 Gill Hill  \n",
       "31     1 Goldfinch Avenue  \n",
       "34        1 Howarth Drive  \n",
       "36  1 Humphreys Farmhouse  \n",
       "39           1 Iron Point  "
      ]
     },
     "execution_count": 132,
     "metadata": {},
     "output_type": "execute_result"
    }
   ],
   "source": [
    "#Top ten underutilised house\n",
    "low_occupancy_df.head(10)"
   ]
  },
  {
   "cell_type": "code",
   "execution_count": 133,
   "id": "6cf22a4f",
   "metadata": {},
   "outputs": [
    {
     "data": {
      "text/plain": [
       "3.0"
      ]
     },
     "execution_count": 133,
     "metadata": {},
     "output_type": "execute_result"
    }
   ],
   "source": [
    "# Computing the average occupancy of the houses\n",
    "avg_occupancy_df = house_occupancy_df['Occupants Per House'].median()\n",
    "avg_occupancy_df"
   ]
  },
  {
   "cell_type": "code",
   "execution_count": 134,
   "id": "f8fa3ffa",
   "metadata": {},
   "outputs": [],
   "source": [
    "#Find the difference between the average occupancy and the number of people who are\n",
    "#actually living in a given house\n",
    "house_occupancy_df['Occupancy Difference'] = avg_occupancy_df - house_occupancy_df['Occupants Per House']"
   ]
  },
  {
   "cell_type": "code",
   "execution_count": null,
   "id": "a6b2b5f9",
   "metadata": {},
   "outputs": [],
   "source": [
    "house_occupancy_df"
   ]
  },
  {
   "cell_type": "code",
   "execution_count": 136,
   "id": "08456900",
   "metadata": {},
   "outputs": [
    {
     "data": {
      "text/plain": [
       "938"
      ]
     },
     "execution_count": 136,
     "metadata": {},
     "output_type": "execute_result"
    }
   ],
   "source": [
    "no_dense_occupied_houses = house_occupancy_df.loc[(house_occupancy_df['Occupants Per House'] > avg_occupancy_df)].shape[0]\n",
    "no_dense_occupied_houses"
   ]
  },
  {
   "cell_type": "code",
   "execution_count": 137,
   "id": "437bfc88",
   "metadata": {},
   "outputs": [],
   "source": [
    "#Creating new attribute.\n",
    "census_df['House Address'] = census_df['House Number'].astype(str)+ ' ' + census_df['Street']"
   ]
  },
  {
   "cell_type": "code",
   "execution_count": 138,
   "id": "4b27b1d5",
   "metadata": {
    "scrolled": true
   },
   "outputs": [
    {
     "data": {
      "text/html": [
       "<div>\n",
       "<style scoped>\n",
       "    .dataframe tbody tr th:only-of-type {\n",
       "        vertical-align: middle;\n",
       "    }\n",
       "\n",
       "    .dataframe tbody tr th {\n",
       "        vertical-align: top;\n",
       "    }\n",
       "\n",
       "    .dataframe thead th {\n",
       "        text-align: right;\n",
       "    }\n",
       "</style>\n",
       "<table border=\"1\" class=\"dataframe\">\n",
       "  <thead>\n",
       "    <tr style=\"text-align: right;\">\n",
       "      <th></th>\n",
       "      <th>House Number</th>\n",
       "      <th>Street</th>\n",
       "      <th>First Name</th>\n",
       "      <th>Surname</th>\n",
       "      <th>Age</th>\n",
       "      <th>Relationship to Head of House</th>\n",
       "      <th>Marital Status</th>\n",
       "      <th>Gender</th>\n",
       "      <th>Occupation</th>\n",
       "      <th>Infirmity</th>\n",
       "      <th>Religion</th>\n",
       "      <th>Age Band</th>\n",
       "      <th>Employment_Class</th>\n",
       "      <th>House Address</th>\n",
       "    </tr>\n",
       "  </thead>\n",
       "  <tbody>\n",
       "    <tr>\n",
       "      <th>6755</th>\n",
       "      <td>4</td>\n",
       "      <td>Minster Road</td>\n",
       "      <td>Rachael</td>\n",
       "      <td>Hurst</td>\n",
       "      <td>48</td>\n",
       "      <td>Head</td>\n",
       "      <td>Divorced</td>\n",
       "      <td>Female</td>\n",
       "      <td>Unemployed</td>\n",
       "      <td>None</td>\n",
       "      <td>Christian</td>\n",
       "      <td>45-49</td>\n",
       "      <td>Unemployed</td>\n",
       "      <td>4 Minster Road</td>\n",
       "    </tr>\n",
       "    <tr>\n",
       "      <th>6756</th>\n",
       "      <td>4</td>\n",
       "      <td>Minster Road</td>\n",
       "      <td>Joanna</td>\n",
       "      <td>Hurst</td>\n",
       "      <td>16</td>\n",
       "      <td>Daughter</td>\n",
       "      <td>Single</td>\n",
       "      <td>Female</td>\n",
       "      <td>Student</td>\n",
       "      <td>None</td>\n",
       "      <td>Undecided</td>\n",
       "      <td>15-19</td>\n",
       "      <td>Student</td>\n",
       "      <td>4 Minster Road</td>\n",
       "    </tr>\n",
       "    <tr>\n",
       "      <th>6757</th>\n",
       "      <td>4</td>\n",
       "      <td>Minster Road</td>\n",
       "      <td>Jasmine</td>\n",
       "      <td>Hurst</td>\n",
       "      <td>13</td>\n",
       "      <td>Daughter</td>\n",
       "      <td>Minor</td>\n",
       "      <td>Female</td>\n",
       "      <td>Student</td>\n",
       "      <td>None</td>\n",
       "      <td>Undecided</td>\n",
       "      <td>10-14</td>\n",
       "      <td>Student</td>\n",
       "      <td>4 Minster Road</td>\n",
       "    </tr>\n",
       "    <tr>\n",
       "      <th>6758</th>\n",
       "      <td>4</td>\n",
       "      <td>Minster Road</td>\n",
       "      <td>Aimee</td>\n",
       "      <td>Hurst</td>\n",
       "      <td>10</td>\n",
       "      <td>Daughter</td>\n",
       "      <td>Minor</td>\n",
       "      <td>Female</td>\n",
       "      <td>Student</td>\n",
       "      <td>None</td>\n",
       "      <td>Undecided</td>\n",
       "      <td>10-14</td>\n",
       "      <td>Student</td>\n",
       "      <td>4 Minster Road</td>\n",
       "    </tr>\n",
       "    <tr>\n",
       "      <th>6759</th>\n",
       "      <td>4</td>\n",
       "      <td>Minster Road</td>\n",
       "      <td>Gillian</td>\n",
       "      <td>Ellis-Hurst</td>\n",
       "      <td>6</td>\n",
       "      <td>Daughter</td>\n",
       "      <td>Minor</td>\n",
       "      <td>Female</td>\n",
       "      <td>Student</td>\n",
       "      <td>None</td>\n",
       "      <td>Undecided</td>\n",
       "      <td>5-9</td>\n",
       "      <td>Student</td>\n",
       "      <td>4 Minster Road</td>\n",
       "    </tr>\n",
       "    <tr>\n",
       "      <th>6760</th>\n",
       "      <td>4</td>\n",
       "      <td>Minster Road</td>\n",
       "      <td>Joyce</td>\n",
       "      <td>Ellis-Hurst</td>\n",
       "      <td>5</td>\n",
       "      <td>Daughter</td>\n",
       "      <td>Minor</td>\n",
       "      <td>Female</td>\n",
       "      <td>Student</td>\n",
       "      <td>None</td>\n",
       "      <td>Undecided</td>\n",
       "      <td>5-9</td>\n",
       "      <td>Student</td>\n",
       "      <td>4 Minster Road</td>\n",
       "    </tr>\n",
       "    <tr>\n",
       "      <th>6761</th>\n",
       "      <td>4</td>\n",
       "      <td>Minster Road</td>\n",
       "      <td>Bruce</td>\n",
       "      <td>Ellis-Hurst</td>\n",
       "      <td>5</td>\n",
       "      <td>Son</td>\n",
       "      <td>Minor</td>\n",
       "      <td>Male</td>\n",
       "      <td>Student</td>\n",
       "      <td>None</td>\n",
       "      <td>Undecided</td>\n",
       "      <td>5-9</td>\n",
       "      <td>Student</td>\n",
       "      <td>4 Minster Road</td>\n",
       "    </tr>\n",
       "    <tr>\n",
       "      <th>6762</th>\n",
       "      <td>4</td>\n",
       "      <td>Minster Road</td>\n",
       "      <td>Amy</td>\n",
       "      <td>Ellis-Hurst</td>\n",
       "      <td>1</td>\n",
       "      <td>Daughter</td>\n",
       "      <td>Minor</td>\n",
       "      <td>Female</td>\n",
       "      <td>Child</td>\n",
       "      <td>None</td>\n",
       "      <td>Undecided</td>\n",
       "      <td>0-4</td>\n",
       "      <td>Child</td>\n",
       "      <td>4 Minster Road</td>\n",
       "    </tr>\n",
       "    <tr>\n",
       "      <th>6763</th>\n",
       "      <td>4</td>\n",
       "      <td>Minster Road</td>\n",
       "      <td>Leigh</td>\n",
       "      <td>Ellis-Hurst</td>\n",
       "      <td>0</td>\n",
       "      <td>Son</td>\n",
       "      <td>Minor</td>\n",
       "      <td>Male</td>\n",
       "      <td>Child</td>\n",
       "      <td>None</td>\n",
       "      <td>Undecided</td>\n",
       "      <td>0-4</td>\n",
       "      <td>Child</td>\n",
       "      <td>4 Minster Road</td>\n",
       "    </tr>\n",
       "    <tr>\n",
       "      <th>6764</th>\n",
       "      <td>4</td>\n",
       "      <td>Minster Road</td>\n",
       "      <td>Angela</td>\n",
       "      <td>Phillips</td>\n",
       "      <td>60</td>\n",
       "      <td>Lodger</td>\n",
       "      <td>Single</td>\n",
       "      <td>Female</td>\n",
       "      <td>Financial risk analyst</td>\n",
       "      <td>None</td>\n",
       "      <td>No Religion</td>\n",
       "      <td>60-64</td>\n",
       "      <td>Employed</td>\n",
       "      <td>4 Minster Road</td>\n",
       "    </tr>\n",
       "    <tr>\n",
       "      <th>6765</th>\n",
       "      <td>4</td>\n",
       "      <td>Minster Road</td>\n",
       "      <td>Benjamin</td>\n",
       "      <td>Bennett</td>\n",
       "      <td>48</td>\n",
       "      <td>Lodger</td>\n",
       "      <td>Single</td>\n",
       "      <td>Male</td>\n",
       "      <td>Town planner</td>\n",
       "      <td>None</td>\n",
       "      <td>Methodist</td>\n",
       "      <td>45-49</td>\n",
       "      <td>Employed</td>\n",
       "      <td>4 Minster Road</td>\n",
       "    </tr>\n",
       "    <tr>\n",
       "      <th>6766</th>\n",
       "      <td>4</td>\n",
       "      <td>Minster Road</td>\n",
       "      <td>Eleanor</td>\n",
       "      <td>Burrows</td>\n",
       "      <td>40</td>\n",
       "      <td>Lodger</td>\n",
       "      <td>Single</td>\n",
       "      <td>Female</td>\n",
       "      <td>Archivist</td>\n",
       "      <td>None</td>\n",
       "      <td>Catholic</td>\n",
       "      <td>40-44</td>\n",
       "      <td>Employed</td>\n",
       "      <td>4 Minster Road</td>\n",
       "    </tr>\n",
       "    <tr>\n",
       "      <th>6767</th>\n",
       "      <td>4</td>\n",
       "      <td>Minster Road</td>\n",
       "      <td>Oliver</td>\n",
       "      <td>Bryan</td>\n",
       "      <td>58</td>\n",
       "      <td>Lodger</td>\n",
       "      <td>Single</td>\n",
       "      <td>Male</td>\n",
       "      <td>Unemployed</td>\n",
       "      <td>None</td>\n",
       "      <td>Methodist</td>\n",
       "      <td>55-59</td>\n",
       "      <td>Unemployed</td>\n",
       "      <td>4 Minster Road</td>\n",
       "    </tr>\n",
       "    <tr>\n",
       "      <th>6768</th>\n",
       "      <td>4</td>\n",
       "      <td>Minster Road</td>\n",
       "      <td>Eric</td>\n",
       "      <td>Williams</td>\n",
       "      <td>29</td>\n",
       "      <td>Lodger</td>\n",
       "      <td>Divorced</td>\n",
       "      <td>Male</td>\n",
       "      <td>Clinical embryologist</td>\n",
       "      <td>None</td>\n",
       "      <td>Christian</td>\n",
       "      <td>25-29</td>\n",
       "      <td>Employed</td>\n",
       "      <td>4 Minster Road</td>\n",
       "    </tr>\n",
       "    <tr>\n",
       "      <th>6769</th>\n",
       "      <td>4</td>\n",
       "      <td>Minster Road</td>\n",
       "      <td>Jodie</td>\n",
       "      <td>Edwards</td>\n",
       "      <td>55</td>\n",
       "      <td>Visitor</td>\n",
       "      <td>Single</td>\n",
       "      <td>Female</td>\n",
       "      <td>Stage manager</td>\n",
       "      <td>None</td>\n",
       "      <td>Methodist</td>\n",
       "      <td>55-59</td>\n",
       "      <td>Employed</td>\n",
       "      <td>4 Minster Road</td>\n",
       "    </tr>\n",
       "    <tr>\n",
       "      <th>6770</th>\n",
       "      <td>4</td>\n",
       "      <td>Minster Road</td>\n",
       "      <td>Elizabeth</td>\n",
       "      <td>Hall</td>\n",
       "      <td>42</td>\n",
       "      <td>Lodger</td>\n",
       "      <td>Single</td>\n",
       "      <td>Female</td>\n",
       "      <td>Private music teacher</td>\n",
       "      <td>None</td>\n",
       "      <td>Methodist</td>\n",
       "      <td>40-44</td>\n",
       "      <td>Employed</td>\n",
       "      <td>4 Minster Road</td>\n",
       "    </tr>\n",
       "    <tr>\n",
       "      <th>6771</th>\n",
       "      <td>4</td>\n",
       "      <td>Minster Road</td>\n",
       "      <td>Ross</td>\n",
       "      <td>Gardner</td>\n",
       "      <td>60</td>\n",
       "      <td>Lodger</td>\n",
       "      <td>Single</td>\n",
       "      <td>Male</td>\n",
       "      <td>Field seismologist</td>\n",
       "      <td>None</td>\n",
       "      <td>Christian</td>\n",
       "      <td>60-64</td>\n",
       "      <td>Employed</td>\n",
       "      <td>4 Minster Road</td>\n",
       "    </tr>\n",
       "  </tbody>\n",
       "</table>\n",
       "</div>"
      ],
      "text/plain": [
       "      House Number        Street First Name      Surname  Age  \\\n",
       "6755             4  Minster Road    Rachael        Hurst   48   \n",
       "6756             4  Minster Road     Joanna        Hurst   16   \n",
       "6757             4  Minster Road    Jasmine        Hurst   13   \n",
       "6758             4  Minster Road      Aimee        Hurst   10   \n",
       "6759             4  Minster Road    Gillian  Ellis-Hurst    6   \n",
       "6760             4  Minster Road      Joyce  Ellis-Hurst    5   \n",
       "6761             4  Minster Road      Bruce  Ellis-Hurst    5   \n",
       "6762             4  Minster Road        Amy  Ellis-Hurst    1   \n",
       "6763             4  Minster Road      Leigh  Ellis-Hurst    0   \n",
       "6764             4  Minster Road     Angela     Phillips   60   \n",
       "6765             4  Minster Road   Benjamin      Bennett   48   \n",
       "6766             4  Minster Road    Eleanor      Burrows   40   \n",
       "6767             4  Minster Road     Oliver        Bryan   58   \n",
       "6768             4  Minster Road       Eric     Williams   29   \n",
       "6769             4  Minster Road      Jodie      Edwards   55   \n",
       "6770             4  Minster Road  Elizabeth         Hall   42   \n",
       "6771             4  Minster Road       Ross      Gardner   60   \n",
       "\n",
       "     Relationship to Head of House Marital Status  Gender  \\\n",
       "6755                          Head       Divorced  Female   \n",
       "6756                      Daughter         Single  Female   \n",
       "6757                      Daughter          Minor  Female   \n",
       "6758                      Daughter          Minor  Female   \n",
       "6759                      Daughter          Minor  Female   \n",
       "6760                      Daughter          Minor  Female   \n",
       "6761                           Son          Minor    Male   \n",
       "6762                      Daughter          Minor  Female   \n",
       "6763                           Son          Minor    Male   \n",
       "6764                        Lodger         Single  Female   \n",
       "6765                        Lodger         Single    Male   \n",
       "6766                        Lodger         Single  Female   \n",
       "6767                        Lodger         Single    Male   \n",
       "6768                        Lodger       Divorced    Male   \n",
       "6769                       Visitor         Single  Female   \n",
       "6770                        Lodger         Single  Female   \n",
       "6771                        Lodger         Single    Male   \n",
       "\n",
       "                  Occupation Infirmity     Religion Age Band Employment_Class  \\\n",
       "6755              Unemployed      None    Christian    45-49       Unemployed   \n",
       "6756                 Student      None    Undecided    15-19          Student   \n",
       "6757                 Student      None    Undecided    10-14          Student   \n",
       "6758                 Student      None    Undecided    10-14          Student   \n",
       "6759                 Student      None    Undecided      5-9          Student   \n",
       "6760                 Student      None    Undecided      5-9          Student   \n",
       "6761                 Student      None    Undecided      5-9          Student   \n",
       "6762                   Child      None    Undecided      0-4            Child   \n",
       "6763                   Child      None    Undecided      0-4            Child   \n",
       "6764  Financial risk analyst      None  No Religion    60-64         Employed   \n",
       "6765            Town planner      None    Methodist    45-49         Employed   \n",
       "6766               Archivist      None     Catholic    40-44         Employed   \n",
       "6767              Unemployed      None    Methodist    55-59       Unemployed   \n",
       "6768   Clinical embryologist      None    Christian    25-29         Employed   \n",
       "6769           Stage manager      None    Methodist    55-59         Employed   \n",
       "6770   Private music teacher      None    Methodist    40-44         Employed   \n",
       "6771      Field seismologist      None    Christian    60-64         Employed   \n",
       "\n",
       "       House Address  \n",
       "6755  4 Minster Road  \n",
       "6756  4 Minster Road  \n",
       "6757  4 Minster Road  \n",
       "6758  4 Minster Road  \n",
       "6759  4 Minster Road  \n",
       "6760  4 Minster Road  \n",
       "6761  4 Minster Road  \n",
       "6762  4 Minster Road  \n",
       "6763  4 Minster Road  \n",
       "6764  4 Minster Road  \n",
       "6765  4 Minster Road  \n",
       "6766  4 Minster Road  \n",
       "6767  4 Minster Road  \n",
       "6768  4 Minster Road  \n",
       "6769  4 Minster Road  \n",
       "6770  4 Minster Road  \n",
       "6771  4 Minster Road  "
      ]
     },
     "execution_count": 138,
     "metadata": {},
     "output_type": "execute_result"
    }
   ],
   "source": [
    "census_df.loc[(census_df['House Address'] == '4 Minster Road') \n",
    "                     & (census_df['House Number'] == 4)]"
   ]
  },
  {
   "cell_type": "code",
   "execution_count": 139,
   "id": "0b4b2a29",
   "metadata": {
    "scrolled": true
   },
   "outputs": [
    {
     "name": "stdout",
     "output_type": "stream",
     "text": [
      "No of households with lodgers living with them: 390\n"
     ]
    }
   ],
   "source": [
    "lodgers_stat = census_df[census_df['Relationship to Head of House'] == 'Lodger'].groupby('House Address')['Surname'].nunique()\n",
    "print(\"No of households with lodgers living with them:\", len(lodgers_stat))"
   ]
  },
  {
   "cell_type": "markdown",
   "id": "f861885b",
   "metadata": {},
   "source": [
    "## Birth Rate"
   ]
  },
  {
   "cell_type": "code",
   "execution_count": 140,
   "id": "0c7363de",
   "metadata": {},
   "outputs": [
    {
     "name": "stdout",
     "output_type": "stream",
     "text": [
      "Current birth rate per 100000: 4565\n"
     ]
    }
   ],
   "source": [
    "#Computing the current birth rate \n",
    "no_babies = census_df[census_df[\"Age\"].between(0, 1)][\"Age\"].count()\n",
    "#obtaining the number of women aged 18-45 would have given birth to the babies aged 0-1\n",
    "#https://www.ons.gov.uk/peoplepopulationandcommunity/birthsdeathsandmarriages/conceptionandfertilityrates\n",
    "no_mothers_babies = census_df[census_df[\"Age\"].between(18, 45)][\"Age\"].count()\n",
    "current_birthrate =  round((no_babies/no_mothers_babies)*100000)\n",
    "print( f\"Current birth rate per 100000: {current_birthrate}\" )"
   ]
  },
  {
   "cell_type": "code",
   "execution_count": 141,
   "id": "b2218f9b",
   "metadata": {},
   "outputs": [
    {
     "name": "stdout",
     "output_type": "stream",
     "text": [
      "The birth rate per 100000 five years ago is : 6917\n"
     ]
    }
   ],
   "source": [
    "#Computing the birth rate five years ago\n",
    "no_babies_5years_ago = census_df[census_df[\"Age\"].between(5, 6)][\"Age\"].count()\n",
    "#obtaining the number of women aged 23-50 would have given birth to the babies aged 5-6\n",
    "no_mothers_babies_5years_ago = census_df[census_df[\"Age\"].between(23, 50)][\"Age\"].count()\n",
    "birth_rate_5years_ago =  round((no_babies_5years_ago/no_mothers_babies_5years_ago)*100000)\n",
    "print( f\"The birth rate per 100000 five years ago is : {birth_rate_5years_ago}\" )"
   ]
  },
  {
   "cell_type": "code",
   "execution_count": 142,
   "id": "6f1fc65b",
   "metadata": {},
   "outputs": [
    {
     "name": "stdout",
     "output_type": "stream",
     "text": [
      "The birth rate per 100000 ten years ago is : 7356\n"
     ]
    }
   ],
   "source": [
    "#Computing the birth rate 10 years ago\n",
    "no_babies_10years_ago = census_df[census_df[\"Age\"].between(10, 11)][\"Age\"].count()\n",
    "#obtaining the number of women aged 28-55 would have given birth to the babies aged 10-11\n",
    "no_mothers_babies_10years_ago = census_df[census_df[\"Age\"].between(28, 55)][\"Age\"].count()\n",
    "birth_rate_10years_ago =  round((no_babies_10years_ago/no_mothers_babies_10years_ago)*100000)\n",
    "print( f\"The birth rate per 100000 ten years ago is : {birth_rate_10years_ago}\" )"
   ]
  },
  {
   "cell_type": "code",
   "execution_count": 143,
   "id": "8e5ee769",
   "metadata": {},
   "outputs": [
    {
     "name": "stdout",
     "output_type": "stream",
     "text": [
      "The birth rate per 100000 fifteen years ago is : 7634\n"
     ]
    }
   ],
   "source": [
    "#Computing the birth rate 15 years ago\n",
    "no_babies_15years_ago = census_df[census_df[\"Age\"].between(15, 16)][\"Age\"].count()\n",
    "#obtaining the number of women aged 33-58 would have given birth to the babies aged 15-16\n",
    "no_mothers_babies_15years_ago = census_df[census_df[\"Age\"].between(33, 58)][\"Age\"].count()\n",
    "birth_rate_15years_ago =  round((no_babies_15years_ago/no_mothers_babies_15years_ago)*100000)\n",
    "print( f\"The birth rate per 100000 fifteen years ago is : {birth_rate_15years_ago}\" )"
   ]
  },
  {
   "cell_type": "code",
   "execution_count": 144,
   "id": "9075c7bb",
   "metadata": {},
   "outputs": [
    {
     "name": "stdout",
     "output_type": "stream",
     "text": [
      "The birth rate per 100000 twenty years ago is : 24369\n"
     ]
    }
   ],
   "source": [
    "#Computing the birth rate 20 years ago\n",
    "no_babies_20years_ago = census_df[census_df[\"Age\"].between(20, 25)][\"Age\"].count()\n",
    "#obtaining the number of women aged 38-63 would have given birth to the babies aged 20-25\n",
    "no_mothers_babies_20years_ago = census_df[census_df[\"Age\"].between(38, 63)][\"Age\"].count()\n",
    "birth_rate_20years_ago =  round((no_babies_20years_ago/no_mothers_babies_20years_ago)*100000)\n",
    "print( f\"The birth rate per 100000 twenty years ago is : {birth_rate_20years_ago}\" )"
   ]
  },
  {
   "cell_type": "code",
   "execution_count": 145,
   "id": "a4811313",
   "metadata": {},
   "outputs": [
    {
     "data": {
      "text/html": [
       "<div>\n",
       "<style scoped>\n",
       "    .dataframe tbody tr th:only-of-type {\n",
       "        vertical-align: middle;\n",
       "    }\n",
       "\n",
       "    .dataframe tbody tr th {\n",
       "        vertical-align: top;\n",
       "    }\n",
       "\n",
       "    .dataframe thead th {\n",
       "        text-align: right;\n",
       "    }\n",
       "</style>\n",
       "<table border=\"1\" class=\"dataframe\">\n",
       "  <thead>\n",
       "    <tr style=\"text-align: right;\">\n",
       "      <th></th>\n",
       "      <th>Year</th>\n",
       "      <th>Birth Rate</th>\n",
       "    </tr>\n",
       "  </thead>\n",
       "  <tbody>\n",
       "    <tr>\n",
       "      <th>0</th>\n",
       "      <td>0</td>\n",
       "      <td>4565</td>\n",
       "    </tr>\n",
       "    <tr>\n",
       "      <th>1</th>\n",
       "      <td>5</td>\n",
       "      <td>6917</td>\n",
       "    </tr>\n",
       "    <tr>\n",
       "      <th>2</th>\n",
       "      <td>10</td>\n",
       "      <td>7356</td>\n",
       "    </tr>\n",
       "    <tr>\n",
       "      <th>3</th>\n",
       "      <td>15</td>\n",
       "      <td>7634</td>\n",
       "    </tr>\n",
       "    <tr>\n",
       "      <th>4</th>\n",
       "      <td>20</td>\n",
       "      <td>24369</td>\n",
       "    </tr>\n",
       "  </tbody>\n",
       "</table>\n",
       "</div>"
      ],
      "text/plain": [
       "   Year  Birth Rate\n",
       "0     0        4565\n",
       "1     5        6917\n",
       "2    10        7356\n",
       "3    15        7634\n",
       "4    20       24369"
      ]
     },
     "execution_count": 145,
     "metadata": {},
     "output_type": "execute_result"
    }
   ],
   "source": [
    "# Define some data\n",
    "birth_rate_list = {\n",
    "        'Year': [0, 5, 10, 15, 20],\n",
    "        'Birth Rate': [current_birthrate, birth_rate_5years_ago, birth_rate_10years_ago, birth_rate_15years_ago, birth_rate_20years_ago]}\n",
    "# Create the DataFrame\n",
    "birth_rate_df = pd.DataFrame(birth_rate_list)\n",
    "birth_rate_df"
   ]
  },
  {
   "cell_type": "code",
   "execution_count": 162,
   "id": "ae1592a5",
   "metadata": {},
   "outputs": [
    {
     "data": {
      "image/png": "[encoded data removed]",
      "text/plain": [
       "<Figure size 1000x800 with 1 Axes>"
      ]
     },
     "metadata": {},
     "output_type": "display_data"
    }
   ],
   "source": [
    "sns.set_style(\"whitegrid\")\n",
    "sns.lineplot(x=\"Year\", y=\"Birth Rate\", data=birth_rate_df, marker=\"o\")\n",
    "\n",
    "for index, row in birth_rate_df.iterrows():\n",
    "    plt.text(row['Year'], row['Birth Rate'], str(row['Birth Rate']))\n",
    "\n",
    "# Show the plot\n",
    "plt.gca().set_xlim(plt.gca().get_xlim()[::-1])\n",
    "plt.title(\"Declining Birth Rate per Year\")\n",
    "plt.savefig('birthrate.png')\n",
    "plt.show()"
   ]
  },
  {
   "cell_type": "code",
   "execution_count": 147,
   "id": "73ff4eef",
   "metadata": {},
   "outputs": [
    {
     "data": {
      "text/plain": [
       "1994"
      ]
     },
     "execution_count": 147,
     "metadata": {},
     "output_type": "execute_result"
    }
   ],
   "source": [
    "#crude_birth_rate per100000 = number of births/Total Population*100000\n",
    "crude_birth_rate= round((no_babies/census_df['Age'].count())*100000)\n",
    "crude_birth_rate"
   ]
  },
  {
   "cell_type": "markdown",
   "id": "5c816545",
   "metadata": {},
   "source": [
    "## Death Rate"
   ]
  },
  {
   "cell_type": "code",
   "execution_count": 148,
   "id": "7114e858",
   "metadata": {
    "scrolled": true
   },
   "outputs": [
    {
     "data": {
      "text/plain": [
       "['105+',\n",
       " '100-104',\n",
       " '95-99',\n",
       " '90-94',\n",
       " '85-89',\n",
       " '80-84',\n",
       " '75-79',\n",
       " '70-74',\n",
       " '65-69']"
      ]
     },
     "execution_count": 148,
     "metadata": {},
     "output_type": "execute_result"
    }
   ],
   "source": [
    "#get life expectancy age\n",
    "#https://www.ons.gov.uk/peoplepopulationandcommunity/birthsdeathsandmarriages/lifeexpectancies/bulletins/nationallifetablesunitedkingdom/2018to2020\n",
    "exp_age_65above = ageclass[:9]\n",
    "exp_age_65above"
   ]
  },
  {
   "cell_type": "code",
   "execution_count": 149,
   "id": "faee0acb",
   "metadata": {},
   "outputs": [
    {
     "name": "stdout",
     "output_type": "stream",
     "text": [
      "Death rate differential between older and younger group : [1.2, 2.0, 13.8, 17.0]\n",
      "The total death rate across all age groups in age_class_above_sixty is : 34\n"
     ]
    }
   ],
   "source": [
    "population_estimate = census_df.shape[0]\n",
    "ageBandStartIndex = 0\n",
    "ageBandEndIndex = 2\n",
    "ageband_death_diff__list = []\n",
    "deaths_per_year_list = []\n",
    "age_band_list = []\n",
    "for age_groups in range(round(len(exp_age_65above)/2)):\n",
    "    #print(age_class_above_sixty[ageBandStartIndex:ageBandEndIndex])\n",
    "    age_band_list.append(exp_age_65above[ageBandStartIndex:ageBandEndIndex])\n",
    "    ageBandStartIndex = ageBandStartIndex+ 2\n",
    "    ageBandEndIndex = ageBandEndIndex+ 2\n",
    "#print(age_band_list)\n",
    "for age_band in age_band_list:\n",
    "    ageband_death_diff__list.append((round(census_df[census_df['Age Band'] \n",
    "                                                               == age_band[1]]['Age Band'].count())\n",
    "                                        - round(census_df[census_df['Age Band'] \n",
    "                                                                 == age_band[0]]['Age Band'].count()))/5)  \n",
    "print(f\"Death rate differential between older and younger group : {ageband_death_diff__list}\")\n",
    "death_estimation = round((sum(ageband_death_diff__list)))\n",
    "print( f\"The total death rate across all age groups in age_class_above_sixty is : {death_estimation}\" )"
   ]
  },
  {
   "cell_type": "code",
   "execution_count": 150,
   "id": "2882ef03",
   "metadata": {},
   "outputs": [
    {
     "data": {
      "text/plain": [
       "396"
      ]
     },
     "execution_count": 150,
     "metadata": {},
     "output_type": "execute_result"
    }
   ],
   "source": [
    "crude_death_rate = round((death_estimation/population_estimate)*100000)\n",
    "crude_death_rate"
   ]
  },
  {
   "cell_type": "markdown",
   "id": "62a40879",
   "metadata": {},
   "source": [
    "## Analyzing Immigration and Emigration"
   ]
  },
  {
   "cell_type": "code",
   "execution_count": 151,
   "id": "0126b3f7",
   "metadata": {},
   "outputs": [
    {
     "name": "stdout",
     "output_type": "stream",
     "text": [
      "The number of immigration per hundred thousand  : 8896\n"
     ]
    }
   ],
   "source": [
    "#Getting the number of possible immigrants\n",
    "no_single_immigrants =census_df.loc[(census_df['Relationship to Head of House'] == 'Visitor') \n",
    "                   | (census_df['Relationship to Head of House'] == 'Lodger')\n",
    "                   & (census_df['Marital Status'] == 'Single')\n",
    "                   &(census_df['Age'] < 65)]['Relationship to Head of House'].count()\n",
    "no_single_immigrants = round(no_single_immigrants/census_df['Relationship to Head of House'].count() *100000)\n",
    "no_single_immigrants\n",
    "print( f\"The number of immigration per hundred thousand  : {no_single_immigrants}\" )"
   ]
  },
  {
   "cell_type": "code",
   "execution_count": 152,
   "id": "2138fede",
   "metadata": {},
   "outputs": [
    {
     "name": "stdout",
     "output_type": "stream",
     "text": [
      "The number of emigrated males per hundred thousand is : 735\n"
     ]
    }
   ],
   "source": [
    "#Getting the count of divorced males\n",
    "#Getting the number of possible immigrants\n",
    "no_male_divorcees =census_df.loc[(census_df['Relationship to Head of House'] == 'Visitor') \n",
    "                   | (census_df['Relationship to Head of House'] == 'Lodger')\n",
    "                   & (census_df['Marital Status'] == 'Divorced')\n",
    "                   & (census_df['Gender'] == 'Male')\n",
    "                   &(census_df['Age'] < 65)]['Relationship to Head of House'].count()\n",
    "no_male_divorcees = round(no_male_divorcees/census_df['Relationship to Head of House'].count() *100000)\n",
    "no_male_divorcees\n",
    "print( f\"The number of emigrated males per hundred thousand is : {no_male_divorcees}\" )"
   ]
  },
  {
   "cell_type": "code",
   "execution_count": 153,
   "id": "2fb243f6",
   "metadata": {},
   "outputs": [
    {
     "name": "stdout",
     "output_type": "stream",
     "text": [
      "The number of emigrated females per hundred thousand is : 676\n"
     ]
    }
   ],
   "source": [
    "#Getting the count of divorced males\n",
    "#Getting the number of possible immigrants\n",
    "no_female_divorcees =census_df.loc[(census_df['Relationship to Head of House'] == 'Visitor') \n",
    "                   | (census_df['Relationship to Head of House'] == 'Lodger')\n",
    "                   & (census_df['Marital Status'] == 'Divorced')\n",
    "                   & (census_df['Gender'] == 'Female')\n",
    "                   &(census_df['Age'] < 65)]['Relationship to Head of House'].count()\n",
    "no_female_divorcees = round(no_female_divorcees/census_df['Relationship to Head of House'].count() *100000)\n",
    "no_female_divorcees\n",
    "print( f\"The number of emigrated females per hundred thousand is : {no_female_divorcees}\" )"
   ]
  },
  {
   "cell_type": "code",
   "execution_count": 154,
   "id": "588ad15c",
   "metadata": {},
   "outputs": [
    {
     "name": "stdout",
     "output_type": "stream",
     "text": [
      "The number of emigrants per hundred thousand of the population is : 688\n"
     ]
    }
   ],
   "source": [
    "#There are more divorced male than female hence we can say that that some of the male divorcee has left the town\n",
    "no_emigrant = ((no_male_divorcees - no_female_divorcees)/(census_df.shape[0]))*100000\n",
    "print( f\"The number of emigrants per hundred thousand of the population is : {round(no_emigrant)}\" )"
   ]
  },
  {
   "cell_type": "markdown",
   "id": "33de7b32",
   "metadata": {},
   "source": [
    "## Examining the Divorce and Marriage Rate"
   ]
  },
  {
   "cell_type": "code",
   "execution_count": 155,
   "id": "0dd596c1",
   "metadata": {},
   "outputs": [],
   "source": [
    "no_marriages = census_df[census_df['Marital Status'] == 'Married']['Marital Status'].count()"
   ]
  },
  {
   "cell_type": "code",
   "execution_count": 156,
   "id": "5b273b8f",
   "metadata": {},
   "outputs": [
    {
     "name": "stdout",
     "output_type": "stream",
     "text": [
      "The crude marriage rate per hundred thousand people is : 60674\n"
     ]
    }
   ],
   "source": [
    "#crude marriage rate = (number of marriages/mid-year population) * 100000\n",
    "mid_year_population = census_df.shape[0]/2\n",
    "crude_marriage_rate = round((no_marriages/mid_year_population)* 100000)\n",
    "print( f\"The crude marriage rate per hundred thousand people is : {(crude_marriage_rate)}\" )"
   ]
  },
  {
   "cell_type": "code",
   "execution_count": 157,
   "id": "8b3661a9",
   "metadata": {},
   "outputs": [
    {
     "name": "stdout",
     "output_type": "stream",
     "text": [
      "The crude divorce rate per hundred thousand people is : 17559\n"
     ]
    }
   ],
   "source": [
    "#computing the crude divorce rate\n",
    "#crude marriage rate = (number of divorces/mid-year population) * 100000\n",
    "no_divorce = census_df[census_df['Marital Status'] == 'Divorced']['Marital Status'].count()\n",
    "crude_divorce_rate = round((no_divorce/mid_year_population)* 100000)\n",
    "print( f\"The crude divorce rate per hundred thousand people is : {(crude_divorce_rate)}\" )"
   ]
  },
  {
   "cell_type": "code",
   "execution_count": null,
   "id": "c6a61ee4",
   "metadata": {},
   "outputs": [],
   "source": []
  }
 ],
 "metadata": {
  "kernelspec": {
   "display_name": "Python 3 (ipykernel)",
   "language": "python",
   "name": "python3"
  },
  "language_info": {
   "codemirror_mode": {
    "name": "ipython",
    "version": 3
   },
   "file_extension": ".py",
   "mimetype": "text/x-python",
   "name": "python",
   "nbconvert_exporter": "python",
   "pygments_lexer": "ipython3",
   "version": "3.9.13"
  }
 },
 "nbformat": 4,
 "nbformat_minor": 5
}
